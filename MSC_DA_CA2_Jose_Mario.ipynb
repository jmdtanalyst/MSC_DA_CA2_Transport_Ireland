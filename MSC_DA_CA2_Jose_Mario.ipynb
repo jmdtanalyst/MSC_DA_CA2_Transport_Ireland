{
 "cells": [
  {
   "cell_type": "markdown",
   "id": "a8bd6125",
   "metadata": {
    "tags": []
   },
   "source": [
    "# Phase 1 -  Data Wrangling \n",
    "###  First we need to collect Data.\n",
    "# For  and explore each dataset, find any \"bad formatation\" or null value.\n"
   ]
  },
  {
   "cell_type": "code",
   "execution_count": 37,
   "id": "03a11f4d-758a-4d47-b72e-8a45bd397608",
   "metadata": {},
   "outputs": [],
   "source": [
    "import pandas as pd\n",
    "import os\n",
    "import plotly.express as px\n",
    "import matplotlib as plt\n",
    "import warnings\n",
    "\n",
    "warnings.filterwarnings(\"ignore\")"
   ]
  },
  {
   "cell_type": "markdown",
   "id": "9532e930",
   "metadata": {},
   "source": [
    "# Dublin Bikes"
   ]
  },
  {
   "cell_type": "code",
   "execution_count": 38,
   "id": "3bf89c8a-db73-48a9-bfba-badb18a712e9",
   "metadata": {},
   "outputs": [],
   "source": [
    "path = \"./\"\n",
    "files = [file for file in os.listdir(path) if file.startswith('dublinbike-historical-data-2023') ] # filtere only historical data files\n",
    "\n",
    "all_hist = pd.DataFrame()\n",
    "\n",
    "for file in files:\n",
    "    current_month = pd.read_csv(path+\"/\"+file)\n",
    "    all_hist = pd.concat([all_hist, current_month])\n",
    "\n"
   ]
  },
  {
   "cell_type": "code",
   "execution_count": 3,
   "id": "56841504",
   "metadata": {},
   "outputs": [
    {
     "data": {
      "text/html": [
       "<div>\n",
       "<style scoped>\n",
       "    .dataframe tbody tr th:only-of-type {\n",
       "        vertical-align: middle;\n",
       "    }\n",
       "\n",
       "    .dataframe tbody tr th {\n",
       "        vertical-align: top;\n",
       "    }\n",
       "\n",
       "    .dataframe thead th {\n",
       "        text-align: right;\n",
       "    }\n",
       "</style>\n",
       "<table border=\"1\" class=\"dataframe\">\n",
       "  <thead>\n",
       "    <tr style=\"text-align: right;\">\n",
       "      <th></th>\n",
       "      <th>STATION ID</th>\n",
       "      <th>TIME</th>\n",
       "      <th>LAST UPDATED</th>\n",
       "      <th>NAME</th>\n",
       "      <th>BIKE_STANDS</th>\n",
       "      <th>AVAILABLE_BIKE_STANDS</th>\n",
       "      <th>AVAILABLE_BIKES</th>\n",
       "      <th>STATUS</th>\n",
       "      <th>ADDRESS</th>\n",
       "      <th>LATITUDE</th>\n",
       "      <th>LONGITUDE</th>\n",
       "    </tr>\n",
       "  </thead>\n",
       "  <tbody>\n",
       "    <tr>\n",
       "      <th>0</th>\n",
       "      <td>1</td>\n",
       "      <td>2023-01-01 00:00:03</td>\n",
       "      <td>2022-12-31 23:59:39</td>\n",
       "      <td>CLARENDON ROW</td>\n",
       "      <td>31</td>\n",
       "      <td>31</td>\n",
       "      <td>0</td>\n",
       "      <td>OPEN</td>\n",
       "      <td>Clarendon Row</td>\n",
       "      <td>53.3409</td>\n",
       "      <td>-6.26250</td>\n",
       "    </tr>\n",
       "    <tr>\n",
       "      <th>1</th>\n",
       "      <td>2</td>\n",
       "      <td>2023-01-01 00:00:03</td>\n",
       "      <td>2022-12-31 23:57:48</td>\n",
       "      <td>BLESSINGTON STREET</td>\n",
       "      <td>20</td>\n",
       "      <td>18</td>\n",
       "      <td>2</td>\n",
       "      <td>OPEN</td>\n",
       "      <td>Blessington Street</td>\n",
       "      <td>53.3568</td>\n",
       "      <td>-6.26814</td>\n",
       "    </tr>\n",
       "    <tr>\n",
       "      <th>2</th>\n",
       "      <td>3</td>\n",
       "      <td>2023-01-01 00:00:03</td>\n",
       "      <td>2022-12-31 23:57:10</td>\n",
       "      <td>BOLTON STREET</td>\n",
       "      <td>20</td>\n",
       "      <td>9</td>\n",
       "      <td>11</td>\n",
       "      <td>OPEN</td>\n",
       "      <td>Bolton Street</td>\n",
       "      <td>53.3512</td>\n",
       "      <td>-6.26986</td>\n",
       "    </tr>\n",
       "    <tr>\n",
       "      <th>3</th>\n",
       "      <td>4</td>\n",
       "      <td>2023-01-01 00:00:03</td>\n",
       "      <td>2022-12-31 23:51:39</td>\n",
       "      <td>GREEK STREET</td>\n",
       "      <td>20</td>\n",
       "      <td>8</td>\n",
       "      <td>12</td>\n",
       "      <td>OPEN</td>\n",
       "      <td>Greek Street</td>\n",
       "      <td>53.3469</td>\n",
       "      <td>-6.27298</td>\n",
       "    </tr>\n",
       "    <tr>\n",
       "      <th>4</th>\n",
       "      <td>5</td>\n",
       "      <td>2023-01-01 00:00:03</td>\n",
       "      <td>2022-12-31 23:58:28</td>\n",
       "      <td>CHARLEMONT PLACE</td>\n",
       "      <td>40</td>\n",
       "      <td>16</td>\n",
       "      <td>24</td>\n",
       "      <td>OPEN</td>\n",
       "      <td>Charlemont Street</td>\n",
       "      <td>53.3307</td>\n",
       "      <td>-6.26018</td>\n",
       "    </tr>\n",
       "    <tr>\n",
       "      <th>5</th>\n",
       "      <td>6</td>\n",
       "      <td>2023-01-01 00:00:03</td>\n",
       "      <td>2022-12-31 23:52:38</td>\n",
       "      <td>CHRISTCHURCH PLACE</td>\n",
       "      <td>20</td>\n",
       "      <td>1</td>\n",
       "      <td>19</td>\n",
       "      <td>OPEN</td>\n",
       "      <td>Christchurch Place</td>\n",
       "      <td>53.3434</td>\n",
       "      <td>-6.27012</td>\n",
       "    </tr>\n",
       "    <tr>\n",
       "      <th>6</th>\n",
       "      <td>7</td>\n",
       "      <td>2023-01-01 00:00:03</td>\n",
       "      <td>2022-12-31 23:54:28</td>\n",
       "      <td>HIGH STREET</td>\n",
       "      <td>29</td>\n",
       "      <td>27</td>\n",
       "      <td>2</td>\n",
       "      <td>OPEN</td>\n",
       "      <td>High Street</td>\n",
       "      <td>53.3436</td>\n",
       "      <td>-6.27507</td>\n",
       "    </tr>\n",
       "    <tr>\n",
       "      <th>7</th>\n",
       "      <td>8</td>\n",
       "      <td>2023-01-01 00:00:03</td>\n",
       "      <td>2022-12-31 23:58:33</td>\n",
       "      <td>CUSTOM HOUSE QUAY</td>\n",
       "      <td>30</td>\n",
       "      <td>27</td>\n",
       "      <td>3</td>\n",
       "      <td>OPEN</td>\n",
       "      <td>Custom House Quay</td>\n",
       "      <td>53.3479</td>\n",
       "      <td>-6.24805</td>\n",
       "    </tr>\n",
       "    <tr>\n",
       "      <th>8</th>\n",
       "      <td>9</td>\n",
       "      <td>2023-01-01 00:00:03</td>\n",
       "      <td>2022-12-31 23:56:04</td>\n",
       "      <td>EXCHEQUER STREET</td>\n",
       "      <td>24</td>\n",
       "      <td>20</td>\n",
       "      <td>4</td>\n",
       "      <td>OPEN</td>\n",
       "      <td>Exchequer Street</td>\n",
       "      <td>53.3430</td>\n",
       "      <td>-6.26358</td>\n",
       "    </tr>\n",
       "    <tr>\n",
       "      <th>9</th>\n",
       "      <td>10</td>\n",
       "      <td>2023-01-01 00:00:03</td>\n",
       "      <td>2022-12-31 23:55:56</td>\n",
       "      <td>DAME STREET</td>\n",
       "      <td>16</td>\n",
       "      <td>1</td>\n",
       "      <td>14</td>\n",
       "      <td>OPEN</td>\n",
       "      <td>Dame Street</td>\n",
       "      <td>53.3440</td>\n",
       "      <td>-6.26680</td>\n",
       "    </tr>\n",
       "  </tbody>\n",
       "</table>\n",
       "</div>"
      ],
      "text/plain": [
       "   STATION ID                 TIME         LAST UPDATED                NAME  \\\n",
       "0           1  2023-01-01 00:00:03  2022-12-31 23:59:39       CLARENDON ROW   \n",
       "1           2  2023-01-01 00:00:03  2022-12-31 23:57:48  BLESSINGTON STREET   \n",
       "2           3  2023-01-01 00:00:03  2022-12-31 23:57:10       BOLTON STREET   \n",
       "3           4  2023-01-01 00:00:03  2022-12-31 23:51:39        GREEK STREET   \n",
       "4           5  2023-01-01 00:00:03  2022-12-31 23:58:28    CHARLEMONT PLACE   \n",
       "5           6  2023-01-01 00:00:03  2022-12-31 23:52:38  CHRISTCHURCH PLACE   \n",
       "6           7  2023-01-01 00:00:03  2022-12-31 23:54:28         HIGH STREET   \n",
       "7           8  2023-01-01 00:00:03  2022-12-31 23:58:33   CUSTOM HOUSE QUAY   \n",
       "8           9  2023-01-01 00:00:03  2022-12-31 23:56:04    EXCHEQUER STREET   \n",
       "9          10  2023-01-01 00:00:03  2022-12-31 23:55:56         DAME STREET   \n",
       "\n",
       "   BIKE_STANDS  AVAILABLE_BIKE_STANDS  AVAILABLE_BIKES STATUS  \\\n",
       "0           31                     31                0   OPEN   \n",
       "1           20                     18                2   OPEN   \n",
       "2           20                      9               11   OPEN   \n",
       "3           20                      8               12   OPEN   \n",
       "4           40                     16               24   OPEN   \n",
       "5           20                      1               19   OPEN   \n",
       "6           29                     27                2   OPEN   \n",
       "7           30                     27                3   OPEN   \n",
       "8           24                     20                4   OPEN   \n",
       "9           16                      1               14   OPEN   \n",
       "\n",
       "              ADDRESS  LATITUDE  LONGITUDE  \n",
       "0       Clarendon Row   53.3409   -6.26250  \n",
       "1  Blessington Street   53.3568   -6.26814  \n",
       "2       Bolton Street   53.3512   -6.26986  \n",
       "3        Greek Street   53.3469   -6.27298  \n",
       "4   Charlemont Street   53.3307   -6.26018  \n",
       "5  Christchurch Place   53.3434   -6.27012  \n",
       "6         High Street   53.3436   -6.27507  \n",
       "7   Custom House Quay   53.3479   -6.24805  \n",
       "8    Exchequer Street   53.3430   -6.26358  \n",
       "9         Dame Street   53.3440   -6.26680  "
      ]
     },
     "execution_count": 3,
     "metadata": {},
     "output_type": "execute_result"
    }
   ],
   "source": [
    "all_hist.head(10)"
   ]
  },
  {
   "cell_type": "code",
   "execution_count": 39,
   "id": "0c3d7309",
   "metadata": {},
   "outputs": [
    {
     "data": {
      "text/html": [
       "<div>\n",
       "<style scoped>\n",
       "    .dataframe tbody tr th:only-of-type {\n",
       "        vertical-align: middle;\n",
       "    }\n",
       "\n",
       "    .dataframe tbody tr th {\n",
       "        vertical-align: top;\n",
       "    }\n",
       "\n",
       "    .dataframe thead th {\n",
       "        text-align: right;\n",
       "    }\n",
       "</style>\n",
       "<table border=\"1\" class=\"dataframe\">\n",
       "  <thead>\n",
       "    <tr style=\"text-align: right;\">\n",
       "      <th></th>\n",
       "      <th>STATION ID</th>\n",
       "      <th>NAME</th>\n",
       "      <th>BIKE_STANDS</th>\n",
       "      <th>STATUS</th>\n",
       "      <th>LATITUDE</th>\n",
       "      <th>LONGITUDE</th>\n",
       "    </tr>\n",
       "  </thead>\n",
       "  <tbody>\n",
       "    <tr>\n",
       "      <th>0</th>\n",
       "      <td>1</td>\n",
       "      <td>CLARENDON ROW</td>\n",
       "      <td>31</td>\n",
       "      <td>OPEN</td>\n",
       "      <td>53.3409</td>\n",
       "      <td>-6.26250</td>\n",
       "    </tr>\n",
       "    <tr>\n",
       "      <th>1</th>\n",
       "      <td>2</td>\n",
       "      <td>BLESSINGTON STREET</td>\n",
       "      <td>20</td>\n",
       "      <td>OPEN</td>\n",
       "      <td>53.3568</td>\n",
       "      <td>-6.26814</td>\n",
       "    </tr>\n",
       "    <tr>\n",
       "      <th>2</th>\n",
       "      <td>3</td>\n",
       "      <td>BOLTON STREET</td>\n",
       "      <td>20</td>\n",
       "      <td>OPEN</td>\n",
       "      <td>53.3512</td>\n",
       "      <td>-6.26986</td>\n",
       "    </tr>\n",
       "    <tr>\n",
       "      <th>3</th>\n",
       "      <td>4</td>\n",
       "      <td>GREEK STREET</td>\n",
       "      <td>20</td>\n",
       "      <td>OPEN</td>\n",
       "      <td>53.3469</td>\n",
       "      <td>-6.27298</td>\n",
       "    </tr>\n",
       "    <tr>\n",
       "      <th>4</th>\n",
       "      <td>5</td>\n",
       "      <td>CHARLEMONT PLACE</td>\n",
       "      <td>40</td>\n",
       "      <td>OPEN</td>\n",
       "      <td>53.3307</td>\n",
       "      <td>-6.26018</td>\n",
       "    </tr>\n",
       "  </tbody>\n",
       "</table>\n",
       "</div>"
      ],
      "text/plain": [
       "   STATION ID                NAME  BIKE_STANDS STATUS  LATITUDE  LONGITUDE\n",
       "0           1       CLARENDON ROW           31   OPEN   53.3409   -6.26250\n",
       "1           2  BLESSINGTON STREET           20   OPEN   53.3568   -6.26814\n",
       "2           3       BOLTON STREET           20   OPEN   53.3512   -6.26986\n",
       "3           4        GREEK STREET           20   OPEN   53.3469   -6.27298\n",
       "4           5    CHARLEMONT PLACE           40   OPEN   53.3307   -6.26018"
      ]
     },
     "execution_count": 39,
     "metadata": {},
     "output_type": "execute_result"
    }
   ],
   "source": [
    "# From the dataset, the bike stations will be extracted buy removing duplicates stations from all hist\n",
    "# also, unicessary columns will be removed/\n",
    "bike_stations = all_hist[['STATION ID','NAME','BIKE_STANDS','STATUS','LATITUDE', 'LONGITUDE']].drop_duplicates(subset=[\"STATION ID\"])\n",
    "bike_stations.head()"
   ]
  },
  {
   "cell_type": "markdown",
   "id": "66c09a0d",
   "metadata": {},
   "source": [
    "# For usage analysis, the closed station historic will be removeed, as well ass, the \"Address\", \"last update, Longitude\",Latitude.\n"
   ]
  },
  {
   "cell_type": "code",
   "execution_count": 40,
   "id": "f48394d0",
   "metadata": {},
   "outputs": [],
   "source": [
    "# drop all rowns with STATUS - CLOSED\n",
    "\n",
    "all_hist = all_hist[all_hist['STATUS'] == 'OPEN']\n",
    "all_hist = all_hist[['STATION ID', 'TIME', 'NAME', 'BIKE_STANDS', 'AVAILABLE_BIKE_STANDS', 'AVAILABLE_BIKES']]\n",
    "\n",
    "#rename column AVAILABLE_BIKE_STANDS to BIKES_IN_USE\n",
    "all_hist.rename(columns={'AVAILABLE_BIKE_STANDS': 'BIKES_IN_USE'}, inplace=True)"
   ]
  },
  {
   "cell_type": "code",
   "execution_count": 6,
   "id": "eb76b477",
   "metadata": {},
   "outputs": [
    {
     "data": {
      "text/html": [
       "<div>\n",
       "<style scoped>\n",
       "    .dataframe tbody tr th:only-of-type {\n",
       "        vertical-align: middle;\n",
       "    }\n",
       "\n",
       "    .dataframe tbody tr th {\n",
       "        vertical-align: top;\n",
       "    }\n",
       "\n",
       "    .dataframe thead th {\n",
       "        text-align: right;\n",
       "    }\n",
       "</style>\n",
       "<table border=\"1\" class=\"dataframe\">\n",
       "  <thead>\n",
       "    <tr style=\"text-align: right;\">\n",
       "      <th></th>\n",
       "      <th>STATION ID</th>\n",
       "      <th>TIME</th>\n",
       "      <th>NAME</th>\n",
       "      <th>BIKE_STANDS</th>\n",
       "      <th>BIKES_IN_USE</th>\n",
       "      <th>AVAILABLE_BIKES</th>\n",
       "    </tr>\n",
       "  </thead>\n",
       "  <tbody>\n",
       "    <tr>\n",
       "      <th>0</th>\n",
       "      <td>1</td>\n",
       "      <td>2023-01-01 00:00:03</td>\n",
       "      <td>CLARENDON ROW</td>\n",
       "      <td>31</td>\n",
       "      <td>31</td>\n",
       "      <td>0</td>\n",
       "    </tr>\n",
       "    <tr>\n",
       "      <th>1</th>\n",
       "      <td>2</td>\n",
       "      <td>2023-01-01 00:00:03</td>\n",
       "      <td>BLESSINGTON STREET</td>\n",
       "      <td>20</td>\n",
       "      <td>18</td>\n",
       "      <td>2</td>\n",
       "    </tr>\n",
       "    <tr>\n",
       "      <th>2</th>\n",
       "      <td>3</td>\n",
       "      <td>2023-01-01 00:00:03</td>\n",
       "      <td>BOLTON STREET</td>\n",
       "      <td>20</td>\n",
       "      <td>9</td>\n",
       "      <td>11</td>\n",
       "    </tr>\n",
       "    <tr>\n",
       "      <th>3</th>\n",
       "      <td>4</td>\n",
       "      <td>2023-01-01 00:00:03</td>\n",
       "      <td>GREEK STREET</td>\n",
       "      <td>20</td>\n",
       "      <td>8</td>\n",
       "      <td>12</td>\n",
       "    </tr>\n",
       "    <tr>\n",
       "      <th>4</th>\n",
       "      <td>5</td>\n",
       "      <td>2023-01-01 00:00:03</td>\n",
       "      <td>CHARLEMONT PLACE</td>\n",
       "      <td>40</td>\n",
       "      <td>16</td>\n",
       "      <td>24</td>\n",
       "    </tr>\n",
       "    <tr>\n",
       "      <th>...</th>\n",
       "      <td>...</td>\n",
       "      <td>...</td>\n",
       "      <td>...</td>\n",
       "      <td>...</td>\n",
       "      <td>...</td>\n",
       "      <td>...</td>\n",
       "    </tr>\n",
       "    <tr>\n",
       "      <th>27469</th>\n",
       "      <td>113</td>\n",
       "      <td>2023-12-06 00:30:02</td>\n",
       "      <td>MERRION SQUARE SOUTH</td>\n",
       "      <td>40</td>\n",
       "      <td>21</td>\n",
       "      <td>17</td>\n",
       "    </tr>\n",
       "    <tr>\n",
       "      <th>27470</th>\n",
       "      <td>114</td>\n",
       "      <td>2023-12-06 00:30:02</td>\n",
       "      <td>WILTON TERRACE (PARK)</td>\n",
       "      <td>40</td>\n",
       "      <td>40</td>\n",
       "      <td>0</td>\n",
       "    </tr>\n",
       "    <tr>\n",
       "      <th>27471</th>\n",
       "      <td>115</td>\n",
       "      <td>2023-12-06 00:30:02</td>\n",
       "      <td>KILLARNEY STREET</td>\n",
       "      <td>30</td>\n",
       "      <td>1</td>\n",
       "      <td>29</td>\n",
       "    </tr>\n",
       "    <tr>\n",
       "      <th>27472</th>\n",
       "      <td>116</td>\n",
       "      <td>2023-12-06 00:30:02</td>\n",
       "      <td>BROADSTONE</td>\n",
       "      <td>30</td>\n",
       "      <td>28</td>\n",
       "      <td>2</td>\n",
       "    </tr>\n",
       "    <tr>\n",
       "      <th>27473</th>\n",
       "      <td>117</td>\n",
       "      <td>2023-12-06 00:30:02</td>\n",
       "      <td>HANOVER QUAY EAST</td>\n",
       "      <td>40</td>\n",
       "      <td>24</td>\n",
       "      <td>16</td>\n",
       "    </tr>\n",
       "  </tbody>\n",
       "</table>\n",
       "<p>1852113 rows × 6 columns</p>\n",
       "</div>"
      ],
      "text/plain": [
       "       STATION ID                 TIME                   NAME  BIKE_STANDS  \\\n",
       "0               1  2023-01-01 00:00:03          CLARENDON ROW           31   \n",
       "1               2  2023-01-01 00:00:03     BLESSINGTON STREET           20   \n",
       "2               3  2023-01-01 00:00:03          BOLTON STREET           20   \n",
       "3               4  2023-01-01 00:00:03           GREEK STREET           20   \n",
       "4               5  2023-01-01 00:00:03       CHARLEMONT PLACE           40   \n",
       "...           ...                  ...                    ...          ...   \n",
       "27469         113  2023-12-06 00:30:02   MERRION SQUARE SOUTH           40   \n",
       "27470         114  2023-12-06 00:30:02  WILTON TERRACE (PARK)           40   \n",
       "27471         115  2023-12-06 00:30:02       KILLARNEY STREET           30   \n",
       "27472         116  2023-12-06 00:30:02             BROADSTONE           30   \n",
       "27473         117  2023-12-06 00:30:02      HANOVER QUAY EAST           40   \n",
       "\n",
       "       BIKES_IN_USE  AVAILABLE_BIKES  \n",
       "0                31                0  \n",
       "1                18                2  \n",
       "2                 9               11  \n",
       "3                 8               12  \n",
       "4                16               24  \n",
       "...             ...              ...  \n",
       "27469            21               17  \n",
       "27470            40                0  \n",
       "27471             1               29  \n",
       "27472            28                2  \n",
       "27473            24               16  \n",
       "\n",
       "[1852113 rows x 6 columns]"
      ]
     },
     "execution_count": 6,
     "metadata": {},
     "output_type": "execute_result"
    }
   ],
   "source": [
    "all_hist"
   ]
  },
  {
   "cell_type": "markdown",
   "id": "7d83f21b",
   "metadata": {},
   "source": [
    "# Dublin Bikes Revies\n"
   ]
  },
  {
   "cell_type": "code",
   "execution_count": null,
   "id": "0decd90f",
   "metadata": {},
   "outputs": [],
   "source": [
    "from dotenv import load_dotenv\n",
    "from os import getenv\n",
    "\n",
    "# Load from the .env\n",
    "load_dotenv()\n",
    "\n",
    "import requests\n",
    "import json\n",
    "\n",
    "\n",
    "# Get the environmental variables\n",
    "API_KEY = getenv('API_KEY')\n",
    "\n",
    "dublinbikes_id = \"186605\"\n",
    "\n",
    "base_url = \"https://api.tripadvisor.com/api/2/reviews/list\"\n",
    "params = {\n",
    "    \"locationId\": dublinbikes_id,\n",
    "    \"currencyCode\": \"EUR\",\n",
    "    \"ratings\": \"all\"\n",
    "}\n",
    "\n",
    "\n",
    "headers = {\n",
    "    \"Content-Type\": \"application/json\",\n",
    "    \"Accept\": \"application/json\",\n",
    "    \"X-APIKEY\": API_KEY\n",
    "}\n",
    "\n",
    "\n",
    "response = requests.get(base_url, params=params, headers=headers)\n",
    "\n",
    "\n",
    "reviews = json.loads(response.content.decode())\n",
    "\n",
    "for review in reviews[\"reviews\"]:\n",
    "    print(review[\"rating\"], review[\"comment\"])"
   ]
  },
  {
   "cell_type": "code",
   "execution_count": null,
   "id": "fd84570f",
   "metadata": {},
   "outputs": [],
   "source": [
    "import requests\n",
    "from bs4 import BeautifulSoup \n",
    "\n",
    "\n",
    "url_list = ['https://www.tripadvisor.com/Attraction_Review-g186605-d6439815-Reviews-Dublin_Bikes-Dublin_County_Dublin.html',\n",
    "            'https://www.tripadvisor.com/Attraction_Review-g186605-d6439815-Reviews-or10-Dublin_Bikes-Dublin_County_Dublin.html',\n",
    "            'https://www.tripadvisor.com/Attraction_Review-g186605-d6439815-Reviews-or20-Dublin_Bikes-Dublin_County_Dublin.html',\n",
    "            'https://www.tripadvisor.com/Attraction_Review-g186605-d6439815-Reviews-or30-Dublin_Bikes-Dublin_County_Dublin.html',\n",
    "            'https://www.tripadvisor.com/Attraction_Review-g186605-d6439815-Reviews-or40-Dublin_Bikes-Dublin_County_Dublin.html' ]\n",
    "\n",
    "headers = {\"User-Agent\": \"Mozilla/5.0 (Windows NT 10.0; Win64; x64) AppleWebKit/537.36 (KHTML, like Gecko) Chrome/107.0.0.0 Safari/537.36\"}\n",
    "\n"
   ]
  },
  {
   "cell_type": "code",
   "execution_count": null,
   "id": "7e2f1cba",
   "metadata": {},
   "outputs": [],
   "source": [
    "# Function getinfo retrieves reviews and their corresponding titles and ratings from  tripadvisor URL.\n",
    "# it uses BeautifulSoup to scrape the website and stores the extracted data in a Pandas DataFrame.\n",
    "# Args: url (str): The URL of the website containing the reviews to be extracted.\n",
    "# Returns:  review_df (DataFrame): A Pandas DataFrame containing the title, reviews and ratings.\n",
    "\n",
    "    \n",
    "def getinfo(url):     \n",
    "        \n",
    "        response = requests.get(url, headers=headers)\n",
    "        soup = BeautifulSoup(response.content, 'html.parser')\n",
    "   \n",
    "        review_df = pd.DataFrame()\n",
    "        \n",
    "        \n",
    "        titles = soup.find_all('div', attrs={'class': 'biGQs _P fiohW qWPrE ncFvv fOtGX'})\n",
    "        title_lst = []\n",
    "        for title in titles:\n",
    "             title_lst.append(title.find('span', attrs={'class': 'yCeTE'}).text)\n",
    "        \n",
    "        \n",
    "        reviews = soup.find_all('span', attrs={'class':'JguWG'})\n",
    "\n",
    "        review_list = []\n",
    "        for review in reviews:\n",
    "                review_list.append(review.find('span', attrs={'class': 'yCeTE'}).text)\n",
    "                \n",
    "        rate = soup.find_all('svg', attrs={'class':'UctUV d H0'})\n",
    "        rate_list = []\n",
    "        for r in rate:\n",
    "                rate_list.append(r.get('aria-label'))\n",
    "        \n",
    "        review_df['title'] = pd.DataFrame(title_lst)\n",
    "        review_df['review'] = pd.DataFrame(review_list)\n",
    "        review_df['rate'] = pd.DataFrame(rate_list)\n",
    "        \n",
    "        \n",
    "        return review_df\n",
    "        \n",
    "        \n",
    "        \n"
   ]
  },
  {
   "cell_type": "markdown",
   "id": "afc48018-dae6-4906-a006-6fa857a8d857",
   "metadata": {},
   "source": [
    "# this code will call the function \"getinfo\" for each url in the list \"url_list\"\n",
    "# it will wait for 5 seconds between each call to the function \"getinfo\" ti aviud iverloading the server."
   ]
  },
  {
   "cell_type": "code",
   "execution_count": null,
   "id": "42021a30",
   "metadata": {},
   "outputs": [],
   "source": [
    "import time\n",
    "all_reviews_df = pd.DataFrame()\n",
    "for url in url_list:\n",
    "    time.sleep(5)\n",
    "    try:\n",
    "        all_reviews_df = pd.concat([all_reviews_df, getinfo(url)])    \n",
    "    except Exception:\n",
    "        print('Error to scrap url:', url)\n",
    "        print('Scrapping again!')\n",
    "        all_reviews_df = pd.concat([all_reviews_df, getinfo(url)])    \n",
    "    "
   ]
  },
  {
   "cell_type": "code",
   "execution_count": null,
   "id": "36236582-db3a-429f-93f6-2b1cd0a3b550",
   "metadata": {},
   "outputs": [],
   "source": [
    "all_reviews_df['rate'] = all_reviews_df['rate'].str.slice(0,3)\n"
   ]
  },
  {
   "cell_type": "code",
   "execution_count": null,
   "id": "3f60e58a",
   "metadata": {
    "slideshow": {
     "slide_type": "slide"
    },
    "tags": []
   },
   "outputs": [],
   "source": [
    "\n",
    "all_reviews_df.reset_index(drop=True, inplace=True)\n",
    "all_reviews_df.to_csv('all_reviews.csv', index=False)\n"
   ]
  },
  {
   "cell_type": "code",
   "execution_count": null,
   "id": "5d748f95-d629-424d-97e9-619de4ebf4c2",
   "metadata": {},
   "outputs": [],
   "source": [
    "all_reviews_df = pd.read_csv(\"all_reviews.csv\")"
   ]
  },
  {
   "cell_type": "code",
   "execution_count": null,
   "id": "1a933e79-b5fb-4481-bcd3-68bd06ba2d4a",
   "metadata": {},
   "outputs": [],
   "source": [
    "display(all_reviews_df)"
   ]
  },
  {
   "cell_type": "code",
   "execution_count": null,
   "id": "f1cafe69-c2bf-4592-b6ab-64e6b2dc44c6",
   "metadata": {},
   "outputs": [],
   "source": [
    "grouped = all_reviews_df.groupby(by = 'rate').count().reset_index()\n",
    "\n",
    "import plotly.express as px\n",
    "# This dataframe has 244 lines, but 4 distinct values for `day`\n",
    "\n",
    "fig = px.pie(grouped, values='review', \n",
    "             names='rate',\n",
    "             title = \"% Of reviews by rate\"            )\n",
    "fig.update_layout(uniformtext_minsize=12, uniformtext_mode='hide')\n",
    "fig.show()"
   ]
  },
  {
   "cell_type": "markdown",
   "id": "834379f8",
   "metadata": {},
   "source": [
    "# For  Bicing /stations in Barcelona, the dataset is in json format, "
   ]
  },
  {
   "cell_type": "code",
   "execution_count": null,
   "id": "149fe2bf-df54-4d40-8a0d-9c591ebdbce4",
   "metadata": {},
   "outputs": [],
   "source": [
    "import pandas as pd\n",
    "import json\n",
    "import requests\n",
    "url = \"https://opendata-ajuntament.barcelona.cat/data/dataset/bd2462df-6e1e-4e37-8205-a4b8e7313b84/resource/e5adca8d-98bf-42c3-9b9c-364ef0a80494/download\"\n",
    "response = requests.get(url)\n",
    "\n",
    "if response.status_code == 200:\n",
    "    data = response.json()\n",
    "    stations = data['data']\n",
    "    df = pd.DataFrame(stations['stations'])\n",
    "    \n",
    "else:\n",
    "    print(\"Error:\", response.status_code)\n",
    "    \n",
    "df.head(2)\n"
   ]
  },
  {
   "cell_type": "code",
   "execution_count": null,
   "id": "59283d72",
   "metadata": {},
   "outputs": [],
   "source": [
    "\n",
    "df.columns"
   ]
  },
  {
   "cell_type": "code",
   "execution_count": null,
   "id": "24fd408b",
   "metadata": {},
   "outputs": [],
   "source": [
    "bicing_df = df[['station_id', 'name', 'address','lat', 'lon','capacity']]\n",
    "bicing_df.head()"
   ]
  },
  {
   "cell_type": "code",
   "execution_count": null,
   "id": "fd4d71ba",
   "metadata": {},
   "outputs": [],
   "source": []
  },
  {
   "cell_type": "code",
   "execution_count": null,
   "id": "7d77107d",
   "metadata": {},
   "outputs": [],
   "source": [
    "# Convert nested JSON to DataFrame using json_normalize()\n",
    "#df = pd.read_json(json_data)\n",
    "#df = pd.json_normalize(json_data)\n",
    "# Print the DataFrame\n",
    "#print(df)"
   ]
  },
  {
   "cell_type": "code",
   "execution_count": null,
   "id": "2b82306f",
   "metadata": {},
   "outputs": [],
   "source": [
    "import requests\n",
    "import pandas as pd\n",
    "\n",
    "url = \"https://opendata-ajuntament.barcelona.cat/data/dataset/bd2462df-6e1e-4e37-8205-a4b8e7313b84/resource/e5adca8d-98bf-42c3-9b9c-364ef0a80494/download\"\n",
    "\n",
    "\n"
   ]
  },
  {
   "cell_type": "code",
   "execution_count": null,
   "id": "c9a41244-8381-41f0-8e09-8f63e5dbfca0",
   "metadata": {},
   "outputs": [],
   "source": [
    "all_hist.info()"
   ]
  },
  {
   "cell_type": "code",
   "execution_count": null,
   "id": "2d34d46b-40fe-40c4-8f63-0e22c53c529c",
   "metadata": {},
   "outputs": [],
   "source": [
    "all_hist.info()"
   ]
  },
  {
   "cell_type": "code",
   "execution_count": null,
   "id": "d6794e8c-fe8c-40a4-922e-d82eb026809d",
   "metadata": {},
   "outputs": [],
   "source": [
    "all_hist.isnull().sum()\n"
   ]
  },
  {
   "cell_type": "code",
   "execution_count": null,
   "id": "c0df6f36-71f4-4bda-a7f6-da5980b67d95",
   "metadata": {},
   "outputs": [],
   "source": [
    "#all_hist.reset_index()"
   ]
  },
  {
   "cell_type": "code",
   "execution_count": 36,
   "id": "2c5066b9-31f6-4a19-975e-0be17a618b26",
   "metadata": {},
   "outputs": [
    {
     "data": {
      "text/plain": [
       "115"
      ]
     },
     "execution_count": 36,
     "metadata": {},
     "output_type": "execute_result"
    }
   ],
   "source": [
    "all_hist['STATION ID'].nunique()"
   ]
  },
  {
   "cell_type": "code",
   "execution_count": null,
   "id": "b139496f-f956-4ec5-a556-6f95dfd1f1df",
   "metadata": {},
   "outputs": [],
   "source": []
  },
  {
   "cell_type": "code",
   "execution_count": 41,
   "id": "c5c93e03-2930-4378-8ae4-025ff49f36e4",
   "metadata": {},
   "outputs": [
    {
     "data": {
      "application/vnd.plotly.v1+json": {
       "config": {
        "plotlyServerURL": "https://plot.ly"
       },
       "data": [
        {
         "customdata": [
          [
           31
          ],
          [
           20
          ],
          [
           20
          ],
          [
           20
          ],
          [
           40
          ],
          [
           20
          ],
          [
           29
          ],
          [
           30
          ],
          [
           24
          ],
          [
           16
          ],
          [
           30
          ],
          [
           20
          ],
          [
           30
          ],
          [
           30
          ],
          [
           16
          ],
          [
           20
          ],
          [
           20
          ],
          [
           30
          ],
          [
           30
          ],
          [
           30
          ],
          [
           30
          ],
          [
           20
          ],
          [
           30
          ],
          [
           20
          ],
          [
           30
          ],
          [
           20
          ],
          [
           20
          ],
          [
           30
          ],
          [
           29
          ],
          [
           20
          ],
          [
           20
          ],
          [
           30
          ],
          [
           23
          ],
          [
           30
          ],
          [
           30
          ],
          [
           40
          ],
          [
           30
          ],
          [
           40
          ],
          [
           20
          ],
          [
           21
          ],
          [
           20
          ],
          [
           30
          ],
          [
           30
          ],
          [
           30
          ],
          [
           30
          ],
          [
           40
          ],
          [
           40
          ],
          [
           40
          ],
          [
           40
          ],
          [
           40
          ],
          [
           32
          ],
          [
           40
          ],
          [
           33
          ],
          [
           36
          ],
          [
           40
          ],
          [
           23
          ],
          [
           40
          ],
          [
           20
          ],
          [
           30
          ],
          [
           25
          ],
          [
           40
          ],
          [
           35
          ],
          [
           40
          ],
          [
           40
          ],
          [
           40
          ],
          [
           40
          ],
          [
           40
          ],
          [
           31
          ],
          [
           30
          ],
          [
           40
          ],
          [
           38
          ],
          [
           29
          ],
          [
           40
          ],
          [
           27
          ],
          [
           40
          ],
          [
           22
          ],
          [
           40
          ],
          [
           30
          ],
          [
           35
          ],
          [
           38
          ],
          [
           38
          ],
          [
           30
          ],
          [
           40
          ],
          [
           40
          ],
          [
           30
          ],
          [
           40
          ],
          [
           40
          ],
          [
           40
          ],
          [
           40
          ],
          [
           30
          ],
          [
           40
          ],
          [
           40
          ],
          [
           30
          ],
          [
           25
          ],
          [
           30
          ],
          [
           40
          ],
          [
           40
          ],
          [
           40
          ],
          [
           36
          ],
          [
           40
          ],
          [
           40
          ],
          [
           35
          ],
          [
           29
          ],
          [
           40
          ],
          [
           40
          ],
          [
           30
          ],
          [
           40
          ],
          [
           40
          ],
          [
           30
          ],
          [
           30
          ],
          [
           40
          ],
          [
           1
          ],
          [
           30
          ]
         ],
         "hovertemplate": "STATUS=OPEN<br>BIKE_STANDS=%{customdata[0]}<br>LATITUDE=%{lat}<br>LONGITUDE=%{lon}<extra></extra>",
         "lat": [
          53.3409,
          53.3568,
          53.3512,
          53.3469,
          53.3307,
          53.3434,
          53.3436,
          53.3479,
          53.343,
          53.344,
          53.3343,
          53.3592,
          53.3361,
          53.3446,
          53.3555,
          53.3475,
          53.3408,
          53.3341,
          53.3344,
          53.3366,
          53.3422,
          53.3459,
          53.3483,
          53.3521,
          53.3394,
          53.3398,
          53.3413,
          53.3563,
          53.3461,
          53.3535,
          53.3509,
          53.3443,
          53.349,
          53.3304,
          53.3477,
          53.3378,
          53.3375,
          53.351,
          53.3324,
          53.3483,
          53.3328,
          53.3496,
          53.3301,
          53.3584,
          53.3515,
          53.3357,
          53.3478,
          53.3479,
          53.3502,
          53.3393,
          53.3388,
          53.3371,
          53.336,
          53.334,
          53.338,
          53.3396,
          53.3392,
          53.3556,
          53.3596,
          53.357,
          53.346,
          53.3414,
          53.3452,
          53.3474,
          53.3441,
          53.3426,
          53.3378,
          53.3431,
          53.3439,
          53.3435,
          53.3423,
          53.3489,
          53.36,
          53.3581,
          53.3414,
          53.3416,
          53.3407,
          53.339,
          53.3388,
          53.348,
          53.3475,
          53.3488,
          53.3352,
          53.3442,
          53.3418,
          53.3478,
          53.3466,
          53.347,
          53.3439,
          53.3418,
          53.3421,
          53.3415,
          53.3466,
          53.3471,
          53.3503,
          53.3549,
          53.3547,
          53.3552,
          53.356,
          53.3589,
          53.3592,
          53.3594,
          53.3533,
          53.3563,
          53.3567,
          53.3578,
          53.3386,
          53.3337,
          53.3548,
          53.3547,
          53.3437,
          53.3546,
          53.3421
         ],
         "legendgroup": "OPEN",
         "lon": [
          -6.2625,
          -6.26814,
          -6.26986,
          -6.27298,
          -6.26018,
          -6.27012,
          -6.27507,
          -6.24805,
          -6.26358,
          -6.2668,
          -6.2585,
          -6.26978,
          -6.25282,
          -6.26337,
          -6.26442,
          -6.25219,
          -6.26773,
          -6.26544,
          -6.24557,
          -6.24811,
          -6.25449,
          -6.25461,
          -6.25466,
          -6.26053,
          -6.24655,
          -6.25199,
          -6.25812,
          -6.25859,
          -6.268,
          -6.26531,
          -6.26512,
          -6.25043,
          -6.26031,
          -6.26516,
          -6.27821,
          -6.25603,
          -6.26199,
          -6.25294,
          -6.25272,
          -6.26665,
          -6.25794,
          -6.2782,
          -6.26804,
          -6.26064,
          -6.25527,
          -6.24551,
          -6.24424,
          -6.24093,
          -6.2797,
          -6.2647,
          -6.262,
          -6.26059,
          -6.26298,
          -6.26071,
          -6.24153,
          -6.24378,
          -6.24064,
          -6.2614,
          -6.26035,
          -6.26323,
          -6.24358,
          -6.24672,
          -6.24716,
          -6.23852,
          -6.23715,
          -6.2387,
          -6.2677,
          -6.27717,
          -6.28053,
          -6.28741,
          -6.28766,
          -6.26746,
          -6.26483,
          -6.2656,
          -6.29295,
          -6.29719,
          -6.30819,
          -6.30022,
          -6.30395,
          -6.2918,
          -6.28525,
          -6.28164,
          -6.2509,
          -6.23345,
          -6.23129,
          -6.29243,
          -6.29692,
          -6.2978,
          -6.29706,
          -6.30509,
          -6.31002,
          -6.25685,
          -6.24615,
          -6.29204,
          -6.27351,
          -6.26942,
          -6.27868,
          -6.27842,
          -6.27838,
          -6.28034,
          -6.28187,
          -6.27614,
          -6.24932,
          -6.27372,
          -6.25636,
          -6.25156,
          -6.24861,
          -6.24834,
          -6.24758,
          -6.27231,
          -6.23175,
          -6.24262,
          -6.27523
         ],
         "marker": {
          "color": "#7CFC00",
          "size": [
           31,
           20,
           20,
           20,
           40,
           20,
           29,
           30,
           24,
           16,
           30,
           20,
           30,
           30,
           16,
           20,
           20,
           30,
           30,
           30,
           30,
           20,
           30,
           20,
           30,
           20,
           20,
           30,
           29,
           20,
           20,
           30,
           23,
           30,
           30,
           40,
           30,
           40,
           20,
           21,
           20,
           30,
           30,
           30,
           30,
           40,
           40,
           40,
           40,
           40,
           32,
           40,
           33,
           36,
           40,
           23,
           40,
           20,
           30,
           25,
           40,
           35,
           40,
           40,
           40,
           40,
           40,
           31,
           30,
           40,
           38,
           29,
           40,
           27,
           40,
           22,
           40,
           30,
           35,
           38,
           38,
           30,
           40,
           40,
           30,
           40,
           40,
           40,
           40,
           30,
           40,
           40,
           30,
           25,
           30,
           40,
           40,
           40,
           36,
           40,
           40,
           35,
           29,
           40,
           40,
           30,
           40,
           40,
           30,
           30,
           40,
           1,
           30
          ],
          "sizemode": "area",
          "sizeref": 0.17777777777777778
         },
         "mode": "markers",
         "name": "OPEN",
         "showlegend": true,
         "subplot": "mapbox",
         "type": "scattermapbox"
        },
        {
         "customdata": [
          [
           40
          ],
          [
           40
          ]
         ],
         "hovertemplate": "STATUS=CLOSED<br>BIKE_STANDS=%{customdata[0]}<br>LATITUDE=%{lat}<br>LONGITUDE=%{lon}<extra></extra>",
         "lat": [
          53.3471,
          53.3469
         ],
         "legendgroup": "CLOSED",
         "lon": [
          -6.23475,
          -6.23085
         ],
         "marker": {
          "color": "#DF0030",
          "size": [
           40,
           40
          ],
          "sizemode": "area",
          "sizeref": 0.17777777777777778
         },
         "mode": "markers",
         "name": "CLOSED",
         "showlegend": true,
         "subplot": "mapbox",
         "type": "scattermapbox"
        }
       ],
       "layout": {
        "autosize": false,
        "height": 600,
        "legend": {
         "itemsizing": "constant",
         "title": {
          "text": "STATUS"
         },
         "tracegroupgap": 0
        },
        "mapbox": {
         "center": {
          "lat": 53.34563913043477,
          "lon": -6.264183826086956
         },
         "domain": {
          "x": [
           0,
           1
          ],
          "y": [
           0,
           1
          ]
         },
         "style": "open-street-map",
         "zoom": 12
        },
        "margin": {
         "t": 60
        },
        "template": {
         "data": {
          "bar": [
           {
            "error_x": {
             "color": "#2a3f5f"
            },
            "error_y": {
             "color": "#2a3f5f"
            },
            "marker": {
             "line": {
              "color": "#E5ECF6",
              "width": 0.5
             },
             "pattern": {
              "fillmode": "overlay",
              "size": 10,
              "solidity": 0.2
             }
            },
            "type": "bar"
           }
          ],
          "barpolar": [
           {
            "marker": {
             "line": {
              "color": "#E5ECF6",
              "width": 0.5
             },
             "pattern": {
              "fillmode": "overlay",
              "size": 10,
              "solidity": 0.2
             }
            },
            "type": "barpolar"
           }
          ],
          "carpet": [
           {
            "aaxis": {
             "endlinecolor": "#2a3f5f",
             "gridcolor": "white",
             "linecolor": "white",
             "minorgridcolor": "white",
             "startlinecolor": "#2a3f5f"
            },
            "baxis": {
             "endlinecolor": "#2a3f5f",
             "gridcolor": "white",
             "linecolor": "white",
             "minorgridcolor": "white",
             "startlinecolor": "#2a3f5f"
            },
            "type": "carpet"
           }
          ],
          "choropleth": [
           {
            "colorbar": {
             "outlinewidth": 0,
             "ticks": ""
            },
            "type": "choropleth"
           }
          ],
          "contour": [
           {
            "colorbar": {
             "outlinewidth": 0,
             "ticks": ""
            },
            "colorscale": [
             [
              0,
              "#0d0887"
             ],
             [
              0.1111111111111111,
              "#46039f"
             ],
             [
              0.2222222222222222,
              "#7201a8"
             ],
             [
              0.3333333333333333,
              "#9c179e"
             ],
             [
              0.4444444444444444,
              "#bd3786"
             ],
             [
              0.5555555555555556,
              "#d8576b"
             ],
             [
              0.6666666666666666,
              "#ed7953"
             ],
             [
              0.7777777777777778,
              "#fb9f3a"
             ],
             [
              0.8888888888888888,
              "#fdca26"
             ],
             [
              1,
              "#f0f921"
             ]
            ],
            "type": "contour"
           }
          ],
          "contourcarpet": [
           {
            "colorbar": {
             "outlinewidth": 0,
             "ticks": ""
            },
            "type": "contourcarpet"
           }
          ],
          "heatmap": [
           {
            "colorbar": {
             "outlinewidth": 0,
             "ticks": ""
            },
            "colorscale": [
             [
              0,
              "#0d0887"
             ],
             [
              0.1111111111111111,
              "#46039f"
             ],
             [
              0.2222222222222222,
              "#7201a8"
             ],
             [
              0.3333333333333333,
              "#9c179e"
             ],
             [
              0.4444444444444444,
              "#bd3786"
             ],
             [
              0.5555555555555556,
              "#d8576b"
             ],
             [
              0.6666666666666666,
              "#ed7953"
             ],
             [
              0.7777777777777778,
              "#fb9f3a"
             ],
             [
              0.8888888888888888,
              "#fdca26"
             ],
             [
              1,
              "#f0f921"
             ]
            ],
            "type": "heatmap"
           }
          ],
          "heatmapgl": [
           {
            "colorbar": {
             "outlinewidth": 0,
             "ticks": ""
            },
            "colorscale": [
             [
              0,
              "#0d0887"
             ],
             [
              0.1111111111111111,
              "#46039f"
             ],
             [
              0.2222222222222222,
              "#7201a8"
             ],
             [
              0.3333333333333333,
              "#9c179e"
             ],
             [
              0.4444444444444444,
              "#bd3786"
             ],
             [
              0.5555555555555556,
              "#d8576b"
             ],
             [
              0.6666666666666666,
              "#ed7953"
             ],
             [
              0.7777777777777778,
              "#fb9f3a"
             ],
             [
              0.8888888888888888,
              "#fdca26"
             ],
             [
              1,
              "#f0f921"
             ]
            ],
            "type": "heatmapgl"
           }
          ],
          "histogram": [
           {
            "marker": {
             "pattern": {
              "fillmode": "overlay",
              "size": 10,
              "solidity": 0.2
             }
            },
            "type": "histogram"
           }
          ],
          "histogram2d": [
           {
            "colorbar": {
             "outlinewidth": 0,
             "ticks": ""
            },
            "colorscale": [
             [
              0,
              "#0d0887"
             ],
             [
              0.1111111111111111,
              "#46039f"
             ],
             [
              0.2222222222222222,
              "#7201a8"
             ],
             [
              0.3333333333333333,
              "#9c179e"
             ],
             [
              0.4444444444444444,
              "#bd3786"
             ],
             [
              0.5555555555555556,
              "#d8576b"
             ],
             [
              0.6666666666666666,
              "#ed7953"
             ],
             [
              0.7777777777777778,
              "#fb9f3a"
             ],
             [
              0.8888888888888888,
              "#fdca26"
             ],
             [
              1,
              "#f0f921"
             ]
            ],
            "type": "histogram2d"
           }
          ],
          "histogram2dcontour": [
           {
            "colorbar": {
             "outlinewidth": 0,
             "ticks": ""
            },
            "colorscale": [
             [
              0,
              "#0d0887"
             ],
             [
              0.1111111111111111,
              "#46039f"
             ],
             [
              0.2222222222222222,
              "#7201a8"
             ],
             [
              0.3333333333333333,
              "#9c179e"
             ],
             [
              0.4444444444444444,
              "#bd3786"
             ],
             [
              0.5555555555555556,
              "#d8576b"
             ],
             [
              0.6666666666666666,
              "#ed7953"
             ],
             [
              0.7777777777777778,
              "#fb9f3a"
             ],
             [
              0.8888888888888888,
              "#fdca26"
             ],
             [
              1,
              "#f0f921"
             ]
            ],
            "type": "histogram2dcontour"
           }
          ],
          "mesh3d": [
           {
            "colorbar": {
             "outlinewidth": 0,
             "ticks": ""
            },
            "type": "mesh3d"
           }
          ],
          "parcoords": [
           {
            "line": {
             "colorbar": {
              "outlinewidth": 0,
              "ticks": ""
             }
            },
            "type": "parcoords"
           }
          ],
          "pie": [
           {
            "automargin": true,
            "type": "pie"
           }
          ],
          "scatter": [
           {
            "marker": {
             "colorbar": {
              "outlinewidth": 0,
              "ticks": ""
             }
            },
            "type": "scatter"
           }
          ],
          "scatter3d": [
           {
            "line": {
             "colorbar": {
              "outlinewidth": 0,
              "ticks": ""
             }
            },
            "marker": {
             "colorbar": {
              "outlinewidth": 0,
              "ticks": ""
             }
            },
            "type": "scatter3d"
           }
          ],
          "scattercarpet": [
           {
            "marker": {
             "colorbar": {
              "outlinewidth": 0,
              "ticks": ""
             }
            },
            "type": "scattercarpet"
           }
          ],
          "scattergeo": [
           {
            "marker": {
             "colorbar": {
              "outlinewidth": 0,
              "ticks": ""
             }
            },
            "type": "scattergeo"
           }
          ],
          "scattergl": [
           {
            "marker": {
             "colorbar": {
              "outlinewidth": 0,
              "ticks": ""
             }
            },
            "type": "scattergl"
           }
          ],
          "scattermapbox": [
           {
            "marker": {
             "colorbar": {
              "outlinewidth": 0,
              "ticks": ""
             }
            },
            "type": "scattermapbox"
           }
          ],
          "scatterpolar": [
           {
            "marker": {
             "colorbar": {
              "outlinewidth": 0,
              "ticks": ""
             }
            },
            "type": "scatterpolar"
           }
          ],
          "scatterpolargl": [
           {
            "marker": {
             "colorbar": {
              "outlinewidth": 0,
              "ticks": ""
             }
            },
            "type": "scatterpolargl"
           }
          ],
          "scatterternary": [
           {
            "marker": {
             "colorbar": {
              "outlinewidth": 0,
              "ticks": ""
             }
            },
            "type": "scatterternary"
           }
          ],
          "surface": [
           {
            "colorbar": {
             "outlinewidth": 0,
             "ticks": ""
            },
            "colorscale": [
             [
              0,
              "#0d0887"
             ],
             [
              0.1111111111111111,
              "#46039f"
             ],
             [
              0.2222222222222222,
              "#7201a8"
             ],
             [
              0.3333333333333333,
              "#9c179e"
             ],
             [
              0.4444444444444444,
              "#bd3786"
             ],
             [
              0.5555555555555556,
              "#d8576b"
             ],
             [
              0.6666666666666666,
              "#ed7953"
             ],
             [
              0.7777777777777778,
              "#fb9f3a"
             ],
             [
              0.8888888888888888,
              "#fdca26"
             ],
             [
              1,
              "#f0f921"
             ]
            ],
            "type": "surface"
           }
          ],
          "table": [
           {
            "cells": {
             "fill": {
              "color": "#EBF0F8"
             },
             "line": {
              "color": "white"
             }
            },
            "header": {
             "fill": {
              "color": "#C8D4E3"
             },
             "line": {
              "color": "white"
             }
            },
            "type": "table"
           }
          ]
         },
         "layout": {
          "annotationdefaults": {
           "arrowcolor": "#2a3f5f",
           "arrowhead": 0,
           "arrowwidth": 1
          },
          "autotypenumbers": "strict",
          "coloraxis": {
           "colorbar": {
            "outlinewidth": 0,
            "ticks": ""
           }
          },
          "colorscale": {
           "diverging": [
            [
             0,
             "#8e0152"
            ],
            [
             0.1,
             "#c51b7d"
            ],
            [
             0.2,
             "#de77ae"
            ],
            [
             0.3,
             "#f1b6da"
            ],
            [
             0.4,
             "#fde0ef"
            ],
            [
             0.5,
             "#f7f7f7"
            ],
            [
             0.6,
             "#e6f5d0"
            ],
            [
             0.7,
             "#b8e186"
            ],
            [
             0.8,
             "#7fbc41"
            ],
            [
             0.9,
             "#4d9221"
            ],
            [
             1,
             "#276419"
            ]
           ],
           "sequential": [
            [
             0,
             "#0d0887"
            ],
            [
             0.1111111111111111,
             "#46039f"
            ],
            [
             0.2222222222222222,
             "#7201a8"
            ],
            [
             0.3333333333333333,
             "#9c179e"
            ],
            [
             0.4444444444444444,
             "#bd3786"
            ],
            [
             0.5555555555555556,
             "#d8576b"
            ],
            [
             0.6666666666666666,
             "#ed7953"
            ],
            [
             0.7777777777777778,
             "#fb9f3a"
            ],
            [
             0.8888888888888888,
             "#fdca26"
            ],
            [
             1,
             "#f0f921"
            ]
           ],
           "sequentialminus": [
            [
             0,
             "#0d0887"
            ],
            [
             0.1111111111111111,
             "#46039f"
            ],
            [
             0.2222222222222222,
             "#7201a8"
            ],
            [
             0.3333333333333333,
             "#9c179e"
            ],
            [
             0.4444444444444444,
             "#bd3786"
            ],
            [
             0.5555555555555556,
             "#d8576b"
            ],
            [
             0.6666666666666666,
             "#ed7953"
            ],
            [
             0.7777777777777778,
             "#fb9f3a"
            ],
            [
             0.8888888888888888,
             "#fdca26"
            ],
            [
             1,
             "#f0f921"
            ]
           ]
          },
          "colorway": [
           "#636efa",
           "#EF553B",
           "#00cc96",
           "#ab63fa",
           "#FFA15A",
           "#19d3f3",
           "#FF6692",
           "#B6E880",
           "#FF97FF",
           "#FECB52"
          ],
          "font": {
           "color": "#2a3f5f"
          },
          "geo": {
           "bgcolor": "white",
           "lakecolor": "white",
           "landcolor": "#E5ECF6",
           "showlakes": true,
           "showland": true,
           "subunitcolor": "white"
          },
          "hoverlabel": {
           "align": "left"
          },
          "hovermode": "closest",
          "mapbox": {
           "style": "light"
          },
          "paper_bgcolor": "white",
          "plot_bgcolor": "#E5ECF6",
          "polar": {
           "angularaxis": {
            "gridcolor": "white",
            "linecolor": "white",
            "ticks": ""
           },
           "bgcolor": "#E5ECF6",
           "radialaxis": {
            "gridcolor": "white",
            "linecolor": "white",
            "ticks": ""
           }
          },
          "scene": {
           "xaxis": {
            "backgroundcolor": "#E5ECF6",
            "gridcolor": "white",
            "gridwidth": 2,
            "linecolor": "white",
            "showbackground": true,
            "ticks": "",
            "zerolinecolor": "white"
           },
           "yaxis": {
            "backgroundcolor": "#E5ECF6",
            "gridcolor": "white",
            "gridwidth": 2,
            "linecolor": "white",
            "showbackground": true,
            "ticks": "",
            "zerolinecolor": "white"
           },
           "zaxis": {
            "backgroundcolor": "#E5ECF6",
            "gridcolor": "white",
            "gridwidth": 2,
            "linecolor": "white",
            "showbackground": true,
            "ticks": "",
            "zerolinecolor": "white"
           }
          },
          "shapedefaults": {
           "line": {
            "color": "#2a3f5f"
           }
          },
          "ternary": {
           "aaxis": {
            "gridcolor": "white",
            "linecolor": "white",
            "ticks": ""
           },
           "baxis": {
            "gridcolor": "white",
            "linecolor": "white",
            "ticks": ""
           },
           "bgcolor": "#E5ECF6",
           "caxis": {
            "gridcolor": "white",
            "linecolor": "white",
            "ticks": ""
           }
          },
          "title": {
           "x": 0.05
          },
          "xaxis": {
           "automargin": true,
           "gridcolor": "white",
           "linecolor": "white",
           "ticks": "",
           "title": {
            "standoff": 15
           },
           "zerolinecolor": "white",
           "zerolinewidth": 2
          },
          "yaxis": {
           "automargin": true,
           "gridcolor": "white",
           "linecolor": "white",
           "ticks": "",
           "title": {
            "standoff": 15
           },
           "zerolinecolor": "white",
           "zerolinewidth": 2
          }
         }
        },
        "title": {
         "text": "Bike Stations in Dublin"
        },
        "width": 1200
       }
      }
     },
     "metadata": {},
     "output_type": "display_data"
    }
   ],
   "source": [
    "import plotly.express as px\n",
    "color_mapper = {\"OPEN\": \"#7CFC00\", \"CLOSED\": \"#DF0030\"}\n",
    "\n",
    "fig = px.scatter_mapbox(bike_stations, \n",
    "                        lat=\"LATITUDE\",\n",
    "                        lon=\"LONGITUDE\", \n",
    "                        color=\"STATUS\", \n",
    "                        size=\"BIKE_STANDS\", \n",
    "                        color_discrete_map=color_mapper,\n",
    "                        size_max=15, \n",
    "                        zoom=12, \n",
    "                        hover_data=[\"BIKE_STANDS\"],\n",
    "                        mapbox_style=\"open-street-map\")\n",
    "\n",
    "# Update layout for larger figure size\n",
    "fig.update_layout(\n",
    "    title=\"Bike Stations in Dublin\",\n",
    "    autosize=False,\n",
    "    width=1200, \n",
    "    height=600,  \n",
    ")\n",
    "fig.show()"
   ]
  },
  {
   "cell_type": "code",
   "execution_count": null,
   "id": "83208065-4978-4835-9578-ce2cd0a69561",
   "metadata": {},
   "outputs": [],
   "source": [
    "fig = px.pie(bike_stations, values='BIKE_STANDS', names='STATUS')\n",
    "fig.update_layout(\n",
    "    title=\"Bike Stations in Dublin\",\n",
    "    autosize=False,\n",
    "    width=400,  \n",
    "    height=400, \n",
    ")\n",
    "\n",
    "fig.show()"
   ]
  },
  {
   "cell_type": "code",
   "execution_count": 33,
   "id": "103f85d9",
   "metadata": {},
   "outputs": [],
   "source": [
    "all_hist\n",
    "\n",
    "# change the weekday from numeric to respective day of the week\n",
    "\n"
   ]
  },
  {
   "cell_type": "code",
   "execution_count": null,
   "id": "38cb41cc",
   "metadata": {},
   "outputs": [],
   "source": [
    "\n"
   ]
  },
  {
   "cell_type": "code",
   "execution_count": 67,
   "id": "4736d149",
   "metadata": {},
   "outputs": [
    {
     "data": {
      "application/vnd.plotly.v1+json": {
       "config": {
        "plotlyServerURL": "https://plot.ly"
       },
       "data": [
        {
         "hovertemplate": "weekday=%{x}<br>BIKES_IN_USE=%{y}<extra></extra>",
         "legendgroup": "",
         "line": {
          "color": "#636efa",
          "dash": "solid"
         },
         "marker": {
          "symbol": "circle"
         },
         "mode": "lines",
         "name": "",
         "orientation": "v",
         "showlegend": false,
         "type": "scatter",
         "x": [
          0,
          1,
          2,
          3,
          4,
          5,
          6
         ],
         "xaxis": "x",
         "y": [
          539853,
          557087,
          559538,
          445436,
          444461,
          440647,
          437368
         ],
         "yaxis": "y"
        }
       ],
       "layout": {
        "legend": {
         "tracegroupgap": 0
        },
        "template": {
         "data": {
          "bar": [
           {
            "error_x": {
             "color": "#2a3f5f"
            },
            "error_y": {
             "color": "#2a3f5f"
            },
            "marker": {
             "line": {
              "color": "#E5ECF6",
              "width": 0.5
             },
             "pattern": {
              "fillmode": "overlay",
              "size": 10,
              "solidity": 0.2
             }
            },
            "type": "bar"
           }
          ],
          "barpolar": [
           {
            "marker": {
             "line": {
              "color": "#E5ECF6",
              "width": 0.5
             },
             "pattern": {
              "fillmode": "overlay",
              "size": 10,
              "solidity": 0.2
             }
            },
            "type": "barpolar"
           }
          ],
          "carpet": [
           {
            "aaxis": {
             "endlinecolor": "#2a3f5f",
             "gridcolor": "white",
             "linecolor": "white",
             "minorgridcolor": "white",
             "startlinecolor": "#2a3f5f"
            },
            "baxis": {
             "endlinecolor": "#2a3f5f",
             "gridcolor": "white",
             "linecolor": "white",
             "minorgridcolor": "white",
             "startlinecolor": "#2a3f5f"
            },
            "type": "carpet"
           }
          ],
          "choropleth": [
           {
            "colorbar": {
             "outlinewidth": 0,
             "ticks": ""
            },
            "type": "choropleth"
           }
          ],
          "contour": [
           {
            "colorbar": {
             "outlinewidth": 0,
             "ticks": ""
            },
            "colorscale": [
             [
              0,
              "#0d0887"
             ],
             [
              0.1111111111111111,
              "#46039f"
             ],
             [
              0.2222222222222222,
              "#7201a8"
             ],
             [
              0.3333333333333333,
              "#9c179e"
             ],
             [
              0.4444444444444444,
              "#bd3786"
             ],
             [
              0.5555555555555556,
              "#d8576b"
             ],
             [
              0.6666666666666666,
              "#ed7953"
             ],
             [
              0.7777777777777778,
              "#fb9f3a"
             ],
             [
              0.8888888888888888,
              "#fdca26"
             ],
             [
              1,
              "#f0f921"
             ]
            ],
            "type": "contour"
           }
          ],
          "contourcarpet": [
           {
            "colorbar": {
             "outlinewidth": 0,
             "ticks": ""
            },
            "type": "contourcarpet"
           }
          ],
          "heatmap": [
           {
            "colorbar": {
             "outlinewidth": 0,
             "ticks": ""
            },
            "colorscale": [
             [
              0,
              "#0d0887"
             ],
             [
              0.1111111111111111,
              "#46039f"
             ],
             [
              0.2222222222222222,
              "#7201a8"
             ],
             [
              0.3333333333333333,
              "#9c179e"
             ],
             [
              0.4444444444444444,
              "#bd3786"
             ],
             [
              0.5555555555555556,
              "#d8576b"
             ],
             [
              0.6666666666666666,
              "#ed7953"
             ],
             [
              0.7777777777777778,
              "#fb9f3a"
             ],
             [
              0.8888888888888888,
              "#fdca26"
             ],
             [
              1,
              "#f0f921"
             ]
            ],
            "type": "heatmap"
           }
          ],
          "heatmapgl": [
           {
            "colorbar": {
             "outlinewidth": 0,
             "ticks": ""
            },
            "colorscale": [
             [
              0,
              "#0d0887"
             ],
             [
              0.1111111111111111,
              "#46039f"
             ],
             [
              0.2222222222222222,
              "#7201a8"
             ],
             [
              0.3333333333333333,
              "#9c179e"
             ],
             [
              0.4444444444444444,
              "#bd3786"
             ],
             [
              0.5555555555555556,
              "#d8576b"
             ],
             [
              0.6666666666666666,
              "#ed7953"
             ],
             [
              0.7777777777777778,
              "#fb9f3a"
             ],
             [
              0.8888888888888888,
              "#fdca26"
             ],
             [
              1,
              "#f0f921"
             ]
            ],
            "type": "heatmapgl"
           }
          ],
          "histogram": [
           {
            "marker": {
             "pattern": {
              "fillmode": "overlay",
              "size": 10,
              "solidity": 0.2
             }
            },
            "type": "histogram"
           }
          ],
          "histogram2d": [
           {
            "colorbar": {
             "outlinewidth": 0,
             "ticks": ""
            },
            "colorscale": [
             [
              0,
              "#0d0887"
             ],
             [
              0.1111111111111111,
              "#46039f"
             ],
             [
              0.2222222222222222,
              "#7201a8"
             ],
             [
              0.3333333333333333,
              "#9c179e"
             ],
             [
              0.4444444444444444,
              "#bd3786"
             ],
             [
              0.5555555555555556,
              "#d8576b"
             ],
             [
              0.6666666666666666,
              "#ed7953"
             ],
             [
              0.7777777777777778,
              "#fb9f3a"
             ],
             [
              0.8888888888888888,
              "#fdca26"
             ],
             [
              1,
              "#f0f921"
             ]
            ],
            "type": "histogram2d"
           }
          ],
          "histogram2dcontour": [
           {
            "colorbar": {
             "outlinewidth": 0,
             "ticks": ""
            },
            "colorscale": [
             [
              0,
              "#0d0887"
             ],
             [
              0.1111111111111111,
              "#46039f"
             ],
             [
              0.2222222222222222,
              "#7201a8"
             ],
             [
              0.3333333333333333,
              "#9c179e"
             ],
             [
              0.4444444444444444,
              "#bd3786"
             ],
             [
              0.5555555555555556,
              "#d8576b"
             ],
             [
              0.6666666666666666,
              "#ed7953"
             ],
             [
              0.7777777777777778,
              "#fb9f3a"
             ],
             [
              0.8888888888888888,
              "#fdca26"
             ],
             [
              1,
              "#f0f921"
             ]
            ],
            "type": "histogram2dcontour"
           }
          ],
          "mesh3d": [
           {
            "colorbar": {
             "outlinewidth": 0,
             "ticks": ""
            },
            "type": "mesh3d"
           }
          ],
          "parcoords": [
           {
            "line": {
             "colorbar": {
              "outlinewidth": 0,
              "ticks": ""
             }
            },
            "type": "parcoords"
           }
          ],
          "pie": [
           {
            "automargin": true,
            "type": "pie"
           }
          ],
          "scatter": [
           {
            "marker": {
             "colorbar": {
              "outlinewidth": 0,
              "ticks": ""
             }
            },
            "type": "scatter"
           }
          ],
          "scatter3d": [
           {
            "line": {
             "colorbar": {
              "outlinewidth": 0,
              "ticks": ""
             }
            },
            "marker": {
             "colorbar": {
              "outlinewidth": 0,
              "ticks": ""
             }
            },
            "type": "scatter3d"
           }
          ],
          "scattercarpet": [
           {
            "marker": {
             "colorbar": {
              "outlinewidth": 0,
              "ticks": ""
             }
            },
            "type": "scattercarpet"
           }
          ],
          "scattergeo": [
           {
            "marker": {
             "colorbar": {
              "outlinewidth": 0,
              "ticks": ""
             }
            },
            "type": "scattergeo"
           }
          ],
          "scattergl": [
           {
            "marker": {
             "colorbar": {
              "outlinewidth": 0,
              "ticks": ""
             }
            },
            "type": "scattergl"
           }
          ],
          "scattermapbox": [
           {
            "marker": {
             "colorbar": {
              "outlinewidth": 0,
              "ticks": ""
             }
            },
            "type": "scattermapbox"
           }
          ],
          "scatterpolar": [
           {
            "marker": {
             "colorbar": {
              "outlinewidth": 0,
              "ticks": ""
             }
            },
            "type": "scatterpolar"
           }
          ],
          "scatterpolargl": [
           {
            "marker": {
             "colorbar": {
              "outlinewidth": 0,
              "ticks": ""
             }
            },
            "type": "scatterpolargl"
           }
          ],
          "scatterternary": [
           {
            "marker": {
             "colorbar": {
              "outlinewidth": 0,
              "ticks": ""
             }
            },
            "type": "scatterternary"
           }
          ],
          "surface": [
           {
            "colorbar": {
             "outlinewidth": 0,
             "ticks": ""
            },
            "colorscale": [
             [
              0,
              "#0d0887"
             ],
             [
              0.1111111111111111,
              "#46039f"
             ],
             [
              0.2222222222222222,
              "#7201a8"
             ],
             [
              0.3333333333333333,
              "#9c179e"
             ],
             [
              0.4444444444444444,
              "#bd3786"
             ],
             [
              0.5555555555555556,
              "#d8576b"
             ],
             [
              0.6666666666666666,
              "#ed7953"
             ],
             [
              0.7777777777777778,
              "#fb9f3a"
             ],
             [
              0.8888888888888888,
              "#fdca26"
             ],
             [
              1,
              "#f0f921"
             ]
            ],
            "type": "surface"
           }
          ],
          "table": [
           {
            "cells": {
             "fill": {
              "color": "#EBF0F8"
             },
             "line": {
              "color": "white"
             }
            },
            "header": {
             "fill": {
              "color": "#C8D4E3"
             },
             "line": {
              "color": "white"
             }
            },
            "type": "table"
           }
          ]
         },
         "layout": {
          "annotationdefaults": {
           "arrowcolor": "#2a3f5f",
           "arrowhead": 0,
           "arrowwidth": 1
          },
          "autotypenumbers": "strict",
          "coloraxis": {
           "colorbar": {
            "outlinewidth": 0,
            "ticks": ""
           }
          },
          "colorscale": {
           "diverging": [
            [
             0,
             "#8e0152"
            ],
            [
             0.1,
             "#c51b7d"
            ],
            [
             0.2,
             "#de77ae"
            ],
            [
             0.3,
             "#f1b6da"
            ],
            [
             0.4,
             "#fde0ef"
            ],
            [
             0.5,
             "#f7f7f7"
            ],
            [
             0.6,
             "#e6f5d0"
            ],
            [
             0.7,
             "#b8e186"
            ],
            [
             0.8,
             "#7fbc41"
            ],
            [
             0.9,
             "#4d9221"
            ],
            [
             1,
             "#276419"
            ]
           ],
           "sequential": [
            [
             0,
             "#0d0887"
            ],
            [
             0.1111111111111111,
             "#46039f"
            ],
            [
             0.2222222222222222,
             "#7201a8"
            ],
            [
             0.3333333333333333,
             "#9c179e"
            ],
            [
             0.4444444444444444,
             "#bd3786"
            ],
            [
             0.5555555555555556,
             "#d8576b"
            ],
            [
             0.6666666666666666,
             "#ed7953"
            ],
            [
             0.7777777777777778,
             "#fb9f3a"
            ],
            [
             0.8888888888888888,
             "#fdca26"
            ],
            [
             1,
             "#f0f921"
            ]
           ],
           "sequentialminus": [
            [
             0,
             "#0d0887"
            ],
            [
             0.1111111111111111,
             "#46039f"
            ],
            [
             0.2222222222222222,
             "#7201a8"
            ],
            [
             0.3333333333333333,
             "#9c179e"
            ],
            [
             0.4444444444444444,
             "#bd3786"
            ],
            [
             0.5555555555555556,
             "#d8576b"
            ],
            [
             0.6666666666666666,
             "#ed7953"
            ],
            [
             0.7777777777777778,
             "#fb9f3a"
            ],
            [
             0.8888888888888888,
             "#fdca26"
            ],
            [
             1,
             "#f0f921"
            ]
           ]
          },
          "colorway": [
           "#636efa",
           "#EF553B",
           "#00cc96",
           "#ab63fa",
           "#FFA15A",
           "#19d3f3",
           "#FF6692",
           "#B6E880",
           "#FF97FF",
           "#FECB52"
          ],
          "font": {
           "color": "#2a3f5f"
          },
          "geo": {
           "bgcolor": "white",
           "lakecolor": "white",
           "landcolor": "#E5ECF6",
           "showlakes": true,
           "showland": true,
           "subunitcolor": "white"
          },
          "hoverlabel": {
           "align": "left"
          },
          "hovermode": "closest",
          "mapbox": {
           "style": "light"
          },
          "paper_bgcolor": "white",
          "plot_bgcolor": "#E5ECF6",
          "polar": {
           "angularaxis": {
            "gridcolor": "white",
            "linecolor": "white",
            "ticks": ""
           },
           "bgcolor": "#E5ECF6",
           "radialaxis": {
            "gridcolor": "white",
            "linecolor": "white",
            "ticks": ""
           }
          },
          "scene": {
           "xaxis": {
            "backgroundcolor": "#E5ECF6",
            "gridcolor": "white",
            "gridwidth": 2,
            "linecolor": "white",
            "showbackground": true,
            "ticks": "",
            "zerolinecolor": "white"
           },
           "yaxis": {
            "backgroundcolor": "#E5ECF6",
            "gridcolor": "white",
            "gridwidth": 2,
            "linecolor": "white",
            "showbackground": true,
            "ticks": "",
            "zerolinecolor": "white"
           },
           "zaxis": {
            "backgroundcolor": "#E5ECF6",
            "gridcolor": "white",
            "gridwidth": 2,
            "linecolor": "white",
            "showbackground": true,
            "ticks": "",
            "zerolinecolor": "white"
           }
          },
          "shapedefaults": {
           "line": {
            "color": "#2a3f5f"
           }
          },
          "ternary": {
           "aaxis": {
            "gridcolor": "white",
            "linecolor": "white",
            "ticks": ""
           },
           "baxis": {
            "gridcolor": "white",
            "linecolor": "white",
            "ticks": ""
           },
           "bgcolor": "#E5ECF6",
           "caxis": {
            "gridcolor": "white",
            "linecolor": "white",
            "ticks": ""
           }
          },
          "title": {
           "x": 0.05
          },
          "xaxis": {
           "automargin": true,
           "gridcolor": "white",
           "linecolor": "white",
           "ticks": "",
           "title": {
            "standoff": 15
           },
           "zerolinecolor": "white",
           "zerolinewidth": 2
          },
          "yaxis": {
           "automargin": true,
           "gridcolor": "white",
           "linecolor": "white",
           "ticks": "",
           "title": {
            "standoff": 15
           },
           "zerolinecolor": "white",
           "zerolinewidth": 2
          }
         }
        },
        "title": {
         "text": "Bike Usage by Day of Week in Dublin"
        },
        "xaxis": {
         "anchor": "y",
         "domain": [
          0,
          1
         ],
         "tickangle": 45,
         "title": {
          "text": "weekday"
         }
        },
        "yaxis": {
         "anchor": "x",
         "domain": [
          0,
          1
         ],
         "title": {
          "text": "BIKES_IN_USE"
         }
        }
       }
      }
     },
     "metadata": {},
     "output_type": "display_data"
    }
   ],
   "source": [
    "import plotly.express as px\n",
    "import pandas as pd\n",
    "\n",
    "# Load the data\n",
    "all_hist['TIME'] = pd.to_datetime(all_hist['TIME'])\n",
    "\n",
    "# get the weekday from the time column\n",
    "all_hist['weekday'] = all_hist['TIME'].dt.weekday\n",
    "\n",
    "# filter all_hist dataframe by month usint the TIME column\n",
    "all_hist['month'] = all_hist['TIME'].dt.month\n",
    "\n",
    "all_hist_jan = all_hist[all_hist['TIME'].dt.month == 5]\n",
    "\n",
    "# Group the data by hour and calculate the total number of bikes used\n",
    "df_grouped = all_hist_jan.groupby('weekday')['BIKES_IN_USE'].sum()\n",
    "\n",
    "# Create a bar plot\n",
    "fig = px.line(df_grouped, x=df_grouped.index, y='BIKES_IN_USE', title='Bike Usage by Day of Week in Dublin')\n",
    "\n",
    "# Rotate x-axis labels to avoid overlapping\n",
    "fig.update_layout(xaxis_tickangle=45)\n",
    "\n",
    "# Show the chart\n",
    "fig.show()\n"
   ]
  },
  {
   "cell_type": "code",
   "execution_count": 19,
   "id": "a45e075b",
   "metadata": {},
   "outputs": [],
   "source": [
    "#pip install dash"
   ]
  },
  {
   "cell_type": "code",
   "execution_count": null,
   "id": "3f5a2123-05db-4390-911e-d76857fc0be4",
   "metadata": {},
   "outputs": [],
   "source": [
    "bike_usage = all_hist[['TIME', 'STATION ID', 'NAME', 'BIKE_STANDS','AVAILABLE_BIKES']]\n",
    "\n",
    "bike_usage['TIME'] = pd.to_datetime(bike_usage['TIME'])\n",
    "bike_usage.set_index('TIME')"
   ]
  },
  {
   "cell_type": "code",
   "execution_count": null,
   "id": "36eb3080",
   "metadata": {},
   "outputs": [],
   "source": [
    "bicing_df['capacity'].sum()"
   ]
  },
  {
   "cell_type": "code",
   "execution_count": null,
   "id": "cfe8efc2",
   "metadata": {},
   "outputs": [],
   "source": [
    "bicing_df.head()"
   ]
  },
  {
   "cell_type": "code",
   "execution_count": null,
   "id": "1eae60d3",
   "metadata": {},
   "outputs": [],
   "source": [
    "df"
   ]
  },
  {
   "cell_type": "code",
   "execution_count": null,
   "id": "0406d635",
   "metadata": {
    "scrolled": true
   },
   "outputs": [],
   "source": [
    "\n"
   ]
  }
 ],
 "metadata": {
  "kernelspec": {
   "display_name": "Python 3 (ipykernel)",
   "language": "python",
   "name": "python3"
  },
  "language_info": {
   "codemirror_mode": {
    "name": "ipython",
    "version": 3
   },
   "file_extension": ".py",
   "mimetype": "text/x-python",
   "name": "python",
   "nbconvert_exporter": "python",
   "pygments_lexer": "ipython3",
   "version": "3.9.12"
  }
 },
 "nbformat": 4,
 "nbformat_minor": 5
}
