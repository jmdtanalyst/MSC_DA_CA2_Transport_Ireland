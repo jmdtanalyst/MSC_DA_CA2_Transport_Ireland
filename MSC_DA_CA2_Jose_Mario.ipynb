{
 "cells": [
  {
   "cell_type": "markdown",
   "id": "a8bd6125",
   "metadata": {
    "tags": []
   },
   "source": [
    "# Phase 1 -  Data Wrangling \n",
    "###  First we need to collect Data.\n",
    "# For  and explore each dataset, find any \"bad formatation\" or null value.\n"
   ]
  },
  {
   "cell_type": "code",
   "execution_count": 1,
   "id": "03a11f4d-758a-4d47-b72e-8a45bd397608",
   "metadata": {},
   "outputs": [],
   "source": [
    "import pandas as pd\n",
    "import os\n",
    "import plotly.express as px\n",
    "import matplotlib as plt\n",
    "import warnings\n",
    "\n",
    "warnings.filterwarnings(\"ignore\")"
   ]
  },
  {
   "cell_type": "markdown",
   "id": "9532e930",
   "metadata": {},
   "source": [
    "# Dublin Bikes"
   ]
  },
  {
   "cell_type": "code",
   "execution_count": null,
   "id": "3bf89c8a-db73-48a9-bfba-badb18a712e9",
   "metadata": {},
   "outputs": [],
   "source": [
    "path = \"./\"\n",
    "files = [file for file in os.listdir(path) if file.startswith('dublinbike-historical-data-2023') ] # filtere only historical data files\n",
    "\n",
    "all_hist = pd.DataFrame()\n",
    "\n",
    "for file in files:\n",
    "    current_month = pd.read_csv(path+\"/\"+file)\n",
    "    all_hist = pd.concat([all_hist, current_month])\n",
    "all_hist.head"
   ]
  },
  {
   "cell_type": "markdown",
   "id": "7d83f21b",
   "metadata": {},
   "source": [
    "# Dublin Bikes Revies\n"
   ]
  },
  {
   "cell_type": "code",
   "execution_count": 2,
   "id": "fd84570f",
   "metadata": {},
   "outputs": [],
   "source": [
    "import requests\n",
    "from bs4 import BeautifulSoup \n",
    "\n",
    "\n",
    "url_list = ['https://www.tripadvisor.com/Attraction_Review-g186605-d6439815-Reviews-Dublin_Bikes-Dublin_County_Dublin.html',\n",
    "            'https://www.tripadvisor.com/Attraction_Review-g186605-d6439815-Reviews-or10-Dublin_Bikes-Dublin_County_Dublin.html',\n",
    "            'https://www.tripadvisor.com/Attraction_Review-g186605-d6439815-Reviews-or20-Dublin_Bikes-Dublin_County_Dublin.html',\n",
    "            'https://www.tripadvisor.com/Attraction_Review-g186605-d6439815-Reviews-or30-Dublin_Bikes-Dublin_County_Dublin.html',\n",
    "            'https://www.tripadvisor.com/Attraction_Review-g186605-d6439815-Reviews-or40-Dublin_Bikes-Dublin_County_Dublin.html' ]\n",
    "\n",
    "headers = {\"User-Agent\": \"Mozilla/5.0 (Windows NT 10.0; Win64; x64) AppleWebKit/537.36 (KHTML, like Gecko) Chrome/107.0.0.0 Safari/537.36\"}\n",
    "\n"
   ]
  },
  {
   "cell_type": "code",
   "execution_count": 3,
   "id": "7e2f1cba",
   "metadata": {},
   "outputs": [],
   "source": [
    "# Function getinfo retrieves reviews and their corresponding titles and ratings from  tripadvisor URL.\n",
    "# it uses BeautifulSoup to scrape the website and stores the extracted data in a Pandas DataFrame.\n",
    "# Args: url (str): The URL of the website containing the reviews to be extracted.\n",
    "# Returns:  review_df (DataFrame): A Pandas DataFrame containing the title, reviews and ratings.\n",
    "\n",
    "    \n",
    "def getinfo(url):     \n",
    "        \n",
    "        response = requests.get(url, headers=headers)\n",
    "        soup = BeautifulSoup(response.content, 'html.parser')\n",
    "   \n",
    "        review_df = pd.DataFrame()\n",
    "        \n",
    "        \n",
    "        titles = soup.find_all('div', attrs={'class': 'biGQs _P fiohW qWPrE ncFvv fOtGX'})\n",
    "        title_lst = []\n",
    "        for title in titles:\n",
    "             title_lst.append(title.find('span', attrs={'class': 'yCeTE'}).text)\n",
    "        \n",
    "        \n",
    "        reviews = soup.find_all('span', attrs={'class':'JguWG'})\n",
    "\n",
    "        review_list = []\n",
    "        for review in reviews:\n",
    "                review_list.append(review.find('span', attrs={'class': 'yCeTE'}).text)\n",
    "                \n",
    "        rate = soup.find_all('svg', attrs={'class':'UctUV d H0'})\n",
    "        rate_list = []\n",
    "        for r in rate:\n",
    "                rate_list.append(r.get('aria-label'))\n",
    "        \n",
    "        review_df['title'] = pd.DataFrame(title_lst)\n",
    "        review_df['review'] = pd.DataFrame(review_list)\n",
    "        review_df['rate'] = pd.DataFrame(rate_list)\n",
    "        \n",
    "        \n",
    "        return review_df\n",
    "        \n",
    "        \n",
    "        \n"
   ]
  },
  {
   "cell_type": "markdown",
   "id": "afc48018-dae6-4906-a006-6fa857a8d857",
   "metadata": {},
   "source": [
    "# this code will call the function \"getinfo\" for each url in the list \"url_list\"\n",
    "# it will wait for 5 seconds between each call to the function \"getinfo\" ti aviud iverloading the server."
   ]
  },
  {
   "cell_type": "code",
   "execution_count": 8,
   "id": "42021a30",
   "metadata": {},
   "outputs": [],
   "source": [
    "import time\n",
    "all_reviews_df = pd.DataFrame()\n",
    "for url in url_list:\n",
    "    time.sleep(5)\n",
    "    try:\n",
    "        all_reviews_df = pd.concat([all_reviews_df, getinfo(url)])    \n",
    "    except Exception:\n",
    "        print('Error to scrap url:', url)\n",
    "        print('Scrapping again!')\n",
    "        all_reviews_df = pd.concat([all_reviews_df, getinfo(url)])    \n",
    "    "
   ]
  },
  {
   "cell_type": "code",
   "execution_count": 26,
   "id": "36236582-db3a-429f-93f6-2b1cd0a3b550",
   "metadata": {},
   "outputs": [],
   "source": [
    "all_reviews_df['rate'] = all_reviews_df['rate'].str.slice(0,3)\n"
   ]
  },
  {
   "cell_type": "code",
   "execution_count": 28,
   "id": "3f60e58a",
   "metadata": {
    "slideshow": {
     "slide_type": "slide"
    },
    "tags": []
   },
   "outputs": [],
   "source": [
    "\n",
    "all_reviews_df.reset_index(drop=True, inplace=True)\n",
    "all_reviews_df.to_csv('all_reviews.csv', index=False)\n"
   ]
  },
  {
   "cell_type": "code",
   "execution_count": 29,
   "id": "5d748f95-d629-424d-97e9-619de4ebf4c2",
   "metadata": {},
   "outputs": [],
   "source": [
    "all_reviews_df = pd.read_csv(\"all_reviews.csv\")"
   ]
  },
  {
   "cell_type": "code",
   "execution_count": 30,
   "id": "1a933e79-b5fb-4481-bcd3-68bd06ba2d4a",
   "metadata": {},
   "outputs": [
    {
     "data": {
      "text/html": [
       "<div>\n",
       "<style scoped>\n",
       "    .dataframe tbody tr th:only-of-type {\n",
       "        vertical-align: middle;\n",
       "    }\n",
       "\n",
       "    .dataframe tbody tr th {\n",
       "        vertical-align: top;\n",
       "    }\n",
       "\n",
       "    .dataframe thead th {\n",
       "        text-align: right;\n",
       "    }\n",
       "</style>\n",
       "<table border=\"1\" class=\"dataframe\">\n",
       "  <thead>\n",
       "    <tr style=\"text-align: right;\">\n",
       "      <th></th>\n",
       "      <th>title</th>\n",
       "      <th>review</th>\n",
       "      <th>rate</th>\n",
       "    </tr>\n",
       "  </thead>\n",
       "  <tbody>\n",
       "    <tr>\n",
       "      <th>0</th>\n",
       "      <td>Amazingly brilliant customer service</td>\n",
       "      <td>I'm not the best with computers and had some i...</td>\n",
       "      <td>5.0</td>\n",
       "    </tr>\n",
       "    <tr>\n",
       "      <th>1</th>\n",
       "      <td>Still being charged for the bike</td>\n",
       "      <td>Really enjoyed using but tried to return it. I...</td>\n",
       "      <td>1.0</td>\n",
       "    </tr>\n",
       "    <tr>\n",
       "      <th>2</th>\n",
       "      <td>Fun way to get around</td>\n",
       "      <td>Visited Dublin over the weekend and thought th...</td>\n",
       "      <td>5.0</td>\n",
       "    </tr>\n",
       "    <tr>\n",
       "      <th>3</th>\n",
       "      <td>Great customer experience</td>\n",
       "      <td>Excellent customer service and user experience...</td>\n",
       "      <td>5.0</td>\n",
       "    </tr>\n",
       "    <tr>\n",
       "      <th>4</th>\n",
       "      <td>Hhhh</td>\n",
       "      <td>Bad costumer service. They don’t return calls ...</td>\n",
       "      <td>1.0</td>\n",
       "    </tr>\n",
       "    <tr>\n",
       "      <th>5</th>\n",
       "      <td>Bad costumer service</td>\n",
       "      <td>Bad costumer service. They don’t return calls ...</td>\n",
       "      <td>1.0</td>\n",
       "    </tr>\n",
       "    <tr>\n",
       "      <th>6</th>\n",
       "      <td>Always rains in Dublin,  So cant really use it...</td>\n",
       "      <td>BEWARE!!! Cant believe the Irish Government is...</td>\n",
       "      <td>1.0</td>\n",
       "    </tr>\n",
       "    <tr>\n",
       "      <th>7</th>\n",
       "      <td>No Customer Service</td>\n",
       "      <td>The bikes themselves are a bit clunky, but the...</td>\n",
       "      <td>1.0</td>\n",
       "    </tr>\n",
       "    <tr>\n",
       "      <th>8</th>\n",
       "      <td>Scam</td>\n",
       "      <td>The actual use of the bike while in Dublin was...</td>\n",
       "      <td>1.0</td>\n",
       "    </tr>\n",
       "    <tr>\n",
       "      <th>9</th>\n",
       "      <td>Useless App</td>\n",
       "      <td>We both tried  to register on a few occasions ...</td>\n",
       "      <td>1.0</td>\n",
       "    </tr>\n",
       "    <tr>\n",
       "      <th>10</th>\n",
       "      <td>Great way to see the sites</td>\n",
       "      <td>Got the 3 day pass for 5EUR. Great deal. ran a...</td>\n",
       "      <td>5.0</td>\n",
       "    </tr>\n",
       "    <tr>\n",
       "      <th>11</th>\n",
       "      <td>They stole my money and refused to facilitate ...</td>\n",
       "      <td>My card was rejected as unsuitable, but it did...</td>\n",
       "      <td>1.0</td>\n",
       "    </tr>\n",
       "    <tr>\n",
       "      <th>12</th>\n",
       "      <td>Not worth the hassle</td>\n",
       "      <td>I hired a bike for an afternoon touring the ci...</td>\n",
       "      <td>2.0</td>\n",
       "    </tr>\n",
       "    <tr>\n",
       "      <th>13</th>\n",
       "      <td>Dublin NO Bikes</td>\n",
       "      <td>What use is a Dublin Bikes subscription when t...</td>\n",
       "      <td>1.0</td>\n",
       "    </tr>\n",
       "    <tr>\n",
       "      <th>14</th>\n",
       "      <td>Very bad experience with Dublin Bikes</td>\n",
       "      <td>Visitied Dublin and wanted to obtain two 3-Day...</td>\n",
       "      <td>1.0</td>\n",
       "    </tr>\n",
       "    <tr>\n",
       "      <th>15</th>\n",
       "      <td>Terrible site.</td>\n",
       "      <td>Very bad service. I subscribed for 3 days for ...</td>\n",
       "      <td>1.0</td>\n",
       "    </tr>\n",
       "    <tr>\n",
       "      <th>16</th>\n",
       "      <td>Bike Stolen - Still charged 150 euro.  Bad &amp; R...</td>\n",
       "      <td>My Dublin Bike was stolen.  Out of courtesy, I...</td>\n",
       "      <td>1.0</td>\n",
       "    </tr>\n",
       "    <tr>\n",
       "      <th>17</th>\n",
       "      <td>Sightseeing by bike</td>\n",
       "      <td>What a great idea! When you’re fed up with the...</td>\n",
       "      <td>4.0</td>\n",
       "    </tr>\n",
       "    <tr>\n",
       "      <th>18</th>\n",
       "      <td>Dublin Bikes</td>\n",
       "      <td>The bike stands are located all around the cit...</td>\n",
       "      <td>5.0</td>\n",
       "    </tr>\n",
       "    <tr>\n",
       "      <th>19</th>\n",
       "      <td>Uncomfortable</td>\n",
       "      <td>I've been a customer for a good while now and ...</td>\n",
       "      <td>2.0</td>\n",
       "    </tr>\n",
       "    <tr>\n",
       "      <th>20</th>\n",
       "      <td>They are stealing me</td>\n",
       "      <td>They are stealing me every year around 4 years...</td>\n",
       "      <td>1.0</td>\n",
       "    </tr>\n",
       "    <tr>\n",
       "      <th>21</th>\n",
       "      <td>AWFUL Customer Service</td>\n",
       "      <td>BE AWARE! Dublinbike may charge you annual fee...</td>\n",
       "      <td>1.0</td>\n",
       "    </tr>\n",
       "    <tr>\n",
       "      <th>22</th>\n",
       "      <td>Saturday spin</td>\n",
       "      <td>I got a bike from Kevin street cycled to Fallo...</td>\n",
       "      <td>2.0</td>\n",
       "    </tr>\n",
       "    <tr>\n",
       "      <th>23</th>\n",
       "      <td>Dublin Bikes</td>\n",
       "      <td>Dublin bikes JCDecaux is an essential of getti...</td>\n",
       "      <td>4.0</td>\n",
       "    </tr>\n",
       "    <tr>\n",
       "      <th>24</th>\n",
       "      <td>Great to visit the city, but system not perfect</td>\n",
       "      <td>I always try to rent a bike to visit a city fo...</td>\n",
       "      <td>4.0</td>\n",
       "    </tr>\n",
       "    <tr>\n",
       "      <th>25</th>\n",
       "      <td>Brilliant!</td>\n",
       "      <td>I visited to celebrate the centenary.  I loade...</td>\n",
       "      <td>5.0</td>\n",
       "    </tr>\n",
       "    <tr>\n",
       "      <th>26</th>\n",
       "      <td>Bike your way through Dublin</td>\n",
       "      <td>EUR 5 per bike for three days and you go anywh...</td>\n",
       "      <td>5.0</td>\n",
       "    </tr>\n",
       "    <tr>\n",
       "      <th>27</th>\n",
       "      <td>Dublin is not for biking</td>\n",
       "      <td>you have to check out online how the rental wo...</td>\n",
       "      <td>3.0</td>\n",
       "    </tr>\n",
       "    <tr>\n",
       "      <th>28</th>\n",
       "      <td>Dublin not a good place for bicycles</td>\n",
       "      <td>1. Dublin is a terrible place to ride a bike, ...</td>\n",
       "      <td>1.0</td>\n",
       "    </tr>\n",
       "    <tr>\n",
       "      <th>29</th>\n",
       "      <td>Bad service and hidden charges</td>\n",
       "      <td>Avoid at all costs! First we had issues signin...</td>\n",
       "      <td>1.0</td>\n",
       "    </tr>\n",
       "    <tr>\n",
       "      <th>30</th>\n",
       "      <td>Terrible bike, terrible day.</td>\n",
       "      <td>The bike is horrible. I don't know how they ca...</td>\n",
       "      <td>1.0</td>\n",
       "    </tr>\n",
       "    <tr>\n",
       "      <th>31</th>\n",
       "      <td>Great way to see the city</td>\n",
       "      <td>Dublin bikes are a great way to navigate the c...</td>\n",
       "      <td>4.0</td>\n",
       "    </tr>\n",
       "    <tr>\n",
       "      <th>32</th>\n",
       "      <td>Good Value for Money</td>\n",
       "      <td>5 Euros for 3 days.Great way to get around the...</td>\n",
       "      <td>5.0</td>\n",
       "    </tr>\n",
       "    <tr>\n",
       "      <th>33</th>\n",
       "      <td>Excellent way to get around Dublin</td>\n",
       "      <td>As a regular user of Dublin Bikes, I cant prai...</td>\n",
       "      <td>5.0</td>\n",
       "    </tr>\n",
       "    <tr>\n",
       "      <th>34</th>\n",
       "      <td>See Dublin</td>\n",
       "      <td>Loved the bikes, the city and the whole experi...</td>\n",
       "      <td>5.0</td>\n",
       "    </tr>\n",
       "    <tr>\n",
       "      <th>35</th>\n",
       "      <td>The best way to see Dublin</td>\n",
       "      <td>We ride our bikes in USA for commuting to work...</td>\n",
       "      <td>5.0</td>\n",
       "    </tr>\n",
       "    <tr>\n",
       "      <th>36</th>\n",
       "      <td>good way to see Dublin</td>\n",
       "      <td>Dublin is a compact city. Easy to walk or to t...</td>\n",
       "      <td>4.0</td>\n",
       "    </tr>\n",
       "    <tr>\n",
       "      <th>37</th>\n",
       "      <td>Worth hunting out a hire station with working ...</td>\n",
       "      <td>An ever increasing number of cities have publi...</td>\n",
       "      <td>4.0</td>\n",
       "    </tr>\n",
       "    <tr>\n",
       "      <th>38</th>\n",
       "      <td>Bikes beat the bus system hands down</td>\n",
       "      <td>We had bought a LEAP pass, which was a waste o...</td>\n",
       "      <td>5.0</td>\n",
       "    </tr>\n",
       "    <tr>\n",
       "      <th>39</th>\n",
       "      <td>Great way to enjoy the villages, e.g. Ranelagh</td>\n",
       "      <td>You can get a 3-day pass and then pay for usag...</td>\n",
       "      <td>5.0</td>\n",
       "    </tr>\n",
       "    <tr>\n",
       "      <th>40</th>\n",
       "      <td>Inexpensive practical and accessible transport...</td>\n",
       "      <td>The city bike stands are scattered all over th...</td>\n",
       "      <td>5.0</td>\n",
       "    </tr>\n",
       "  </tbody>\n",
       "</table>\n",
       "</div>"
      ],
      "text/plain": [
       "                                                title  \\\n",
       "0                Amazingly brilliant customer service   \n",
       "1                    Still being charged for the bike   \n",
       "2                              Fun way to get around    \n",
       "3                           Great customer experience   \n",
       "4                                                Hhhh   \n",
       "5                                Bad costumer service   \n",
       "6   Always rains in Dublin,  So cant really use it...   \n",
       "7                                 No Customer Service   \n",
       "8                                                Scam   \n",
       "9                                         Useless App   \n",
       "10                         Great way to see the sites   \n",
       "11  They stole my money and refused to facilitate ...   \n",
       "12                               Not worth the hassle   \n",
       "13                                    Dublin NO Bikes   \n",
       "14              Very bad experience with Dublin Bikes   \n",
       "15                                     Terrible site.   \n",
       "16  Bike Stolen - Still charged 150 euro.  Bad & R...   \n",
       "17                                Sightseeing by bike   \n",
       "18                                       Dublin Bikes   \n",
       "19                                      Uncomfortable   \n",
       "20                               They are stealing me   \n",
       "21                             AWFUL Customer Service   \n",
       "22                                      Saturday spin   \n",
       "23                                       Dublin Bikes   \n",
       "24    Great to visit the city, but system not perfect   \n",
       "25                                         Brilliant!   \n",
       "26                       Bike your way through Dublin   \n",
       "27                           Dublin is not for biking   \n",
       "28               Dublin not a good place for bicycles   \n",
       "29                     Bad service and hidden charges   \n",
       "30                       Terrible bike, terrible day.   \n",
       "31                         Great way to see the city    \n",
       "32                               Good Value for Money   \n",
       "33                 Excellent way to get around Dublin   \n",
       "34                                        See Dublin    \n",
       "35                         The best way to see Dublin   \n",
       "36                             good way to see Dublin   \n",
       "37  Worth hunting out a hire station with working ...   \n",
       "38               Bikes beat the bus system hands down   \n",
       "39     Great way to enjoy the villages, e.g. Ranelagh   \n",
       "40  Inexpensive practical and accessible transport...   \n",
       "\n",
       "                                               review  rate  \n",
       "0   I'm not the best with computers and had some i...   5.0  \n",
       "1   Really enjoyed using but tried to return it. I...   1.0  \n",
       "2   Visited Dublin over the weekend and thought th...   5.0  \n",
       "3   Excellent customer service and user experience...   5.0  \n",
       "4   Bad costumer service. They don’t return calls ...   1.0  \n",
       "5   Bad costumer service. They don’t return calls ...   1.0  \n",
       "6   BEWARE!!! Cant believe the Irish Government is...   1.0  \n",
       "7   The bikes themselves are a bit clunky, but the...   1.0  \n",
       "8   The actual use of the bike while in Dublin was...   1.0  \n",
       "9   We both tried  to register on a few occasions ...   1.0  \n",
       "10  Got the 3 day pass for 5EUR. Great deal. ran a...   5.0  \n",
       "11  My card was rejected as unsuitable, but it did...   1.0  \n",
       "12  I hired a bike for an afternoon touring the ci...   2.0  \n",
       "13  What use is a Dublin Bikes subscription when t...   1.0  \n",
       "14  Visitied Dublin and wanted to obtain two 3-Day...   1.0  \n",
       "15  Very bad service. I subscribed for 3 days for ...   1.0  \n",
       "16  My Dublin Bike was stolen.  Out of courtesy, I...   1.0  \n",
       "17  What a great idea! When you’re fed up with the...   4.0  \n",
       "18  The bike stands are located all around the cit...   5.0  \n",
       "19  I've been a customer for a good while now and ...   2.0  \n",
       "20  They are stealing me every year around 4 years...   1.0  \n",
       "21  BE AWARE! Dublinbike may charge you annual fee...   1.0  \n",
       "22  I got a bike from Kevin street cycled to Fallo...   2.0  \n",
       "23  Dublin bikes JCDecaux is an essential of getti...   4.0  \n",
       "24  I always try to rent a bike to visit a city fo...   4.0  \n",
       "25  I visited to celebrate the centenary.  I loade...   5.0  \n",
       "26  EUR 5 per bike for three days and you go anywh...   5.0  \n",
       "27  you have to check out online how the rental wo...   3.0  \n",
       "28  1. Dublin is a terrible place to ride a bike, ...   1.0  \n",
       "29  Avoid at all costs! First we had issues signin...   1.0  \n",
       "30  The bike is horrible. I don't know how they ca...   1.0  \n",
       "31  Dublin bikes are a great way to navigate the c...   4.0  \n",
       "32  5 Euros for 3 days.Great way to get around the...   5.0  \n",
       "33  As a regular user of Dublin Bikes, I cant prai...   5.0  \n",
       "34  Loved the bikes, the city and the whole experi...   5.0  \n",
       "35  We ride our bikes in USA for commuting to work...   5.0  \n",
       "36  Dublin is a compact city. Easy to walk or to t...   4.0  \n",
       "37  An ever increasing number of cities have publi...   4.0  \n",
       "38  We had bought a LEAP pass, which was a waste o...   5.0  \n",
       "39  You can get a 3-day pass and then pay for usag...   5.0  \n",
       "40  The city bike stands are scattered all over th...   5.0  "
      ]
     },
     "metadata": {},
     "output_type": "display_data"
    }
   ],
   "source": [
    "display(all_reviews_df)"
   ]
  },
  {
   "cell_type": "code",
   "execution_count": 44,
   "id": "f1cafe69-c2bf-4592-b6ab-64e6b2dc44c6",
   "metadata": {},
   "outputs": [
    {
     "data": {
      "application/vnd.plotly.v1+json": {
       "config": {
        "plotlyServerURL": "https://plot.ly"
       },
       "data": [
        {
         "domain": {
          "x": [
           0,
           1
          ],
          "y": [
           0,
           1
          ]
         },
         "hovertemplate": "rate=%{label}<br>review=%{value}<extra></extra>",
         "labels": [
          1,
          2,
          3,
          4,
          5
         ],
         "legendgroup": "",
         "name": "",
         "showlegend": true,
         "type": "pie",
         "values": [
          17,
          3,
          1,
          6,
          14
         ]
        }
       ],
       "layout": {
        "autosize": true,
        "legend": {
         "tracegroupgap": 0
        },
        "template": {
         "data": {
          "bar": [
           {
            "error_x": {
             "color": "#2a3f5f"
            },
            "error_y": {
             "color": "#2a3f5f"
            },
            "marker": {
             "line": {
              "color": "#E5ECF6",
              "width": 0.5
             },
             "pattern": {
              "fillmode": "overlay",
              "size": 10,
              "solidity": 0.2
             }
            },
            "type": "bar"
           }
          ],
          "barpolar": [
           {
            "marker": {
             "line": {
              "color": "#E5ECF6",
              "width": 0.5
             },
             "pattern": {
              "fillmode": "overlay",
              "size": 10,
              "solidity": 0.2
             }
            },
            "type": "barpolar"
           }
          ],
          "carpet": [
           {
            "aaxis": {
             "endlinecolor": "#2a3f5f",
             "gridcolor": "white",
             "linecolor": "white",
             "minorgridcolor": "white",
             "startlinecolor": "#2a3f5f"
            },
            "baxis": {
             "endlinecolor": "#2a3f5f",
             "gridcolor": "white",
             "linecolor": "white",
             "minorgridcolor": "white",
             "startlinecolor": "#2a3f5f"
            },
            "type": "carpet"
           }
          ],
          "choropleth": [
           {
            "colorbar": {
             "outlinewidth": 0,
             "ticks": ""
            },
            "type": "choropleth"
           }
          ],
          "contour": [
           {
            "colorbar": {
             "outlinewidth": 0,
             "ticks": ""
            },
            "colorscale": [
             [
              0,
              "#0d0887"
             ],
             [
              0.1111111111111111,
              "#46039f"
             ],
             [
              0.2222222222222222,
              "#7201a8"
             ],
             [
              0.3333333333333333,
              "#9c179e"
             ],
             [
              0.4444444444444444,
              "#bd3786"
             ],
             [
              0.5555555555555556,
              "#d8576b"
             ],
             [
              0.6666666666666666,
              "#ed7953"
             ],
             [
              0.7777777777777778,
              "#fb9f3a"
             ],
             [
              0.8888888888888888,
              "#fdca26"
             ],
             [
              1,
              "#f0f921"
             ]
            ],
            "type": "contour"
           }
          ],
          "contourcarpet": [
           {
            "colorbar": {
             "outlinewidth": 0,
             "ticks": ""
            },
            "type": "contourcarpet"
           }
          ],
          "heatmap": [
           {
            "colorbar": {
             "outlinewidth": 0,
             "ticks": ""
            },
            "colorscale": [
             [
              0,
              "#0d0887"
             ],
             [
              0.1111111111111111,
              "#46039f"
             ],
             [
              0.2222222222222222,
              "#7201a8"
             ],
             [
              0.3333333333333333,
              "#9c179e"
             ],
             [
              0.4444444444444444,
              "#bd3786"
             ],
             [
              0.5555555555555556,
              "#d8576b"
             ],
             [
              0.6666666666666666,
              "#ed7953"
             ],
             [
              0.7777777777777778,
              "#fb9f3a"
             ],
             [
              0.8888888888888888,
              "#fdca26"
             ],
             [
              1,
              "#f0f921"
             ]
            ],
            "type": "heatmap"
           }
          ],
          "heatmapgl": [
           {
            "colorbar": {
             "outlinewidth": 0,
             "ticks": ""
            },
            "colorscale": [
             [
              0,
              "#0d0887"
             ],
             [
              0.1111111111111111,
              "#46039f"
             ],
             [
              0.2222222222222222,
              "#7201a8"
             ],
             [
              0.3333333333333333,
              "#9c179e"
             ],
             [
              0.4444444444444444,
              "#bd3786"
             ],
             [
              0.5555555555555556,
              "#d8576b"
             ],
             [
              0.6666666666666666,
              "#ed7953"
             ],
             [
              0.7777777777777778,
              "#fb9f3a"
             ],
             [
              0.8888888888888888,
              "#fdca26"
             ],
             [
              1,
              "#f0f921"
             ]
            ],
            "type": "heatmapgl"
           }
          ],
          "histogram": [
           {
            "marker": {
             "pattern": {
              "fillmode": "overlay",
              "size": 10,
              "solidity": 0.2
             }
            },
            "type": "histogram"
           }
          ],
          "histogram2d": [
           {
            "colorbar": {
             "outlinewidth": 0,
             "ticks": ""
            },
            "colorscale": [
             [
              0,
              "#0d0887"
             ],
             [
              0.1111111111111111,
              "#46039f"
             ],
             [
              0.2222222222222222,
              "#7201a8"
             ],
             [
              0.3333333333333333,
              "#9c179e"
             ],
             [
              0.4444444444444444,
              "#bd3786"
             ],
             [
              0.5555555555555556,
              "#d8576b"
             ],
             [
              0.6666666666666666,
              "#ed7953"
             ],
             [
              0.7777777777777778,
              "#fb9f3a"
             ],
             [
              0.8888888888888888,
              "#fdca26"
             ],
             [
              1,
              "#f0f921"
             ]
            ],
            "type": "histogram2d"
           }
          ],
          "histogram2dcontour": [
           {
            "colorbar": {
             "outlinewidth": 0,
             "ticks": ""
            },
            "colorscale": [
             [
              0,
              "#0d0887"
             ],
             [
              0.1111111111111111,
              "#46039f"
             ],
             [
              0.2222222222222222,
              "#7201a8"
             ],
             [
              0.3333333333333333,
              "#9c179e"
             ],
             [
              0.4444444444444444,
              "#bd3786"
             ],
             [
              0.5555555555555556,
              "#d8576b"
             ],
             [
              0.6666666666666666,
              "#ed7953"
             ],
             [
              0.7777777777777778,
              "#fb9f3a"
             ],
             [
              0.8888888888888888,
              "#fdca26"
             ],
             [
              1,
              "#f0f921"
             ]
            ],
            "type": "histogram2dcontour"
           }
          ],
          "mesh3d": [
           {
            "colorbar": {
             "outlinewidth": 0,
             "ticks": ""
            },
            "type": "mesh3d"
           }
          ],
          "parcoords": [
           {
            "line": {
             "colorbar": {
              "outlinewidth": 0,
              "ticks": ""
             }
            },
            "type": "parcoords"
           }
          ],
          "pie": [
           {
            "automargin": true,
            "type": "pie"
           }
          ],
          "scatter": [
           {
            "marker": {
             "colorbar": {
              "outlinewidth": 0,
              "ticks": ""
             }
            },
            "type": "scatter"
           }
          ],
          "scatter3d": [
           {
            "line": {
             "colorbar": {
              "outlinewidth": 0,
              "ticks": ""
             }
            },
            "marker": {
             "colorbar": {
              "outlinewidth": 0,
              "ticks": ""
             }
            },
            "type": "scatter3d"
           }
          ],
          "scattercarpet": [
           {
            "marker": {
             "colorbar": {
              "outlinewidth": 0,
              "ticks": ""
             }
            },
            "type": "scattercarpet"
           }
          ],
          "scattergeo": [
           {
            "marker": {
             "colorbar": {
              "outlinewidth": 0,
              "ticks": ""
             }
            },
            "type": "scattergeo"
           }
          ],
          "scattergl": [
           {
            "marker": {
             "colorbar": {
              "outlinewidth": 0,
              "ticks": ""
             }
            },
            "type": "scattergl"
           }
          ],
          "scattermapbox": [
           {
            "marker": {
             "colorbar": {
              "outlinewidth": 0,
              "ticks": ""
             }
            },
            "type": "scattermapbox"
           }
          ],
          "scatterpolar": [
           {
            "marker": {
             "colorbar": {
              "outlinewidth": 0,
              "ticks": ""
             }
            },
            "type": "scatterpolar"
           }
          ],
          "scatterpolargl": [
           {
            "marker": {
             "colorbar": {
              "outlinewidth": 0,
              "ticks": ""
             }
            },
            "type": "scatterpolargl"
           }
          ],
          "scatterternary": [
           {
            "marker": {
             "colorbar": {
              "outlinewidth": 0,
              "ticks": ""
             }
            },
            "type": "scatterternary"
           }
          ],
          "surface": [
           {
            "colorbar": {
             "outlinewidth": 0,
             "ticks": ""
            },
            "colorscale": [
             [
              0,
              "#0d0887"
             ],
             [
              0.1111111111111111,
              "#46039f"
             ],
             [
              0.2222222222222222,
              "#7201a8"
             ],
             [
              0.3333333333333333,
              "#9c179e"
             ],
             [
              0.4444444444444444,
              "#bd3786"
             ],
             [
              0.5555555555555556,
              "#d8576b"
             ],
             [
              0.6666666666666666,
              "#ed7953"
             ],
             [
              0.7777777777777778,
              "#fb9f3a"
             ],
             [
              0.8888888888888888,
              "#fdca26"
             ],
             [
              1,
              "#f0f921"
             ]
            ],
            "type": "surface"
           }
          ],
          "table": [
           {
            "cells": {
             "fill": {
              "color": "#EBF0F8"
             },
             "line": {
              "color": "white"
             }
            },
            "header": {
             "fill": {
              "color": "#C8D4E3"
             },
             "line": {
              "color": "white"
             }
            },
            "type": "table"
           }
          ]
         },
         "layout": {
          "annotationdefaults": {
           "arrowcolor": "#2a3f5f",
           "arrowhead": 0,
           "arrowwidth": 1
          },
          "autotypenumbers": "strict",
          "coloraxis": {
           "colorbar": {
            "outlinewidth": 0,
            "ticks": ""
           }
          },
          "colorscale": {
           "diverging": [
            [
             0,
             "#8e0152"
            ],
            [
             0.1,
             "#c51b7d"
            ],
            [
             0.2,
             "#de77ae"
            ],
            [
             0.3,
             "#f1b6da"
            ],
            [
             0.4,
             "#fde0ef"
            ],
            [
             0.5,
             "#f7f7f7"
            ],
            [
             0.6,
             "#e6f5d0"
            ],
            [
             0.7,
             "#b8e186"
            ],
            [
             0.8,
             "#7fbc41"
            ],
            [
             0.9,
             "#4d9221"
            ],
            [
             1,
             "#276419"
            ]
           ],
           "sequential": [
            [
             0,
             "#0d0887"
            ],
            [
             0.1111111111111111,
             "#46039f"
            ],
            [
             0.2222222222222222,
             "#7201a8"
            ],
            [
             0.3333333333333333,
             "#9c179e"
            ],
            [
             0.4444444444444444,
             "#bd3786"
            ],
            [
             0.5555555555555556,
             "#d8576b"
            ],
            [
             0.6666666666666666,
             "#ed7953"
            ],
            [
             0.7777777777777778,
             "#fb9f3a"
            ],
            [
             0.8888888888888888,
             "#fdca26"
            ],
            [
             1,
             "#f0f921"
            ]
           ],
           "sequentialminus": [
            [
             0,
             "#0d0887"
            ],
            [
             0.1111111111111111,
             "#46039f"
            ],
            [
             0.2222222222222222,
             "#7201a8"
            ],
            [
             0.3333333333333333,
             "#9c179e"
            ],
            [
             0.4444444444444444,
             "#bd3786"
            ],
            [
             0.5555555555555556,
             "#d8576b"
            ],
            [
             0.6666666666666666,
             "#ed7953"
            ],
            [
             0.7777777777777778,
             "#fb9f3a"
            ],
            [
             0.8888888888888888,
             "#fdca26"
            ],
            [
             1,
             "#f0f921"
            ]
           ]
          },
          "colorway": [
           "#636efa",
           "#EF553B",
           "#00cc96",
           "#ab63fa",
           "#FFA15A",
           "#19d3f3",
           "#FF6692",
           "#B6E880",
           "#FF97FF",
           "#FECB52"
          ],
          "font": {
           "color": "#2a3f5f"
          },
          "geo": {
           "bgcolor": "white",
           "lakecolor": "white",
           "landcolor": "#E5ECF6",
           "showlakes": true,
           "showland": true,
           "subunitcolor": "white"
          },
          "hoverlabel": {
           "align": "left"
          },
          "hovermode": "closest",
          "mapbox": {
           "style": "light"
          },
          "paper_bgcolor": "white",
          "plot_bgcolor": "#E5ECF6",
          "polar": {
           "angularaxis": {
            "gridcolor": "white",
            "linecolor": "white",
            "ticks": ""
           },
           "bgcolor": "#E5ECF6",
           "radialaxis": {
            "gridcolor": "white",
            "linecolor": "white",
            "ticks": ""
           }
          },
          "scene": {
           "xaxis": {
            "backgroundcolor": "#E5ECF6",
            "gridcolor": "white",
            "gridwidth": 2,
            "linecolor": "white",
            "showbackground": true,
            "ticks": "",
            "zerolinecolor": "white"
           },
           "yaxis": {
            "backgroundcolor": "#E5ECF6",
            "gridcolor": "white",
            "gridwidth": 2,
            "linecolor": "white",
            "showbackground": true,
            "ticks": "",
            "zerolinecolor": "white"
           },
           "zaxis": {
            "backgroundcolor": "#E5ECF6",
            "gridcolor": "white",
            "gridwidth": 2,
            "linecolor": "white",
            "showbackground": true,
            "ticks": "",
            "zerolinecolor": "white"
           }
          },
          "shapedefaults": {
           "line": {
            "color": "#2a3f5f"
           }
          },
          "ternary": {
           "aaxis": {
            "gridcolor": "white",
            "linecolor": "white",
            "ticks": ""
           },
           "baxis": {
            "gridcolor": "white",
            "linecolor": "white",
            "ticks": ""
           },
           "bgcolor": "#E5ECF6",
           "caxis": {
            "gridcolor": "white",
            "linecolor": "white",
            "ticks": ""
           }
          },
          "title": {
           "x": 0.05
          },
          "xaxis": {
           "automargin": true,
           "gridcolor": "white",
           "linecolor": "white",
           "ticks": "",
           "title": {
            "standoff": 15
           },
           "zerolinecolor": "white",
           "zerolinewidth": 2
          },
          "yaxis": {
           "automargin": true,
           "gridcolor": "white",
           "linecolor": "white",
           "ticks": "",
           "title": {
            "standoff": 15
           },
           "zerolinecolor": "white",
           "zerolinewidth": 2
          }
         }
        },
        "title": {
         "text": "% Of reviews by rate"
        },
        "uniformtext": {
         "minsize": 12,
         "mode": "hide"
        }
       }
      },
      "image/png": "[encoded data removed]",
      "text/html": [
       "<div>                            <div id=\"6fbab82c-7dfd-40ea-93b7-cd0c0c8e9ee0\" class=\"plotly-graph-div\" style=\"height:525px; width:100%;\"></div>            <script type=\"text/javascript\">                require([\"plotly\"], function(Plotly) {                    window.PLOTLYENV=window.PLOTLYENV || {};                                    if (document.getElementById(\"6fbab82c-7dfd-40ea-93b7-cd0c0c8e9ee0\")) {                    Plotly.newPlot(                        \"6fbab82c-7dfd-40ea-93b7-cd0c0c8e9ee0\",                        [{\"domain\":{\"x\":[0.0,1.0],\"y\":[0.0,1.0]},\"hovertemplate\":\"rate=%{label}<br>review=%{value}<extra></extra>\",\"labels\":[1.0,2.0,3.0,4.0,5.0],\"legendgroup\":\"\",\"name\":\"\",\"showlegend\":true,\"values\":[17,3,1,6,14],\"type\":\"pie\"}],                        {\"template\":{\"data\":{\"bar\":[{\"error_x\":{\"color\":\"#2a3f5f\"},\"error_y\":{\"color\":\"#2a3f5f\"},\"marker\":{\"line\":{\"color\":\"#E5ECF6\",\"width\":0.5},\"pattern\":{\"fillmode\":\"overlay\",\"size\":10,\"solidity\":0.2}},\"type\":\"bar\"}],\"barpolar\":[{\"marker\":{\"line\":{\"color\":\"#E5ECF6\",\"width\":0.5},\"pattern\":{\"fillmode\":\"overlay\",\"size\":10,\"solidity\":0.2}},\"type\":\"barpolar\"}],\"carpet\":[{\"aaxis\":{\"endlinecolor\":\"#2a3f5f\",\"gridcolor\":\"white\",\"linecolor\":\"white\",\"minorgridcolor\":\"white\",\"startlinecolor\":\"#2a3f5f\"},\"baxis\":{\"endlinecolor\":\"#2a3f5f\",\"gridcolor\":\"white\",\"linecolor\":\"white\",\"minorgridcolor\":\"white\",\"startlinecolor\":\"#2a3f5f\"},\"type\":\"carpet\"}],\"choropleth\":[{\"colorbar\":{\"outlinewidth\":0,\"ticks\":\"\"},\"type\":\"choropleth\"}],\"contour\":[{\"colorbar\":{\"outlinewidth\":0,\"ticks\":\"\"},\"colorscale\":[[0.0,\"#0d0887\"],[0.1111111111111111,\"#46039f\"],[0.2222222222222222,\"#7201a8\"],[0.3333333333333333,\"#9c179e\"],[0.4444444444444444,\"#bd3786\"],[0.5555555555555556,\"#d8576b\"],[0.6666666666666666,\"#ed7953\"],[0.7777777777777778,\"#fb9f3a\"],[0.8888888888888888,\"#fdca26\"],[1.0,\"#f0f921\"]],\"type\":\"contour\"}],\"contourcarpet\":[{\"colorbar\":{\"outlinewidth\":0,\"ticks\":\"\"},\"type\":\"contourcarpet\"}],\"heatmap\":[{\"colorbar\":{\"outlinewidth\":0,\"ticks\":\"\"},\"colorscale\":[[0.0,\"#0d0887\"],[0.1111111111111111,\"#46039f\"],[0.2222222222222222,\"#7201a8\"],[0.3333333333333333,\"#9c179e\"],[0.4444444444444444,\"#bd3786\"],[0.5555555555555556,\"#d8576b\"],[0.6666666666666666,\"#ed7953\"],[0.7777777777777778,\"#fb9f3a\"],[0.8888888888888888,\"#fdca26\"],[1.0,\"#f0f921\"]],\"type\":\"heatmap\"}],\"heatmapgl\":[{\"colorbar\":{\"outlinewidth\":0,\"ticks\":\"\"},\"colorscale\":[[0.0,\"#0d0887\"],[0.1111111111111111,\"#46039f\"],[0.2222222222222222,\"#7201a8\"],[0.3333333333333333,\"#9c179e\"],[0.4444444444444444,\"#bd3786\"],[0.5555555555555556,\"#d8576b\"],[0.6666666666666666,\"#ed7953\"],[0.7777777777777778,\"#fb9f3a\"],[0.8888888888888888,\"#fdca26\"],[1.0,\"#f0f921\"]],\"type\":\"heatmapgl\"}],\"histogram\":[{\"marker\":{\"pattern\":{\"fillmode\":\"overlay\",\"size\":10,\"solidity\":0.2}},\"type\":\"histogram\"}],\"histogram2d\":[{\"colorbar\":{\"outlinewidth\":0,\"ticks\":\"\"},\"colorscale\":[[0.0,\"#0d0887\"],[0.1111111111111111,\"#46039f\"],[0.2222222222222222,\"#7201a8\"],[0.3333333333333333,\"#9c179e\"],[0.4444444444444444,\"#bd3786\"],[0.5555555555555556,\"#d8576b\"],[0.6666666666666666,\"#ed7953\"],[0.7777777777777778,\"#fb9f3a\"],[0.8888888888888888,\"#fdca26\"],[1.0,\"#f0f921\"]],\"type\":\"histogram2d\"}],\"histogram2dcontour\":[{\"colorbar\":{\"outlinewidth\":0,\"ticks\":\"\"},\"colorscale\":[[0.0,\"#0d0887\"],[0.1111111111111111,\"#46039f\"],[0.2222222222222222,\"#7201a8\"],[0.3333333333333333,\"#9c179e\"],[0.4444444444444444,\"#bd3786\"],[0.5555555555555556,\"#d8576b\"],[0.6666666666666666,\"#ed7953\"],[0.7777777777777778,\"#fb9f3a\"],[0.8888888888888888,\"#fdca26\"],[1.0,\"#f0f921\"]],\"type\":\"histogram2dcontour\"}],\"mesh3d\":[{\"colorbar\":{\"outlinewidth\":0,\"ticks\":\"\"},\"type\":\"mesh3d\"}],\"parcoords\":[{\"line\":{\"colorbar\":{\"outlinewidth\":0,\"ticks\":\"\"}},\"type\":\"parcoords\"}],\"pie\":[{\"automargin\":true,\"type\":\"pie\"}],\"scatter\":[{\"marker\":{\"colorbar\":{\"outlinewidth\":0,\"ticks\":\"\"}},\"type\":\"scatter\"}],\"scatter3d\":[{\"line\":{\"colorbar\":{\"outlinewidth\":0,\"ticks\":\"\"}},\"marker\":{\"colorbar\":{\"outlinewidth\":0,\"ticks\":\"\"}},\"type\":\"scatter3d\"}],\"scattercarpet\":[{\"marker\":{\"colorbar\":{\"outlinewidth\":0,\"ticks\":\"\"}},\"type\":\"scattercarpet\"}],\"scattergeo\":[{\"marker\":{\"colorbar\":{\"outlinewidth\":0,\"ticks\":\"\"}},\"type\":\"scattergeo\"}],\"scattergl\":[{\"marker\":{\"colorbar\":{\"outlinewidth\":0,\"ticks\":\"\"}},\"type\":\"scattergl\"}],\"scattermapbox\":[{\"marker\":{\"colorbar\":{\"outlinewidth\":0,\"ticks\":\"\"}},\"type\":\"scattermapbox\"}],\"scatterpolar\":[{\"marker\":{\"colorbar\":{\"outlinewidth\":0,\"ticks\":\"\"}},\"type\":\"scatterpolar\"}],\"scatterpolargl\":[{\"marker\":{\"colorbar\":{\"outlinewidth\":0,\"ticks\":\"\"}},\"type\":\"scatterpolargl\"}],\"scatterternary\":[{\"marker\":{\"colorbar\":{\"outlinewidth\":0,\"ticks\":\"\"}},\"type\":\"scatterternary\"}],\"surface\":[{\"colorbar\":{\"outlinewidth\":0,\"ticks\":\"\"},\"colorscale\":[[0.0,\"#0d0887\"],[0.1111111111111111,\"#46039f\"],[0.2222222222222222,\"#7201a8\"],[0.3333333333333333,\"#9c179e\"],[0.4444444444444444,\"#bd3786\"],[0.5555555555555556,\"#d8576b\"],[0.6666666666666666,\"#ed7953\"],[0.7777777777777778,\"#fb9f3a\"],[0.8888888888888888,\"#fdca26\"],[1.0,\"#f0f921\"]],\"type\":\"surface\"}],\"table\":[{\"cells\":{\"fill\":{\"color\":\"#EBF0F8\"},\"line\":{\"color\":\"white\"}},\"header\":{\"fill\":{\"color\":\"#C8D4E3\"},\"line\":{\"color\":\"white\"}},\"type\":\"table\"}]},\"layout\":{\"annotationdefaults\":{\"arrowcolor\":\"#2a3f5f\",\"arrowhead\":0,\"arrowwidth\":1},\"autotypenumbers\":\"strict\",\"coloraxis\":{\"colorbar\":{\"outlinewidth\":0,\"ticks\":\"\"}},\"colorscale\":{\"diverging\":[[0,\"#8e0152\"],[0.1,\"#c51b7d\"],[0.2,\"#de77ae\"],[0.3,\"#f1b6da\"],[0.4,\"#fde0ef\"],[0.5,\"#f7f7f7\"],[0.6,\"#e6f5d0\"],[0.7,\"#b8e186\"],[0.8,\"#7fbc41\"],[0.9,\"#4d9221\"],[1,\"#276419\"]],\"sequential\":[[0.0,\"#0d0887\"],[0.1111111111111111,\"#46039f\"],[0.2222222222222222,\"#7201a8\"],[0.3333333333333333,\"#9c179e\"],[0.4444444444444444,\"#bd3786\"],[0.5555555555555556,\"#d8576b\"],[0.6666666666666666,\"#ed7953\"],[0.7777777777777778,\"#fb9f3a\"],[0.8888888888888888,\"#fdca26\"],[1.0,\"#f0f921\"]],\"sequentialminus\":[[0.0,\"#0d0887\"],[0.1111111111111111,\"#46039f\"],[0.2222222222222222,\"#7201a8\"],[0.3333333333333333,\"#9c179e\"],[0.4444444444444444,\"#bd3786\"],[0.5555555555555556,\"#d8576b\"],[0.6666666666666666,\"#ed7953\"],[0.7777777777777778,\"#fb9f3a\"],[0.8888888888888888,\"#fdca26\"],[1.0,\"#f0f921\"]]},\"colorway\":[\"#636efa\",\"#EF553B\",\"#00cc96\",\"#ab63fa\",\"#FFA15A\",\"#19d3f3\",\"#FF6692\",\"#B6E880\",\"#FF97FF\",\"#FECB52\"],\"font\":{\"color\":\"#2a3f5f\"},\"geo\":{\"bgcolor\":\"white\",\"lakecolor\":\"white\",\"landcolor\":\"#E5ECF6\",\"showlakes\":true,\"showland\":true,\"subunitcolor\":\"white\"},\"hoverlabel\":{\"align\":\"left\"},\"hovermode\":\"closest\",\"mapbox\":{\"style\":\"light\"},\"paper_bgcolor\":\"white\",\"plot_bgcolor\":\"#E5ECF6\",\"polar\":{\"angularaxis\":{\"gridcolor\":\"white\",\"linecolor\":\"white\",\"ticks\":\"\"},\"bgcolor\":\"#E5ECF6\",\"radialaxis\":{\"gridcolor\":\"white\",\"linecolor\":\"white\",\"ticks\":\"\"}},\"scene\":{\"xaxis\":{\"backgroundcolor\":\"#E5ECF6\",\"gridcolor\":\"white\",\"gridwidth\":2,\"linecolor\":\"white\",\"showbackground\":true,\"ticks\":\"\",\"zerolinecolor\":\"white\"},\"yaxis\":{\"backgroundcolor\":\"#E5ECF6\",\"gridcolor\":\"white\",\"gridwidth\":2,\"linecolor\":\"white\",\"showbackground\":true,\"ticks\":\"\",\"zerolinecolor\":\"white\"},\"zaxis\":{\"backgroundcolor\":\"#E5ECF6\",\"gridcolor\":\"white\",\"gridwidth\":2,\"linecolor\":\"white\",\"showbackground\":true,\"ticks\":\"\",\"zerolinecolor\":\"white\"}},\"shapedefaults\":{\"line\":{\"color\":\"#2a3f5f\"}},\"ternary\":{\"aaxis\":{\"gridcolor\":\"white\",\"linecolor\":\"white\",\"ticks\":\"\"},\"baxis\":{\"gridcolor\":\"white\",\"linecolor\":\"white\",\"ticks\":\"\"},\"bgcolor\":\"#E5ECF6\",\"caxis\":{\"gridcolor\":\"white\",\"linecolor\":\"white\",\"ticks\":\"\"}},\"title\":{\"x\":0.05},\"xaxis\":{\"automargin\":true,\"gridcolor\":\"white\",\"linecolor\":\"white\",\"ticks\":\"\",\"title\":{\"standoff\":15},\"zerolinecolor\":\"white\",\"zerolinewidth\":2},\"yaxis\":{\"automargin\":true,\"gridcolor\":\"white\",\"linecolor\":\"white\",\"ticks\":\"\",\"title\":{\"standoff\":15},\"zerolinecolor\":\"white\",\"zerolinewidth\":2}}},\"legend\":{\"tracegroupgap\":0},\"title\":{\"text\":\"% Of reviews by rate\"},\"uniformtext\":{\"minsize\":12,\"mode\":\"hide\"}},                        {\"responsive\": true}                    ).then(function(){\n",
       "                            \n",
       "var gd = document.getElementById('6fbab82c-7dfd-40ea-93b7-cd0c0c8e9ee0');\n",
       "var x = new MutationObserver(function (mutations, observer) {{\n",
       "        var display = window.getComputedStyle(gd).display;\n",
       "        if (!display || display === 'none') {{\n",
       "            console.log([gd, 'removed!']);\n",
       "            Plotly.purge(gd);\n",
       "            observer.disconnect();\n",
       "        }}\n",
       "}});\n",
       "\n",
       "// Listen for the removal of the full notebook cells\n",
       "var notebookContainer = gd.closest('#notebook-container');\n",
       "if (notebookContainer) {{\n",
       "    x.observe(notebookContainer, {childList: true});\n",
       "}}\n",
       "\n",
       "// Listen for the clearing of the current output cell\n",
       "var outputEl = gd.closest('.output');\n",
       "if (outputEl) {{\n",
       "    x.observe(outputEl, {childList: true});\n",
       "}}\n",
       "\n",
       "                        })                };                });            </script>        </div>"
      ]
     },
     "metadata": {},
     "output_type": "display_data"
    }
   ],
   "source": [
    "grouped = all_reviews_df.groupby(by = 'rate').count().reset_index()\n",
    "\n",
    "import plotly.express as px\n",
    "# This dataframe has 244 lines, but 4 distinct values for `day`\n",
    "\n",
    "fig = px.pie(grouped, values='review', \n",
    "             names='rate',\n",
    "             title = \"% Of reviews by rate\"            )\n",
    "fig.update_layout(uniformtext_minsize=12, uniformtext_mode='hide')\n",
    "fig.show()"
   ]
  },
  {
   "cell_type": "markdown",
   "id": "834379f8",
   "metadata": {},
   "source": [
    "# For  Bicing /stations in Barcelona, the dataset is in json format, "
   ]
  },
  {
   "cell_type": "code",
   "execution_count": null,
   "id": "149fe2bf-df54-4d40-8a0d-9c591ebdbce4",
   "metadata": {},
   "outputs": [],
   "source": [
    "import pandas as pd\n",
    "import json\n",
    "import requests\n",
    "url = \"https://opendata-ajuntament.barcelona.cat/data/dataset/bd2462df-6e1e-4e37-8205-a4b8e7313b84/resource/e5adca8d-98bf-42c3-9b9c-364ef0a80494/download\"\n",
    "response = requests.get(url)\n",
    "\n",
    "if response.status_code == 200:\n",
    "    data = response.json()\n",
    "    stations = data['data']\n",
    "    df = pd.DataFrame(stations['stations'])\n",
    "    \n",
    "else:\n",
    "    print(\"Error:\", response.status_code)\n",
    "    \n",
    "df.head(2)\n"
   ]
  },
  {
   "cell_type": "code",
   "execution_count": null,
   "id": "59283d72",
   "metadata": {},
   "outputs": [],
   "source": [
    "\n",
    "df.columns"
   ]
  },
  {
   "cell_type": "code",
   "execution_count": null,
   "id": "24fd408b",
   "metadata": {},
   "outputs": [],
   "source": [
    "bicing_df = df[['station_id', 'name', 'address','lat', 'lon','capacity']]\n",
    "bicing_df.head()"
   ]
  },
  {
   "cell_type": "code",
   "execution_count": null,
   "id": "fd4d71ba",
   "metadata": {},
   "outputs": [],
   "source": []
  },
  {
   "cell_type": "code",
   "execution_count": null,
   "id": "7d77107d",
   "metadata": {},
   "outputs": [],
   "source": [
    "# Convert nested JSON to DataFrame using json_normalize()\n",
    "#df = pd.read_json(json_data)\n",
    "#df = pd.json_normalize(json_data)\n",
    "# Print the DataFrame\n",
    "#print(df)"
   ]
  },
  {
   "cell_type": "code",
   "execution_count": null,
   "id": "2b82306f",
   "metadata": {},
   "outputs": [],
   "source": [
    "import requests\n",
    "import pandas as pd\n",
    "\n",
    "url = \"https://opendata-ajuntament.barcelona.cat/data/dataset/bd2462df-6e1e-4e37-8205-a4b8e7313b84/resource/e5adca8d-98bf-42c3-9b9c-364ef0a80494/download\"\n",
    "\n",
    "\n"
   ]
  },
  {
   "cell_type": "code",
   "execution_count": null,
   "id": "c9a41244-8381-41f0-8e09-8f63e5dbfca0",
   "metadata": {},
   "outputs": [],
   "source": [
    "all_hist.info()"
   ]
  },
  {
   "cell_type": "code",
   "execution_count": null,
   "id": "2d34d46b-40fe-40c4-8f63-0e22c53c529c",
   "metadata": {},
   "outputs": [],
   "source": [
    "all_hist.info()"
   ]
  },
  {
   "cell_type": "code",
   "execution_count": null,
   "id": "d6794e8c-fe8c-40a4-922e-d82eb026809d",
   "metadata": {},
   "outputs": [],
   "source": [
    "all_hist.isnull().sum()\n"
   ]
  },
  {
   "cell_type": "code",
   "execution_count": null,
   "id": "c0df6f36-71f4-4bda-a7f6-da5980b67d95",
   "metadata": {},
   "outputs": [],
   "source": [
    "#all_hist.reset_index()"
   ]
  },
  {
   "cell_type": "code",
   "execution_count": null,
   "id": "2c5066b9-31f6-4a19-975e-0be17a618b26",
   "metadata": {},
   "outputs": [],
   "source": [
    "all_hist['STATION ID'].nunique()"
   ]
  },
  {
   "cell_type": "code",
   "execution_count": null,
   "id": "b139496f-f956-4ec5-a556-6f95dfd1f1df",
   "metadata": {},
   "outputs": [],
   "source": [
    "bike_stations = all_hist[['STATION ID','NAME','BIKE_STANDS','STATUS','LATITUDE', 'LONGITUDE']].drop_duplicates(subset=[\"STATION ID\"])\n",
    "bike_stations.head()"
   ]
  },
  {
   "cell_type": "code",
   "execution_count": null,
   "id": "c5c93e03-2930-4378-8ae4-025ff49f36e4",
   "metadata": {},
   "outputs": [],
   "source": [
    "import plotly.express as px\n",
    "fig = px.scatter_mapbox(bike_stations, \n",
    "                        lat=\"LATITUDE\",\n",
    "                        lon=\"LONGITUDE\", \n",
    "                        color=\"STATUS\", \n",
    "                        size=\"BIKE_STANDS\", \n",
    "                        color_continuous_scale=px.colors.cyclical.IceFire,\n",
    "                        size_max=15, \n",
    "                        zoom=12, \n",
    "                        hover_data=[\"BIKE_STANDS\"],\n",
    "                        mapbox_style=\"open-street-map\")\n",
    "\n",
    "# Update layout for larger figure size\n",
    "fig.update_layout(\n",
    "    title=\"Bike Stations in Dublin\",\n",
    "    autosize=False,\n",
    "    width=1200, \n",
    "    height=600,  \n",
    ")\n",
    "fig.show()"
   ]
  },
  {
   "cell_type": "code",
   "execution_count": null,
   "id": "83208065-4978-4835-9578-ce2cd0a69561",
   "metadata": {},
   "outputs": [],
   "source": [
    "fig = px.pie(bike_stations, values='BIKE_STANDS', names='STATUS')\n",
    "fig.update_layout(\n",
    "    title=\"Bike Stations in Dublin\",\n",
    "    autosize=False,\n",
    "    width=400,  \n",
    "    height=400, \n",
    ")\n",
    "\n",
    "fig.show()"
   ]
  },
  {
   "cell_type": "code",
   "execution_count": null,
   "id": "3f5a2123-05db-4390-911e-d76857fc0be4",
   "metadata": {},
   "outputs": [],
   "source": [
    "bike_usage = all_hist[['TIME', 'STATION ID', 'NAME', 'BIKE_STANDS','AVAILABLE_BIKES']]\n",
    "\n",
    "bike_usage['TIME'] = pd.to_datetime(bike_usage['TIME'])\n",
    "bike_usage.set_index('TIME')"
   ]
  },
  {
   "cell_type": "code",
   "execution_count": null,
   "id": "36eb3080",
   "metadata": {},
   "outputs": [],
   "source": [
    "bicing_df['capacity'].sum()"
   ]
  },
  {
   "cell_type": "code",
   "execution_count": 45,
   "id": "cfe8efc2",
   "metadata": {},
   "outputs": [
    {
     "ename": "NameError",
     "evalue": "name 'bicing_df' is not defined",
     "output_type": "error",
     "traceback": [
      "\u001b[1;31m---------------------------------------------------------------------------\u001b[0m",
      "\u001b[1;31mNameError\u001b[0m                                 Traceback (most recent call last)",
      "Cell \u001b[1;32mIn[45], line 1\u001b[0m\n\u001b[1;32m----> 1\u001b[0m \u001b[43mbicing_df\u001b[49m\u001b[38;5;241m.\u001b[39mhead()\n",
      "\u001b[1;31mNameError\u001b[0m: name 'bicing_df' is not defined"
     ]
    }
   ],
   "source": [
    "bicing_df.head()"
   ]
  },
  {
   "cell_type": "code",
   "execution_count": null,
   "id": "0406d635",
   "metadata": {
    "scrolled": true
   },
   "outputs": [],
   "source": [
    "# pandas and numpy already imported at the begining of this notebook\n",
    "pop02_df = pd.read_csv(pea04)\n",
    "pop02_df\n",
    "\n"
   ]
  },
  {
   "cell_type": "markdown",
   "id": "be3cb698",
   "metadata": {},
   "source": [
    "\n",
    "    As the second dataset has data from 2011 to 2023. We need to filter the first dataframe, getting data from 1996 to 2010, and after that, we will merge the dataframes into one. We'll call it 'population_df"
   ]
  },
  {
   "cell_type": "code",
   "execution_count": null,
   "id": "186ffbbb",
   "metadata": {},
   "outputs": [],
   "source": [
    "# concat needs only one\n",
    "population_df=pd.concat([pop01_df, pop02_df],ignore_index=True)\n",
    "population_df"
   ]
  },
  {
   "cell_type": "code",
   "execution_count": null,
   "id": "b47fa4d1",
   "metadata": {
    "scrolled": true
   },
   "outputs": [],
   "source": [
    "# Merge the two DataFrames on the 'Year' column\n",
    "population_df = pop01_df.merge(pop02_df, on='Year', how='outer')\n",
    "population_df.head()"
   ]
  },
  {
   "cell_type": "markdown",
   "id": "8b2a4126",
   "metadata": {},
   "source": [
    "    Now, we have columns _x and _y. We need to fill the NaN values in the _x columns with values from the corresponding _y columns.\n",
    "\n",
    "    We will create a loop to check the column names in each item of a list called 'column_names.' If the column name ends with _x, we will fill it with values from the corresponding column ending in _y.\""
   ]
  },
  {
   "cell_type": "code",
   "execution_count": null,
   "id": "dea87700",
   "metadata": {},
   "outputs": [],
   "source": [
    "\n",
    "# Getting the collumns names\n",
    "column_names = population_df.columns\n",
    "\n",
    "# for loop to fill the _x columns\n",
    "for column_name in population_df.columns:\n",
    "    if column_name.endswith('_x'):\n",
    "        population_df[column_name].fillna(population_df[column_name[:-2]+'_y'], inplace=True)\n",
    "    \n",
    "population_df.head() "
   ]
  },
  {
   "cell_type": "code",
   "execution_count": null,
   "id": "b5fc996d",
   "metadata": {},
   "outputs": [],
   "source": [
    "#function to rename the columns merged,  remove the '_x' at the end.\n",
    "# function rename_columns  will check into columns list, and each column ended in _x, the _x (-2 letters) will be removed.\n",
    "\n",
    "def rename_columns_x(df):\n",
    "\n",
    "  # Create a list of the new column names.\n",
    "  new_column_names = []\n",
    "  for column_name in population_df.columns:\n",
    "    if column_name.endswith('_x'):\n",
    "      new_column_name = column_name[:-2]\n",
    "    else:\n",
    "      new_column_name = column_name\n",
    "\n",
    "    new_column_names.append(new_column_name)\n",
    "\n",
    "  # Rename the columns of the DataFrame.\n",
    "  population_df.columns = new_column_names\n",
    "\n",
    "  return df\n",
    "\n",
    "\n",
    "# calling the function to rename the columns of the DataFrame.\n",
    "population_df = rename_columns_x(population_df)\n",
    "\n",
    "population_df.columns\n"
   ]
  },
  {
   "cell_type": "code",
   "execution_count": null,
   "id": "87216633",
   "metadata": {
    "scrolled": true
   },
   "outputs": [],
   "source": [
    "# This for loop will drop every column ended with _y \n",
    "for col in population_df.columns:\n",
    "    if col.endswith(\"_y\"):\n",
    "        population_df.drop(col, axis=1, inplace=True)\n",
    "\n",
    "population_df.head()"
   ]
  },
  {
   "cell_type": "markdown",
   "id": "79c35b85",
   "metadata": {},
   "source": [
    "### Looking for duplicated rows"
   ]
  },
  {
   "cell_type": "code",
   "execution_count": null,
   "id": "8313dd3d",
   "metadata": {},
   "outputs": [],
   "source": [
    "population_df[population_df.duplicated()]"
   ]
  },
  {
   "cell_type": "code",
   "execution_count": null,
   "id": "9d9ee2c8",
   "metadata": {},
   "outputs": [],
   "source": [
    "# cjq01  variable already inicialized at the begining of this notebook.\n",
    "crime_df=pd.read_csv(cjq01)\n",
    "crime_df.head()"
   ]
  },
  {
   "cell_type": "markdown",
   "id": "d38df3b9",
   "metadata": {},
   "source": [
    "Also We can see the top 5 most comon type of offence"
   ]
  },
  {
   "cell_type": "markdown",
   "id": "96e42e00",
   "metadata": {},
   "source": [
    "## Crime Rate dataset\n",
    "Now that we have an overall about the population, lets dive into the crime rate dataframe, using some statistical approach: Lets call it: \"crime_df\"\n",
    "        "
   ]
  },
  {
   "cell_type": "code",
   "execution_count": null,
   "id": "0eb238ea",
   "metadata": {
    "scrolled": true
   },
   "outputs": [],
   "source": [
    "from scipy import stats\n",
    "from empiricaldist import Pmf, Cdf\n",
    "from matplotlib.ticker import PercentFormatter\n",
    "\n"
   ]
  },
  {
   "cell_type": "markdown",
   "id": "224293e1",
   "metadata": {},
   "source": [
    "## The method describe shows important information about the dataset.\n",
    "    * mean: The average of crime over these types.\n",
    "    * max: The largest value in the type of crime.\n",
    "    * median: (middle value) of recorded crime incidents.\n",
    "    * minimum: and maximum values in the dataset.\n",
    "    * standard deviation to measure the spread of the data.\n"
   ]
  },
  {
   "cell_type": "code",
   "execution_count": null,
   "id": "62ceea98",
   "metadata": {},
   "outputs": [],
   "source": [
    "crime_df['VALUE'].describe()"
   ]
  }
 ],
 "metadata": {
  "kernelspec": {
   "display_name": "Python 3 (ipykernel)",
   "language": "python",
   "name": "python3"
  },
  "language_info": {
   "codemirror_mode": {
    "name": "ipython",
    "version": 3
   },
   "file_extension": ".py",
   "mimetype": "text/x-python",
   "name": "python",
   "nbconvert_exporter": "python",
   "pygments_lexer": "ipython3",
   "version": "3.9.12"
  }
 },
 "nbformat": 4,
 "nbformat_minor": 5
}
