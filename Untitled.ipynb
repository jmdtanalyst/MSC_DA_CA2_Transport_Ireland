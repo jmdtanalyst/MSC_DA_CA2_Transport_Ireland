{
 "cells": [
  {
   "cell_type": "code",
   "execution_count": 1,
   "id": "2741db1b-88cc-4053-9453-3f4d1b42e1c7",
   "metadata": {},
   "outputs": [
    {
     "name": "stderr",
     "output_type": "stream",
     "text": [
      "C:\\Users\\JoseMariodaCruzCosta\\anaconda3\\lib\\site-packages\\scipy\\__init__.py:146: UserWarning: A NumPy version >=1.16.5 and <1.23.0 is required for this version of SciPy (detected version 1.26.2\n",
      "  warnings.warn(f\"A NumPy version >={np_minversion} and <{np_maxversion}\"\n"
     ]
    }
   ],
   "source": [
    "import pandas as pd\n",
    "import os\n",
    "import plotly.express as px\n",
    "import matplotlib as plt\n",
    "\n",
    "import warnings\n"
   ]
  },
  {
   "cell_type": "code",
   "execution_count": 49,
   "id": "7a5da640-5e0e-48ba-ac3f-e0baf2575103",
   "metadata": {},
   "outputs": [],
   "source": [
    "dublin_hist = pd.DataFrame()\n"
   ]
  },
  {
   "cell_type": "code",
   "execution_count": 52,
   "id": "95ff1595-54f4-438d-9539-5f3b5751b19c",
   "metadata": {},
   "outputs": [
    {
     "data": {
      "text/plain": [
       "(1923492, 11)"
      ]
     },
     "execution_count": 52,
     "metadata": {},
     "output_type": "execute_result"
    }
   ],
   "source": [
    "# Using Test function to verify if files exists:\n",
    "\n",
    "\n",
    "    # for loop will load the file in a dataframe \"current_month\" and concatenate it to the dataframe \"dublin_hist\".\n",
    "current_month = pd.read_csv('dublinbike-historical-data-2023-09-12.csv')\n",
    "        \n",
    "dublin_hist = pd.concat([dublin_hist, current_month])\n",
    "dublin_hist.shape"
   ]
  },
  {
   "cell_type": "code",
   "execution_count": 14,
   "id": "9bc84da0-5360-4b62-940c-6da41ab2f4de",
   "metadata": {},
   "outputs": [
    {
     "data": {
      "text/plain": [
       "(655051, 11)"
      ]
     },
     "execution_count": 14,
     "metadata": {},
     "output_type": "execute_result"
    }
   ],
   "source": []
  },
  {
   "cell_type": "code",
   "execution_count": 44,
   "id": "03e5f3e0-4b7b-44f5-9a17-cbffcb405462",
   "metadata": {},
   "outputs": [],
   "source": [
    "dublin_hist.to_csv('dublinbike-historical-data-2023-09-12.csv',  index = False)"
   ]
  }
 ],
 "metadata": {
  "kernelspec": {
   "display_name": "Python 3 (ipykernel)",
   "language": "python",
   "name": "python3"
  },
  "language_info": {
   "codemirror_mode": {
    "name": "ipython",
    "version": 3
   },
   "file_extension": ".py",
   "mimetype": "text/x-python",
   "name": "python",
   "nbconvert_exporter": "python",
   "pygments_lexer": "ipython3",
   "version": "3.9.12"
  }
 },
 "nbformat": 4,
 "nbformat_minor": 5
}
