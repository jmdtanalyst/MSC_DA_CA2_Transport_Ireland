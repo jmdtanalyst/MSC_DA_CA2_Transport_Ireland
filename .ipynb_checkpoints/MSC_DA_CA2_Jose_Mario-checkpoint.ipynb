{
 "cells": [
  {
   "cell_type": "markdown",
   "id": "549c929c-11d0-4f1d-ae07-b97af747b6fc",
   "metadata": {},
   "source": [
    "## Data Preparation:\n",
    "### is the first step to be performed with the data. This process consists of collecting, cleaning, transforming, and manipulating raw data to make it usable for analysis. "
   ]
  },
  {
   "cell_type": "code",
   "execution_count": 3,
   "id": "015a2067-d874-4fd1-ad8f-7ba2ae30a9c2",
   "metadata": {},
   "outputs": [],
   "source": [
    "import pandas as pd\n",
    "import os\n",
    "import plotly.express as px\n",
    "import matplotlib as plt\n",
    "\n",
    "import warnings\n",
    "\n",
    "warnings.filterwarnings(\"ignore\")"
   ]
  },
  {
   "cell_type": "markdown",
   "id": "7a4a2046-4301-4ca5-9d88-1429608a0203",
   "metadata": {
    "tags": []
   },
   "source": [
    "# Dublin Bikes datasets:\n",
    "    These datasets were collected from data.gov.ie and they are under License: Creative Commons Attribution 4.0 (CC BY 4.0)\n",
    "    As a total de 12 file were downloaded, this code will read all files and concatenate into a data frame called dublin_hist.\n"
   ]
  },
  {
   "cell_type": "code",
   "execution_count": 4,
   "id": "ca0b681b-ce88-4fc1-b3e5-d38207f12990",
   "metadata": {},
   "outputs": [
    {
     "data": {
      "text/plain": [
       "(1852356, 11)"
      ]
     },
     "execution_count": 4,
     "metadata": {},
     "output_type": "execute_result"
    }
   ],
   "source": [
    "path = \"./\"\n",
    "files = [file for file in os.listdir(path) if file.startswith('dublinbike-historical-data-2023') ] # filter only historical data files\n",
    "\n",
    "dublin_hist = pd.DataFrame()\n",
    "\n",
    "# for loop will load the file in a dataframe \"current_month\" and concatenate it to the dataframe \"dublin_hist\".\n",
    "for file in files:\n",
    "    current_month = pd.read_csv(path+\"/\"+file)\n",
    "    dublin_hist = pd.concat([dublin_hist, current_month])\n",
    "\n",
    "dublin_hist.shape"
   ]
  },
  {
   "cell_type": "markdown",
   "id": "8744ab22-755f-47f2-abbc-829cd46ea39e",
   "metadata": {
    "tags": []
   },
   "source": [
    "### Extracting Station Name and Location for a new dataframe: dublin_bike_stations\n",
    "    From the dataset, the bike stations will be extracted buy removing duplicates stations from all hist also, unicessary columns will be removed"
   ]
  },
  {
   "cell_type": "code",
   "execution_count": 5,
   "id": "6aefee10-8feb-44e4-ab20-1d4351c53002",
   "metadata": {},
   "outputs": [
    {
     "data": {
      "text/html": [
       "<div>\n",
       "<style scoped>\n",
       "    .dataframe tbody tr th:only-of-type {\n",
       "        vertical-align: middle;\n",
       "    }\n",
       "\n",
       "    .dataframe tbody tr th {\n",
       "        vertical-align: top;\n",
       "    }\n",
       "\n",
       "    .dataframe thead th {\n",
       "        text-align: right;\n",
       "    }\n",
       "</style>\n",
       "<table border=\"1\" class=\"dataframe\">\n",
       "  <thead>\n",
       "    <tr style=\"text-align: right;\">\n",
       "      <th></th>\n",
       "      <th>STATION ID</th>\n",
       "      <th>NAME</th>\n",
       "      <th>BIKE_STANDS</th>\n",
       "      <th>STATUS</th>\n",
       "      <th>LATITUDE</th>\n",
       "      <th>LONGITUDE</th>\n",
       "    </tr>\n",
       "  </thead>\n",
       "  <tbody>\n",
       "    <tr>\n",
       "      <th>0</th>\n",
       "      <td>1</td>\n",
       "      <td>CLARENDON ROW</td>\n",
       "      <td>31</td>\n",
       "      <td>OPEN</td>\n",
       "      <td>53.3409</td>\n",
       "      <td>-6.26250</td>\n",
       "    </tr>\n",
       "    <tr>\n",
       "      <th>1</th>\n",
       "      <td>2</td>\n",
       "      <td>BLESSINGTON STREET</td>\n",
       "      <td>20</td>\n",
       "      <td>OPEN</td>\n",
       "      <td>53.3568</td>\n",
       "      <td>-6.26814</td>\n",
       "    </tr>\n",
       "    <tr>\n",
       "      <th>2</th>\n",
       "      <td>3</td>\n",
       "      <td>BOLTON STREET</td>\n",
       "      <td>20</td>\n",
       "      <td>OPEN</td>\n",
       "      <td>53.3512</td>\n",
       "      <td>-6.26986</td>\n",
       "    </tr>\n",
       "    <tr>\n",
       "      <th>3</th>\n",
       "      <td>4</td>\n",
       "      <td>GREEK STREET</td>\n",
       "      <td>20</td>\n",
       "      <td>OPEN</td>\n",
       "      <td>53.3469</td>\n",
       "      <td>-6.27298</td>\n",
       "    </tr>\n",
       "    <tr>\n",
       "      <th>4</th>\n",
       "      <td>5</td>\n",
       "      <td>CHARLEMONT PLACE</td>\n",
       "      <td>40</td>\n",
       "      <td>OPEN</td>\n",
       "      <td>53.3307</td>\n",
       "      <td>-6.26018</td>\n",
       "    </tr>\n",
       "  </tbody>\n",
       "</table>\n",
       "</div>"
      ],
      "text/plain": [
       "   STATION ID                NAME  BIKE_STANDS STATUS  LATITUDE  LONGITUDE\n",
       "0           1       CLARENDON ROW           31   OPEN   53.3409   -6.26250\n",
       "1           2  BLESSINGTON STREET           20   OPEN   53.3568   -6.26814\n",
       "2           3       BOLTON STREET           20   OPEN   53.3512   -6.26986\n",
       "3           4        GREEK STREET           20   OPEN   53.3469   -6.27298\n",
       "4           5    CHARLEMONT PLACE           40   OPEN   53.3307   -6.26018"
      ]
     },
     "execution_count": 5,
     "metadata": {},
     "output_type": "execute_result"
    }
   ],
   "source": [
    "dublin_bike_stations = dublin_hist[['STATION ID','NAME','BIKE_STANDS','STATUS','LATITUDE', 'LONGITUDE']].drop_duplicates(subset=[\"STATION ID\"])\n",
    "\n",
    "dublin_bike_stations.head()"
   ]
  },
  {
   "cell_type": "markdown",
   "id": "ba371e3b-fb92-463e-8084-c66d5bc4fdcf",
   "metadata": {},
   "source": [
    "### For proper analysis, only historical data and open station_id will be selected.\n"
   ]
  },
  {
   "cell_type": "code",
   "execution_count": 6,
   "id": "4ffda05a-57ac-4f25-858a-ea61c11d0958",
   "metadata": {},
   "outputs": [
    {
     "data": {
      "text/html": [
       "<div>\n",
       "<style scoped>\n",
       "    .dataframe tbody tr th:only-of-type {\n",
       "        vertical-align: middle;\n",
       "    }\n",
       "\n",
       "    .dataframe tbody tr th {\n",
       "        vertical-align: top;\n",
       "    }\n",
       "\n",
       "    .dataframe thead th {\n",
       "        text-align: right;\n",
       "    }\n",
       "</style>\n",
       "<table border=\"1\" class=\"dataframe\">\n",
       "  <thead>\n",
       "    <tr style=\"text-align: right;\">\n",
       "      <th></th>\n",
       "      <th>STATION ID</th>\n",
       "      <th>TIME</th>\n",
       "      <th>BIKE_STANDS</th>\n",
       "      <th>BIKES_IN_USE</th>\n",
       "      <th>AVAILABLE_BIKES</th>\n",
       "    </tr>\n",
       "  </thead>\n",
       "  <tbody>\n",
       "    <tr>\n",
       "      <th>0</th>\n",
       "      <td>1</td>\n",
       "      <td>2023-01-01 00:00:03</td>\n",
       "      <td>31</td>\n",
       "      <td>31</td>\n",
       "      <td>0</td>\n",
       "    </tr>\n",
       "    <tr>\n",
       "      <th>1</th>\n",
       "      <td>2</td>\n",
       "      <td>2023-01-01 00:00:03</td>\n",
       "      <td>20</td>\n",
       "      <td>18</td>\n",
       "      <td>2</td>\n",
       "    </tr>\n",
       "    <tr>\n",
       "      <th>2</th>\n",
       "      <td>3</td>\n",
       "      <td>2023-01-01 00:00:03</td>\n",
       "      <td>20</td>\n",
       "      <td>9</td>\n",
       "      <td>11</td>\n",
       "    </tr>\n",
       "    <tr>\n",
       "      <th>3</th>\n",
       "      <td>4</td>\n",
       "      <td>2023-01-01 00:00:03</td>\n",
       "      <td>20</td>\n",
       "      <td>8</td>\n",
       "      <td>12</td>\n",
       "    </tr>\n",
       "    <tr>\n",
       "      <th>4</th>\n",
       "      <td>5</td>\n",
       "      <td>2023-01-01 00:00:03</td>\n",
       "      <td>40</td>\n",
       "      <td>16</td>\n",
       "      <td>24</td>\n",
       "    </tr>\n",
       "  </tbody>\n",
       "</table>\n",
       "</div>"
      ],
      "text/plain": [
       "   STATION ID                TIME  BIKE_STANDS  BIKES_IN_USE  AVAILABLE_BIKES\n",
       "0           1 2023-01-01 00:00:03           31            31                0\n",
       "1           2 2023-01-01 00:00:03           20            18                2\n",
       "2           3 2023-01-01 00:00:03           20             9               11\n",
       "3           4 2023-01-01 00:00:03           20             8               12\n",
       "4           5 2023-01-01 00:00:03           40            16               24"
      ]
     },
     "execution_count": 6,
     "metadata": {},
     "output_type": "execute_result"
    }
   ],
   "source": [
    "# Filtering only OPEN stations and rename columns.\n",
    "dublin_hist = dublin_hist[dublin_hist['STATUS'] == 'OPEN']\n",
    "\n",
    "dublin_hist = dublin_hist[['STATION ID', 'TIME', 'BIKE_STANDS', 'AVAILABLE_BIKE_STANDS', 'AVAILABLE_BIKES']]\n",
    "\n",
    "#rename column AVAILABLE_BIKE_STANDS to BIKES_IN_USE\n",
    "dublin_hist.rename(columns={'AVAILABLE_BIKE_STANDS': 'BIKES_IN_USE'}, inplace=True)\n",
    "\n",
    "\n",
    "# Setting the TIME collumn to datetime\n",
    "dublin_hist['TIME'] = pd.to_datetime(dublin_hist['TIME'])\n",
    "dublin_hist.head()"
   ]
  },
  {
   "cell_type": "markdown",
   "id": "bfdab11f-2485-4bc0-beca-e670a4dcf3d1",
   "metadata": {
    "tags": []
   },
   "source": [
    "# Calculating the number of trips \n",
    "\n",
    "    to get the number of  trips, its is necessary to create a for loop, to filter the dataframe by STATION ID and compare the number of BIKES_IN_USE from current row, to the previous row (diff),  if the number of BIKES_IN_USE is  bigger the previous row, so its a new trip otherwise not"
   ]
  },
  {
   "cell_type": "code",
   "execution_count": 7,
   "id": "1248100c-5d61-41e2-9bf6-eb3475957883",
   "metadata": {},
   "outputs": [
    {
     "data": {
      "text/html": [
       "<div>\n",
       "<style scoped>\n",
       "    .dataframe tbody tr th:only-of-type {\n",
       "        vertical-align: middle;\n",
       "    }\n",
       "\n",
       "    .dataframe tbody tr th {\n",
       "        vertical-align: top;\n",
       "    }\n",
       "\n",
       "    .dataframe thead th {\n",
       "        text-align: right;\n",
       "    }\n",
       "</style>\n",
       "<table border=\"1\" class=\"dataframe\">\n",
       "  <thead>\n",
       "    <tr style=\"text-align: right;\">\n",
       "      <th></th>\n",
       "      <th>STATION ID</th>\n",
       "      <th>TIME</th>\n",
       "      <th>BIKE_STANDS</th>\n",
       "      <th>BIKES_IN_USE</th>\n",
       "      <th>AVAILABLE_BIKES</th>\n",
       "      <th>TRIPS</th>\n",
       "    </tr>\n",
       "  </thead>\n",
       "  <tbody>\n",
       "    <tr>\n",
       "      <th>1921</th>\n",
       "      <td>1</td>\n",
       "      <td>2023-01-01 08:30:03</td>\n",
       "      <td>31</td>\n",
       "      <td>31</td>\n",
       "      <td>0</td>\n",
       "      <td>1.0</td>\n",
       "    </tr>\n",
       "    <tr>\n",
       "      <th>2938</th>\n",
       "      <td>1</td>\n",
       "      <td>2023-01-01 13:00:02</td>\n",
       "      <td>31</td>\n",
       "      <td>29</td>\n",
       "      <td>2</td>\n",
       "      <td>1.0</td>\n",
       "    </tr>\n",
       "    <tr>\n",
       "      <th>3390</th>\n",
       "      <td>1</td>\n",
       "      <td>2023-01-01 15:00:03</td>\n",
       "      <td>31</td>\n",
       "      <td>29</td>\n",
       "      <td>2</td>\n",
       "      <td>1.0</td>\n",
       "    </tr>\n",
       "    <tr>\n",
       "      <th>3616</th>\n",
       "      <td>1</td>\n",
       "      <td>2023-01-01 16:00:02</td>\n",
       "      <td>31</td>\n",
       "      <td>29</td>\n",
       "      <td>2</td>\n",
       "      <td>1.0</td>\n",
       "    </tr>\n",
       "    <tr>\n",
       "      <th>3842</th>\n",
       "      <td>1</td>\n",
       "      <td>2023-01-01 17:00:03</td>\n",
       "      <td>31</td>\n",
       "      <td>30</td>\n",
       "      <td>1</td>\n",
       "      <td>1.0</td>\n",
       "    </tr>\n",
       "  </tbody>\n",
       "</table>\n",
       "</div>"
      ],
      "text/plain": [
       "      STATION ID                TIME  BIKE_STANDS  BIKES_IN_USE  \\\n",
       "1921           1 2023-01-01 08:30:03           31            31   \n",
       "2938           1 2023-01-01 13:00:02           31            29   \n",
       "3390           1 2023-01-01 15:00:03           31            29   \n",
       "3616           1 2023-01-01 16:00:02           31            29   \n",
       "3842           1 2023-01-01 17:00:03           31            30   \n",
       "\n",
       "      AVAILABLE_BIKES  TRIPS  \n",
       "1921                0    1.0  \n",
       "2938                2    1.0  \n",
       "3390                2    1.0  \n",
       "3616                2    1.0  \n",
       "3842                1    1.0  "
      ]
     },
     "execution_count": 7,
     "metadata": {},
     "output_type": "execute_result"
    }
   ],
   "source": [
    "# create a empty dataframe to receive the cleaned result\n",
    "bike_usage = pd.DataFrame()\n",
    "\n",
    "for i in dublin_bike_stations['STATION ID']:\n",
    "    # filter by STATION ID \n",
    "    fitered = dublin_hist[dublin_hist['STATION ID']== i]\n",
    "\n",
    "    # Sorting by time\n",
    "    fitered = fitered.sort_values(by=['TIME'], ascending=True)\n",
    "    \n",
    "    # creating a new collumn, \"TRIPS\" and getting the diff of each row\n",
    "    fitered[\"TRIPS\"] = fitered[\"BIKES_IN_USE\"].diff()\n",
    "    \n",
    "    # Concatenat the new bike_usage dataframe with the filtered dataframe (only with trips)\n",
    "    bike_usage = pd.concat([bike_usage, fitered[fitered['TRIPS']>0]])\n",
    "\n",
    "\n",
    "\n",
    "bike_usage.head()"
   ]
  },
  {
   "cell_type": "markdown",
   "id": "be3fb7d1-6778-4615-b684-2eb1e4ed168c",
   "metadata": {},
   "source": [
    "# Dublin Bikes Reviews\n",
    "    For collection of Dublin Bikes Reviews, a tripadvisor API was created and stored in a .env file\n",
    "    For collection of Dublin Bikes Reviews through API, the IP address of the client must be specified in tripadvisor development platform.\n",
    "    Also, a Webscraping was performed on Yelp.com website.\n",
    "    * Yelp's Terms of Service specifically forbid scraping their website for commercial purposes. However, they do allow scraping for personal, non-commercial and research purposes. "
   ]
  },
  {
   "cell_type": "code",
   "execution_count": null,
   "id": "9bce2b81-619f-4299-9fa2-21147e3e90ff",
   "metadata": {},
   "outputs": [],
   "source": [
    "from dotenv import load_dotenv\n",
    "from os import getenv\n",
    "load_dotenv()\n",
    "import requests\n",
    "import json\n",
    "\n",
    "# Setting Parameters\n",
    "api_key = getenv('API_KEY')   \n",
    "location_id = \"6439815\"   # Dublin Bikes id in TripAdvisor.\n",
    "\n",
    "url = f\"https://api.tripadvisor.com/api/partner/2.0/location/{location_id}/reviews\"\n",
    "\n",
    "headers = {\n",
    "    \"Content-Type\": \"application/json\",\n",
    "    \"X-TripAdvisor-API-Key\": api_key, \n",
    "}\n",
    "\n",
    "\n",
    "# This code makes a GET request, If the status code is 200 (Sucess), then it extracts the JSON data from the response and converts it into a pandas DataFrame. \n",
    "# If the status code is not 200, then it prints an error message\n",
    "\n",
    "response = requests.get(url, headers=headers)\n",
    "\n",
    "if response.status_code == 200:\n",
    "    \n",
    "    data = response.json()\n",
    "    reviews_df = pd.DataFrame( data['data'])\n",
    "       \n",
    "else:\n",
    "    print(f\"Error: {response.status_code}\")\n",
    "    print(response.text)\n",
    "\n",
    "#print the dataframe:\n",
    "reviews_df"
   ]
  },
  {
   "cell_type": "markdown",
   "id": "cd038754-f9ef-4b66-8bca-b38fc55e823e",
   "metadata": {},
   "source": [
    "    The API request was successful, but analysing the results and the documentation from TripAdvisor, the API return onle the las 5 reviews, which were note a significant population to perfor Machine Learning Research.\n",
    "    Due this result, a WebScraper Code was generated."
   ]
  },
  {
   "cell_type": "code",
   "execution_count": null,
   "id": "b6eecbd4-3d56-40ad-8991-734ed5e512bf",
   "metadata": {},
   "outputs": [],
   "source": [
    "import requests\n",
    "from bs4 import BeautifulSoup \n",
    "\n",
    "url_list = 'https://www.yelp.ie/biz/capital-bikeshare-washington?osq=capital+bikeshare'\n",
    "headers = {\"User-Agent\": \"Mozilla/5.0 (Windows NT 10.0; Win64; x64) AppleWebKit/537.36 (KHTML, like Gecko) Chrome/107.0.0.0 Safari/537.36\"}\n",
    "\n",
    "# The function getinfo retrieves reviews and their corresponding titles and ratings from  tripadvisor URL.\n",
    "# it uses BeautifulSoup to scrape the website and stores the extracted data in a Pandas DataFrame.\n",
    "# Args: url (str): The URL of the website containing the reviews to be extracted.\n",
    "# Returns:  review_df (DataFrame): A Pandas DataFrame containing the title, reviews and ratings.\n",
    "\n",
    "#def getinfo(url):     \n",
    "        \n",
    "\n",
    "response = requests.get(url_list)\n",
    "soup = BeautifulSoup(response.content, 'html.parser')\n",
    "#yelpreview_df = pd.DataFrame()\n",
    "        "
   ]
  },
  {
   "cell_type": "code",
   "execution_count": null,
   "id": "26f22ada-da10-4ff2-9e19-881db93ba7b3",
   "metadata": {},
   "outputs": [],
   "source": [
    "soup"
   ]
  },
  {
   "cell_type": "code",
   "execution_count": null,
   "id": "ebd133ac-4d5a-4475-9b0d-a8f8d5d4164e",
   "metadata": {},
   "outputs": [],
   "source": [
    "review = soup.find_all('span', attrs={'class': 'raw__09f24__T4Ezm'})\n",
    "    #review_lst = []\n",
    "      #  for title in titles:\n",
    "       #      title_lst.append(title.find('span', attrs={'class': 'raw__09f24__T4Ezm'}).text)\n",
    "        \n",
    "        \n",
    "       # reviews = soup.find_all('span', attrs={'class':'JguWG'})\n",
    "\n",
    "        #review_list = []\n",
    "        #for review in reviews:\n",
    "        #        review_list.append(review.find('span', attrs={'class': 'yCeTE'}).text)\n",
    "                \n",
    "       # rate = soup.find_all('svg', attrs={'class':'UctUV d H0'})\n",
    "       # rate_list = []\n",
    "       # for r in rate:\n",
    "       #         rate_list.append(r.get('aria-label'))\n",
    "        \n",
    "        #yelpreview_df['title'] = pd.DataFrame(title_lst)\n",
    "        #review_df['review'] = pd.DataFrame(review_list)\n",
    "        #review_df['rate'] = pd.DataFrame(rate_list)\n",
    "review   \n",
    "        \n",
    "#return yelpreview_df"
   ]
  },
  {
   "cell_type": "code",
   "execution_count": null,
   "id": "21372163-5c41-4bfe-9443-e240bec49fd4",
   "metadata": {},
   "outputs": [],
   "source": [
    "# this code will call the function \"getinfo\" for each url in the list \"url_list\"\n",
    "# it will wait for 15 seconds between each call to the function \"getinfo\" to avoid overloading the server and getting no response.\n",
    "error = False\n",
    "import time\n",
    "all_reviews_df = pd.DataFrame()\n",
    "for url in url_list:\n",
    "    time.sleep(15)\n",
    "    try:\n",
    "        all_reviews_df = pd.concat([all_reviews_df, getinfo(url)])    \n",
    "    except Exception:\n",
    "        print('Error to scrap url:', url)\n",
    "        error = True\n",
    "\n",
    "all_reviews_df\n",
    "\n",
    "#all_reviews_df['rate'] = all_reviews_df['rate'].str.slice(0,3)"
   ]
  },
  {
   "cell_type": "markdown",
   "id": "3ad2b5d3-92e3-4b5b-b521-b42542aa9fe5",
   "metadata": {},
   "source": [
    "# Capital BikeShare Dataset\n",
    "    These datasets were collected from: https://ride.capitalbikeshare.com/system-data and they are under \"Capital Bikeshare Data License Agreement\"\n",
    "    As a total de 12 file were downloaded, this code will read all files and concatenate into a data frame called capital_df.\n",
    "\n"
   ]
  },
  {
   "cell_type": "code",
   "execution_count": 8,
   "id": "7bfe98e5-8f4a-4f91-8655-6b69b05cef37",
   "metadata": {},
   "outputs": [
    {
     "data": {
      "text/plain": [
       "(3982701, 13)"
      ]
     },
     "execution_count": 8,
     "metadata": {},
     "output_type": "execute_result"
    }
   ],
   "source": [
    "\n",
    "path = \"./\"\n",
    "files = [file for file in os.listdir(path) if file.endswith('capitalbikeshare-tripdata.csv') ] # filter only historical data files\n",
    "\n",
    "capital_df = pd.DataFrame()\n",
    "\n",
    "# for loop will load the file in a dataframe \"current_month\" and concatenate it to the dataframe \"capital_df\".\n",
    "for file in files:\n",
    "    current_month = pd.read_csv(path+\"/\"+file)\n",
    "    capital_df = pd.concat([capital_df, current_month])\n",
    "\n",
    "capital_df.shape"
   ]
  },
  {
   "cell_type": "markdown",
   "id": "3f03eb74-26b4-4045-bb98-9526e07ba847",
   "metadata": {
    "tags": []
   },
   "source": [
    "### Extracting the Bike Station  location"
   ]
  },
  {
   "cell_type": "code",
   "execution_count": 9,
   "id": "b22de18a-47c5-4084-b845-1ccb0de513e7",
   "metadata": {},
   "outputs": [
    {
     "data": {
      "text/html": [
       "<div>\n",
       "<style scoped>\n",
       "    .dataframe tbody tr th:only-of-type {\n",
       "        vertical-align: middle;\n",
       "    }\n",
       "\n",
       "    .dataframe tbody tr th {\n",
       "        vertical-align: top;\n",
       "    }\n",
       "\n",
       "    .dataframe thead th {\n",
       "        text-align: right;\n",
       "    }\n",
       "</style>\n",
       "<table border=\"1\" class=\"dataframe\">\n",
       "  <thead>\n",
       "    <tr style=\"text-align: right;\">\n",
       "      <th></th>\n",
       "      <th>station_id</th>\n",
       "      <th>station_name</th>\n",
       "      <th>lat</th>\n",
       "      <th>long</th>\n",
       "    </tr>\n",
       "  </thead>\n",
       "  <tbody>\n",
       "    <tr>\n",
       "      <th>0</th>\n",
       "      <td>31904.0</td>\n",
       "      <td>East Falls Church Metro / Sycamore St &amp; 19th St N</td>\n",
       "      <td>38.885321</td>\n",
       "      <td>-77.156427</td>\n",
       "    </tr>\n",
       "    <tr>\n",
       "      <th>1</th>\n",
       "      <td>32025.0</td>\n",
       "      <td>Carroll &amp; Westmoreland Ave</td>\n",
       "      <td>38.975000</td>\n",
       "      <td>-77.011210</td>\n",
       "    </tr>\n",
       "    <tr>\n",
       "      <th>2</th>\n",
       "      <td>31276.0</td>\n",
       "      <td>15th &amp; L St NW</td>\n",
       "      <td>38.903649</td>\n",
       "      <td>-77.034918</td>\n",
       "    </tr>\n",
       "    <tr>\n",
       "      <th>3</th>\n",
       "      <td>32255.0</td>\n",
       "      <td>Hartland Rd &amp; Harte Pl</td>\n",
       "      <td>38.878601</td>\n",
       "      <td>-77.222808</td>\n",
       "    </tr>\n",
       "    <tr>\n",
       "      <th>4</th>\n",
       "      <td>32235.0</td>\n",
       "      <td>Merrifield Cinema &amp; Merrifield Town Center</td>\n",
       "      <td>38.870093</td>\n",
       "      <td>-77.229970</td>\n",
       "    </tr>\n",
       "  </tbody>\n",
       "</table>\n",
       "</div>"
      ],
      "text/plain": [
       "   station_id                                       station_name        lat  \\\n",
       "0     31904.0  East Falls Church Metro / Sycamore St & 19th St N  38.885321   \n",
       "1     32025.0                         Carroll & Westmoreland Ave  38.975000   \n",
       "2     31276.0                                     15th & L St NW  38.903649   \n",
       "3     32255.0                             Hartland Rd & Harte Pl  38.878601   \n",
       "4     32235.0         Merrifield Cinema & Merrifield Town Center  38.870093   \n",
       "\n",
       "        long  \n",
       "0 -77.156427  \n",
       "1 -77.011210  \n",
       "2 -77.034918  \n",
       "3 -77.222808  \n",
       "4 -77.229970  "
      ]
     },
     "execution_count": 9,
     "metadata": {},
     "output_type": "execute_result"
    }
   ],
   "source": [
    "capital_stations = capital_df[['start_station_id','start_station_name','start_lat','start_lng']].drop_duplicates(subset=[\"start_station_id\"])\n",
    "\n",
    "\n",
    "# rename the columns name\n",
    "col_names = {'start_station_id': 'station_id', 'start_station_name': 'station_name', 'start_lat': 'lat','start_lng':'long'}\n",
    "capital_stations.rename(columns=col_names, inplace=True)\n",
    "capital_stations.head()\n",
    "\n"
   ]
  },
  {
   "cell_type": "markdown",
   "id": "9370c20b-57ab-4074-bbd3-70f80d0c984a",
   "metadata": {
    "tags": []
   },
   "source": [
    "# Cleaning Capital_df dataset"
   ]
  },
  {
   "cell_type": "code",
   "execution_count": null,
   "id": "2f1f8319-83bb-4430-8f5e-1893552c1227",
   "metadata": {},
   "outputs": [],
   "source": [
    "capital_df.head()"
   ]
  },
  {
   "cell_type": "code",
   "execution_count": 10,
   "id": "569fde30-0f1b-4734-a5dd-4404011b836e",
   "metadata": {},
   "outputs": [
    {
     "name": "stdout",
     "output_type": "stream",
     "text": [
      "duplicated rides: 0\n",
      "Null Values: \n",
      " ride_id                    0\n",
      "rideable_type              0\n",
      "started_at                 0\n",
      "ended_at                   0\n",
      "start_station_name    354155\n",
      "start_station_id      354155\n",
      "end_station_name      376715\n",
      "end_station_id        376715\n",
      "start_lat                  0\n",
      "start_lng                  0\n",
      "end_lat                 5453\n",
      "end_lng                 5453\n",
      "member_casual              0\n",
      "dtype: int64\n"
     ]
    }
   ],
   "source": [
    "# Find out if is there any duplicated row and null value\n",
    "\n",
    "print('duplicated rides:' ,capital_df['ride_id'].duplicated().sum())\n",
    "print('Null Values: \\n',capital_df.isnull().sum())"
   ]
  },
  {
   "cell_type": "markdown",
   "id": "1bca0802-a719-4feb-a8c0-73757d2b6708",
   "metadata": {},
   "source": [
    "    Not duplicated rides, but there are some Station_id with null values. Its necessary to fix it\n"
   ]
  },
  {
   "cell_type": "code",
   "execution_count": null,
   "id": "5ab61f52-7be3-4b00-bb99-c5dc09e80d4e",
   "metadata": {},
   "outputs": [],
   "source": [
    "null_rows = capital_df[capital_df.isnull().any(axis=1)]\n"
   ]
  },
  {
   "cell_type": "code",
   "execution_count": null,
   "id": "3267eca6-cec9-4d42-963d-112f8abdfb05",
   "metadata": {},
   "outputs": [],
   "source": [
    "null_rows.head()"
   ]
  },
  {
   "cell_type": "markdown",
   "id": "a8294076-7147-42f0-a5ff-acc0cf77ec47",
   "metadata": {},
   "source": [
    "    For this dataset, each row represents one trip, and threre are other rows differente from dublin Bike, as the purpose is to compare both sistems, this dataset will be cleaned to became similar to dublin bikeshare dataset.\n",
    "    As, the purpose of this project is compare the quantity of riders,  these null values will be replaced by 'uknown station'"
   ]
  },
  {
   "cell_type": "code",
   "execution_count": 11,
   "id": "b5dd3313-f0df-4409-819c-541f8006c6e5",
   "metadata": {},
   "outputs": [],
   "source": [
    "capital_df = capital_df[['start_station_id','started_at']]\n",
    "\n",
    "\n",
    "# each row represents one trip\n",
    "capital_df['TRIPS']=1\n"
   ]
  },
  {
   "cell_type": "code",
   "execution_count": 12,
   "id": "f42ed9a1-387e-437c-b717-69de17c92018",
   "metadata": {},
   "outputs": [],
   "source": [
    "capital_df['start_station_id'].fillna('Unknown Station', inplace=True)\n"
   ]
  },
  {
   "cell_type": "code",
   "execution_count": 13,
   "id": "e543963c-952a-4aca-9453-740dcf0e28be",
   "metadata": {},
   "outputs": [],
   "source": [
    "# Set the right  type format of column\n",
    "\n",
    "capital_df['started_at'] = pd.to_datetime(capital_df['started_at'])\n"
   ]
  },
  {
   "cell_type": "code",
   "execution_count": null,
   "id": "08d6057a-66fa-4563-9816-83c792894bbb",
   "metadata": {},
   "outputs": [],
   "source": [
    "capital_df.info()"
   ]
  },
  {
   "cell_type": "markdown",
   "id": "5c612b62-0c1b-43c7-81e9-0fe49a133d43",
   "metadata": {},
   "source": [
    "# EDA - Early Data Exploration - Understanding the data"
   ]
  },
  {
   "cell_type": "code",
   "execution_count": 78,
   "id": "055cbca5-f409-4212-9ef5-33357041ceb1",
   "metadata": {},
   "outputs": [
    {
     "data": {
      "text/html": [
       "<div>\n",
       "<style scoped>\n",
       "    .dataframe tbody tr th:only-of-type {\n",
       "        vertical-align: middle;\n",
       "    }\n",
       "\n",
       "    .dataframe tbody tr th {\n",
       "        vertical-align: top;\n",
       "    }\n",
       "\n",
       "    .dataframe thead th {\n",
       "        text-align: right;\n",
       "    }\n",
       "</style>\n",
       "<table border=\"1\" class=\"dataframe\">\n",
       "  <thead>\n",
       "    <tr style=\"text-align: right;\">\n",
       "      <th></th>\n",
       "      <th>NAME</th>\n",
       "      <th>TRIPS</th>\n",
       "      <th>BIKE_STANDS</th>\n",
       "    </tr>\n",
       "  </thead>\n",
       "  <tbody>\n",
       "    <tr>\n",
       "      <th>67</th>\n",
       "      <td>GRAND CANAL DOCK</td>\n",
       "      <td>18125.0</td>\n",
       "      <td>40</td>\n",
       "    </tr>\n",
       "    <tr>\n",
       "      <th>4</th>\n",
       "      <td>CHARLEMONT PLACE</td>\n",
       "      <td>18076.0</td>\n",
       "      <td>40</td>\n",
       "    </tr>\n",
       "    <tr>\n",
       "      <th>32</th>\n",
       "      <td>PRINCES STREET / O'CONNELL STREET</td>\n",
       "      <td>17862.0</td>\n",
       "      <td>23</td>\n",
       "    </tr>\n",
       "    <tr>\n",
       "      <th>33</th>\n",
       "      <td>PORTOBELLO HARBOUR</td>\n",
       "      <td>16461.0</td>\n",
       "      <td>30</td>\n",
       "    </tr>\n",
       "    <tr>\n",
       "      <th>8</th>\n",
       "      <td>EXCHEQUER STREET</td>\n",
       "      <td>15959.0</td>\n",
       "      <td>24</td>\n",
       "    </tr>\n",
       "    <tr>\n",
       "      <th>27</th>\n",
       "      <td>MOUNTJOY SQUARE WEST</td>\n",
       "      <td>15871.0</td>\n",
       "      <td>30</td>\n",
       "    </tr>\n",
       "    <tr>\n",
       "      <th>13</th>\n",
       "      <td>FOWNES STREET UPPER</td>\n",
       "      <td>15634.0</td>\n",
       "      <td>30</td>\n",
       "    </tr>\n",
       "    <tr>\n",
       "      <th>56</th>\n",
       "      <td>SIR PATRICK DUN'S</td>\n",
       "      <td>15545.0</td>\n",
       "      <td>40</td>\n",
       "    </tr>\n",
       "    <tr>\n",
       "      <th>64</th>\n",
       "      <td>NEW CENTRAL BANK</td>\n",
       "      <td>15215.0</td>\n",
       "      <td>40</td>\n",
       "    </tr>\n",
       "    <tr>\n",
       "      <th>66</th>\n",
       "      <td>HANOVER QUAY</td>\n",
       "      <td>14245.0</td>\n",
       "      <td>40</td>\n",
       "    </tr>\n",
       "  </tbody>\n",
       "</table>\n",
       "</div>"
      ],
      "text/plain": [
       "                                 NAME    TRIPS  BIKE_STANDS\n",
       "67                   GRAND CANAL DOCK  18125.0           40\n",
       "4                    CHARLEMONT PLACE  18076.0           40\n",
       "32  PRINCES STREET / O'CONNELL STREET  17862.0           23\n",
       "33                 PORTOBELLO HARBOUR  16461.0           30\n",
       "8                    EXCHEQUER STREET  15959.0           24\n",
       "27               MOUNTJOY SQUARE WEST  15871.0           30\n",
       "13                FOWNES STREET UPPER  15634.0           30\n",
       "56                  SIR PATRICK DUN'S  15545.0           40\n",
       "64                   NEW CENTRAL BANK  15215.0           40\n",
       "66                       HANOVER QUAY  14245.0           40"
      ]
     },
     "execution_count": 78,
     "metadata": {},
     "output_type": "execute_result"
    }
   ],
   "source": [
    "trip_by_station_dublin = bike_usage.groupby(['STATION ID'])['TRIPS'].sum().reset_index()\n",
    "                         \n",
    "trip_by_station_dublin_join = pd.merge(trip_by_station_dublin, dublin_bike_stations, how='inner', on='STATION ID').sort_values(by = 'TRIPS', ascending = False).head(10)\n",
    "trip_by_station_dublin_join[['NAME','TRIPS','BIKE_STANDS']]\n"
   ]
  },
  {
   "cell_type": "code",
   "execution_count": 88,
   "id": "acc7a71a-697a-4cb1-b1be-48d4a2781c94",
   "metadata": {},
   "outputs": [
    {
     "data": {
      "text/html": [
       "<div>\n",
       "<style scoped>\n",
       "    .dataframe tbody tr th:only-of-type {\n",
       "        vertical-align: middle;\n",
       "    }\n",
       "\n",
       "    .dataframe tbody tr th {\n",
       "        vertical-align: top;\n",
       "    }\n",
       "\n",
       "    .dataframe thead th {\n",
       "        text-align: right;\n",
       "    }\n",
       "</style>\n",
       "<table border=\"1\" class=\"dataframe\">\n",
       "  <thead>\n",
       "    <tr style=\"text-align: right;\">\n",
       "      <th></th>\n",
       "      <th>start_station_id</th>\n",
       "      <th>TRIPS</th>\n",
       "    </tr>\n",
       "  </thead>\n",
       "  <tbody>\n",
       "    <tr>\n",
       "      <th>759</th>\n",
       "      <td>Unknown Station</td>\n",
       "      <td>354155</td>\n",
       "    </tr>\n",
       "    <tr>\n",
       "      <th>370</th>\n",
       "      <td>31623.0</td>\n",
       "      <td>40337</td>\n",
       "    </tr>\n",
       "    <tr>\n",
       "      <th>167</th>\n",
       "      <td>31229.0</td>\n",
       "      <td>36007</td>\n",
       "    </tr>\n",
       "    <tr>\n",
       "      <th>139</th>\n",
       "      <td>31201.0</td>\n",
       "      <td>32645</td>\n",
       "    </tr>\n",
       "    <tr>\n",
       "      <th>196</th>\n",
       "      <td>31258.0</td>\n",
       "      <td>30490</td>\n",
       "    </tr>\n",
       "    <tr>\n",
       "      <th>348</th>\n",
       "      <td>31600.0</td>\n",
       "      <td>30086</td>\n",
       "    </tr>\n",
       "    <tr>\n",
       "      <th>361</th>\n",
       "      <td>31613.0</td>\n",
       "      <td>29888</td>\n",
       "    </tr>\n",
       "    <tr>\n",
       "      <th>351</th>\n",
       "      <td>31603.0</td>\n",
       "      <td>29721</td>\n",
       "    </tr>\n",
       "    <tr>\n",
       "      <th>185</th>\n",
       "      <td>31247.0</td>\n",
       "      <td>29014</td>\n",
       "    </tr>\n",
       "    <tr>\n",
       "      <th>101</th>\n",
       "      <td>31101.0</td>\n",
       "      <td>28858</td>\n",
       "    </tr>\n",
       "  </tbody>\n",
       "</table>\n",
       "</div>"
      ],
      "text/plain": [
       "    start_station_id   TRIPS\n",
       "759  Unknown Station  354155\n",
       "370          31623.0   40337\n",
       "167          31229.0   36007\n",
       "139          31201.0   32645\n",
       "196          31258.0   30490\n",
       "348          31600.0   30086\n",
       "361          31613.0   29888\n",
       "351          31603.0   29721\n",
       "185          31247.0   29014\n",
       "101          31101.0   28858"
      ]
     },
     "execution_count": 88,
     "metadata": {},
     "output_type": "execute_result"
    }
   ],
   "source": [
    "trip_by_station_capital = capital_df.groupby(['start_station_id'])['TRIPS'].sum().reset_index().sort_values(by='TRIPS', ascending = False)\n",
    "trip_by_station_capital.head(10)"
   ]
  },
  {
   "cell_type": "code",
   "execution_count": 46,
   "id": "a80e1aa3-d380-4a44-b014-0e6aa7321e6f",
   "metadata": {},
   "outputs": [
    {
     "data": {
      "image/png": "[encoded data removed]",
      "text/plain": [
       "<Figure size 1500x500 with 2 Axes>"
      ]
     },
     "metadata": {},
     "output_type": "display_data"
    }
   ],
   "source": [
    "import seaborn as sns\n",
    "import matplotlib.pyplot as plt\n",
    "\n",
    "\n",
    "# Group the Dublin data by station ID and calculate the sum of trips\n",
    "trip_by_station_dublin = bike_usage.groupby(['STATION ID'])['TRIPS'].sum().reset_index()\n",
    "\n",
    "# Group the Capital data by start_station_id and calculate the sum of trips\n",
    "trip_by_station_capital = capital_df.groupby(['start_station_id'])['TRIPS'].sum().reset_index()\n",
    "\n",
    "# Create a new figure with two subplots\n",
    "fig, axes = plt.subplots(1, 2, figsize=(15, 5))\n",
    "\n",
    "# Plot the distribution of trips for Dublin data\n",
    "sns.boxplot(trip_by_station_dublin[\"TRIPS\"], ax=axes[0])\n",
    "axes[0].set_title(\"Dublin Bike Usage Boxplot\")\n",
    "\n",
    "# Plot the boxplot of trips for Capital data\n",
    "sns.boxplot(x=trip_by_station_capital['TRIPS'], ax=axes[1])\n",
    "axes[1].set_title(\"Capital Bike Usage Boxplot\")\n",
    "\n",
    "# Show the figure\n",
    "fig.show()\n",
    "\n"
   ]
  },
  {
   "cell_type": "code",
   "execution_count": null,
   "id": "bdca4385-8bc1-43a0-a20b-a1133349d2a4",
   "metadata": {},
   "outputs": [],
   "source": [
    "# Create a figure with 3 rows and 3 columns\n",
    "\n",
    "# Plot the distributions on the subplots\n",
    "sns.distplot(population_df['West'], ax=axes[0, 2])\n",
    "sns.distplot(population_df['Dublin'], ax=axes[1, 0])\n",
    "sns.distplot(population_df['Mid-East'], ax=axes[1, 1])\n",
    "sns.distplot(population_df['Mid-West'], ax=axes[1, 2])\n",
    "sns.distplot(population_df['South-East'], ax=axes[2, 0])\n",
    "sns.distplot(population_df['South-West'], ax=axes[2, 1])\n",
    "sns.distplot(population_df['Total'], ax=axes[2, 2])\n",
    "\n",
    "\n",
    "# Tighten the layout of the subplots\n",
    "plt.tight_layout()\n",
    "\n",
    "plt.show()"
   ]
  },
  {
   "cell_type": "code",
   "execution_count": null,
   "id": "ae1eb964-c03e-40b4-ad41-7bd66cbff386",
   "metadata": {},
   "outputs": [],
   "source": [
    "import plotly.express as px\n",
    "color_mapper = {\"OPEN\": \"#7CFC00\", \"CLOSED\": \"#DF0030\"}\n",
    "\n",
    "fig = px.scatter_mapbox(dublin_bike_stations, \n",
    "                        lat=\"LATITUDE\",\n",
    "                        lon=\"LONGITUDE\", \n",
    "                        color=\"STATUS\", \n",
    "                        size=\"BIKE_STANDS\", \n",
    "                        color_discrete_map=color_mapper,\n",
    "                        size_max=15, \n",
    "                        zoom=12, \n",
    "                        hover_data=[\"BIKE_STANDS\"],\n",
    "                        mapbox_style=\"open-street-map\")\n",
    "\n",
    "# Update layout for larger figure size\n",
    "fig.update_layout(\n",
    "    title=\"Bike Stations in Dublin\",\n",
    "    autosize=False,\n",
    "    width=1200, \n",
    "    height=600,  \n",
    ")\n",
    "fig.show()"
   ]
  },
  {
   "cell_type": "code",
   "execution_count": null,
   "id": "fdc0a85e-395b-4690-bbc1-fd2b7a88d115",
   "metadata": {},
   "outputs": [],
   "source": [
    "import plotly.express as px\n",
    "\n",
    "\n",
    "fig = px.scatter_mapbox(capital_stations, \n",
    "                        lat=\"lat\",\n",
    "                        lon=\"long\", \n",
    "                        size_max=15, \n",
    "                        zoom=12, \n",
    "                        hover_data=[\"station_name\"],\n",
    "                        mapbox_style=\"open-street-map\")\n",
    "\n",
    "# Update layout for larger figure size\n",
    "fig.update_layout(\n",
    "    title=\"Bike Stations  - Washington DC\",\n",
    "    autosize=False,\n",
    "    width=1200, \n",
    "    height=600,  \n",
    ")\n",
    "fig.show()"
   ]
  },
  {
   "cell_type": "markdown",
   "id": "759b2bd0-d00d-4e76-ac71-9dd52b53eff7",
   "metadata": {
    "tags": []
   },
   "source": [
    "# Number of trips by weekday and By month - comparing both datasets\n",
    "The best approach to perform these chart, is using a dinamic apresentation, and for this purpose, a dashboart using dash and plotly was created"
   ]
  },
  {
   "cell_type": "code",
   "execution_count": 77,
   "id": "9e9b2dc2-e1db-48fd-bca9-10f8e34aee9d",
   "metadata": {},
   "outputs": [
    {
     "data": {
      "text/html": [
       "\n",
       "        <iframe\n",
       "            width=\"100%\"\n",
       "            height=\"650\"\n",
       "            src=\"http://127.0.0.1:8050/\"\n",
       "            frameborder=\"0\"\n",
       "            allowfullscreen\n",
       "            \n",
       "        ></iframe>\n",
       "        "
      ],
      "text/plain": [
       "<IPython.lib.display.IFrame at 0x29383d8fee0>"
      ]
     },
     "metadata": {},
     "output_type": "display_data"
    }
   ],
   "source": [
    "import dash\n",
    "from dash import dcc\n",
    "from dash import html\n",
    "from dash.dependencies import Input,Output\n",
    "import plotly.express as px\n",
    "from plotly.subplots import make_subplots\n",
    "import plotly.graph_objects as go\n",
    "\n",
    "\n",
    "\n",
    "\n",
    "\n",
    "# Prepare the Plot for Dublin\n",
    "bike_usage['WEEKDAY'] = bike_usage['TIME'].dt.weekday\n",
    "dublin_weekady = bike_usage.groupby(['WEEKDAY']).agg(BIKE_STANDS=('BIKE_STANDS', 'sum'), \n",
    "                                         TRIPS=('TRIPS', 'sum')).reset_index().sort_values('WEEKDAY', ascending=True)\n",
    "# reneame the weedkday using a mpa \n",
    "dublin_weekady['WEEKDAY'] = dublin_weekady['WEEKDAY'].map({0:'Mon', 1:'Tue', 2:'Wed', 3:'Thu', 4:'Fri', 5:'Sat', 6:'Sun'})\n",
    "\n",
    "\n",
    "# Prepare Weekday dataset\n",
    "capital_df['WEEKDAY'] = capital_df['started_at'].dt.weekday\n",
    "\n",
    "\n",
    "capital_weekady = capital_df.groupby(['WEEKDAY']).agg(TRIPS=('TRIPS', 'sum')).reset_index().sort_values('WEEKDAY', ascending=True)\n",
    "\n",
    "\n",
    "# reneame the weedkday using a mpa \n",
    "capital_weekady['WEEKDAY'] = capital_weekady['WEEKDAY'].map({0:'Mon', 1:'Tue', 2:'Wed', 3:'Thu', 4:'Fri', 5:'Sat', 6:'Sun'})\n",
    "\n",
    "\n",
    "# Build App\n",
    "app = dash.Dash(__name__)\n",
    "\n",
    "Location = ['Dublin', \"Washingtom DC\",]\n",
    "app.layout = html.Div([\n",
    "    html.H1(\"Trips by WeekDay and Location\"),\n",
    "    dcc.Graph(id='graph'),\n",
    "    \n",
    "    # create a dropdown\n",
    "    html.Label([ \"Location\",\n",
    "                \n",
    "            dcc.RadioItems(\n",
    "            id='day-dropdown',\n",
    "            # Select the unique days in dataframe\n",
    "            value='Dublin', options=[\n",
    "                {'label': loc, 'value': loc}\n",
    "                for loc in Location\n",
    "            ]\n",
    "        )\n",
    "    ]),\n",
    "])\n",
    "\n",
    "\n",
    "# Define callback to update graph\n",
    "@app.callback(\n",
    "     \n",
    "    Output('graph', 'figure'),\n",
    "    [Input(\"day-dropdown\", \"value\")]\n",
    "    \n",
    "   \n",
    ")\n",
    "\n",
    "# Function to return the chreated chart\n",
    "def update_figure(Location):\n",
    "    fig = make_subplots(rows=1, cols=2)\n",
    "    \n",
    "    # filter the dataframe    \n",
    "    if Location == \"Dublin\":\n",
    "        return px.bar(dublin_weekady, x='WEEKDAY', y='TRIPS', \n",
    "                     labels=dict(x='WEEKDAY', y='TRIPS'),\n",
    "                     title='Bike Usage by Weekday  - Dublin',\n",
    "                     width = 600, height = 500)\n",
    "    else:\n",
    "        \n",
    "        # Create Plots\n",
    "        return px.bar(capital_weekady, x='WEEKDAY', y='TRIPS', \n",
    "                             labels=dict(x='WEEKDAY', y='TRIPS'),\n",
    "                             title='Bike Usage by Weekday - Washingtom DC',\n",
    "                             width = 600, height = 500)\n",
    "        \n",
    "\n",
    "\n",
    "        \n",
    "# Run app and display result inline in the notebook\n",
    "app.run_server(mode='inline')\n",
    "\n"
   ]
  },
  {
   "cell_type": "markdown",
   "id": "d7483674-b747-441e-85bb-2618174df8e9",
   "metadata": {},
   "source": [
    "# Trips by Month and Location"
   ]
  },
  {
   "cell_type": "code",
   "execution_count": 112,
   "id": "3381e46f-e812-41c1-b169-6839b836af8f",
   "metadata": {},
   "outputs": [
    {
     "data": {
      "text/html": [
       "\n",
       "        <iframe\n",
       "            width=\"100%\"\n",
       "            height=\"650\"\n",
       "            src=\"http://127.0.0.1:8050/\"\n",
       "            frameborder=\"0\"\n",
       "            allowfullscreen\n",
       "            \n",
       "        ></iframe>\n",
       "        "
      ],
      "text/plain": [
       "<IPython.lib.display.IFrame at 0x29385990040>"
      ]
     },
     "metadata": {},
     "output_type": "display_data"
    }
   ],
   "source": [
    "\n",
    "# Prepare the Plot for Dublin\n",
    "bike_usage['MONTH'] = bike_usage['TIME'].dt.month\n",
    "dublin_month = bike_usage.groupby(['MONTH']).agg(TRIPS=('TRIPS', 'sum')).reset_index().sort_values('MONTH', ascending=True)\n",
    "# reneame the weedkday using a map\n",
    "dublin_month['MONTH'] = dublin_month['MONTH'].map({1: 'Jan', 2: 'Feb', 3: 'Mar', 4: 'Apr', 5: 'May', 6: 'Jun', 7: 'Jul', 8: 'Aug', 9: 'Sep', 10: 'Oct', 11: 'Nov', 12: 'Dec'})\n",
    "\n",
    "\n",
    "\n",
    "# Prepare Weekday dataset\n",
    "capital_df['MONTH'] = capital_df['started_at'].dt.month\n",
    "\n",
    "\n",
    "capital_month = capital_df.groupby(['MONTH']).agg(TRIPS=('TRIPS', 'sum')).reset_index().sort_values('MONTH', ascending=True)\n",
    "\n",
    "\n",
    "# reneame the weedkday using a mpa \n",
    "capital_month['MONTH'] = capital_month['MONTH'].map({1: 'Jan', 2: 'Feb', 3: 'Mar', 4: 'Apr', 5: 'May', 6: 'Jun', 7: 'Jul', 8: 'Aug', 9: 'Sep', 10: 'Oct', 11: 'Nov', 12: 'Dec'})\n",
    "\n",
    "\n",
    "app = dash.Dash(__name__)\n",
    "\n",
    "\n",
    "app.layout = html.Div([\n",
    "    html.H1(\"Trips by Month and Location\"),\n",
    "    dcc.Graph(id='month'),\n",
    "    \n",
    "    # create a dropdown\n",
    "    html.Label([ \"Location\",\n",
    "                \n",
    "            dcc.RadioItems(\n",
    "            id='day-dropdown',\n",
    "            # Select the unique days in dataframe\n",
    "            value='Dublin', options=[\n",
    "                {'label': loc, 'value': loc}\n",
    "                for loc in Location\n",
    "            ]\n",
    "        )\n",
    "    ]),\n",
    "])\n",
    "\n",
    "\n",
    "# Define callback to update graph\n",
    "@app.callback(\n",
    "     \n",
    "    Output('month', 'figure'),\n",
    "    [Input(\"day-dropdown\", \"value\")]\n",
    "    \n",
    "   \n",
    ")\n",
    "# Function to return the chreated chart\n",
    "def update_month(Location):\n",
    "        \n",
    "    # filter the dataframe    \n",
    "    if Location == \"Dublin\":\n",
    "        \n",
    "        return px.bar(dublin_month, x='MONTH', y='TRIPS', \n",
    "                     labels=dict(x='MONTH', y='TRIPS'),\n",
    "                     title='Bike Usage by Month  - Dublin',\n",
    "                     width = 600, height = 500)\n",
    "    else:\n",
    "        \n",
    "        # Create Plots\n",
    "        return px.bar(capital_month, x='MONTH', y='TRIPS', \n",
    "                             labels=dict(x='MONTH', y='TRIPS'),\n",
    "                             title='Bike Usage by Month - Washingtom DC',\n",
    "                             width = 600, height = 500)\n",
    "        \n",
    "\n",
    "\n",
    "# Run app and display result inline in the notebook\n",
    "app.run_server(mode='inline')\n",
    "\n",
    "        "
   ]
  }
 ],
 "metadata": {
  "kernelspec": {
   "display_name": "Python 3 (ipykernel)",
   "language": "python",
   "name": "python3"
  },
  "language_info": {
   "codemirror_mode": {
    "name": "ipython",
    "version": 3
   },
   "file_extension": ".py",
   "mimetype": "text/x-python",
   "name": "python",
   "nbconvert_exporter": "python",
   "pygments_lexer": "ipython3",
   "version": "3.9.12"
  }
 },
 "nbformat": 4,
 "nbformat_minor": 5
}
